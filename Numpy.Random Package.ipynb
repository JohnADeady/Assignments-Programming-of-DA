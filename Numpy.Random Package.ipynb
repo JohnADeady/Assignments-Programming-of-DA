{
 "cells": [
  {
   "cell_type": "markdown",
   "metadata": {},
   "source": [
    "<img src=\"https://upload.wikimedia.org/wikipedia/commons/1/1a/NumPy_logo.svg\" height=\"200\" width=\"600\">"
   ]
  },
  {
   "cell_type": "markdown",
   "metadata": {},
   "source": [
    "# NumPy Random Package Assignment"
   ]
  },
  {
   "cell_type": "markdown",
   "metadata": {},
   "source": [
    " The following assignment concerns the NumPy random package in Python. There are four tasks to be carried out in this Jupyter notebook.\n",
    "1. Explain the overall purpose of the package. \n",
    "2. Explain the use of the “Simple random data” and “Permutations” functions. \n",
    "3. Explain the use and purpose of at least ﬁve “Distributions” functions. \n",
    "4. Explain the use of seeds in generating pseudorandom numbers.\n"
   ]
  },
  {
   "cell_type": "markdown",
   "metadata": {
    "collapsed": true
   },
   "source": [
    "## Purpose of the NumPy Package"
   ]
  },
  {
   "cell_type": "markdown",
   "metadata": {},
   "source": [
    "Python is an object-oriented, high-level programming language with integrated dynamic semantics primarily for web and app development. It is extremely attractive in the field of Rapid Application Development because it offers dynamic typing and dynamic binding options [[Python]](https://www.pythonforbeginners.com/learn-python/what-is-python/)\n",
    "\n",
    "While NumPy or Numerical Python is a library for the Python programming language that provides efficient operation on arrays of homogeneous data. It allows Python to serve as a high-level language for manipulating numerical data [[Scipy]](https://www.scipy.org/scipylib/faq.html#what-is-numpy).\n",
    "\n",
    "NumPy enriches the programming language Python with powerful data structures, implementing multi-dimensional arrays and matrices. These data structures guarantee efficient calculations with matrices and arrays. [[Python]](https://www.python-course.eu/numpy.php)\n",
    "\n",
    "Python is a great general-purpose programming language on its own, but with the help of a few popular libraries (numpy, scipy, matplotlib) it becomes a powerful environment for scientific computing. [[Github]](http://cs231n.github.io/python-numpy-tutorial/)\n",
    "\n",
    "The ancestor of NumPy, Numeric, was originally created by Jim Hugunin with contributions from several other developers. In 2005, Travis Oliphant created NumPy by incorporating features of the competing Numarray into Numeric, with extensive modifications. NumPy is open-source software and has many contributors. [[Wiki]](https://en.wikipedia.org/wiki/NumPy)"
   ]
  },
  {
   "cell_type": "markdown",
   "metadata": {},
   "source": [
    "## Advantages"
   ]
  },
  {
   "cell_type": "markdown",
   "metadata": {},
   "source": [
    "NumPy has several advantages over using core Python mathemtatical functions, a few of which are outlined here:\n",
    "\n",
    "1.NumPy is extremely fast when compared to core Python thanks to its heavy use of C extensions.\n",
    "\n",
    "2.Many advanced Python libraries, such as Scikit-Learn, Scipy, and Keras, make extensive use of the NumPy library. Therefore, if you plan to pursue a career in data science or machine learning, NumPy is a very good tool to master.\n",
    "\n",
    "3.NumPy comes with a variety of built-in functionalities, which in core Python would take a fair bit of custom code. [[Stackabuse]](https://stackabuse.com/numpy-tutorial-a-simple-example-based-guide/#advantagesofnumpy )"
   ]
  },
  {
   "cell_type": "markdown",
   "metadata": {},
   "source": [
    "## Introduction"
   ]
  },
  {
   "cell_type": "markdown",
   "metadata": {},
   "source": [
    "This jupyter notebook is concerned with the random sampling function of NumPy. But first we will look at a simple python example and then compare this to NumPy a more quick and efficient way to run a dataset."
   ]
  },
  {
   "cell_type": "code",
   "execution_count": 1,
   "metadata": {},
   "outputs": [
    {
     "name": "stdout",
     "output_type": "stream",
     "text": [
      "[4, 5, 6, 7, 8]\n"
     ]
    }
   ],
   "source": [
    "# Create two variables X and Y  \n",
    "x = [2, 3, 4, 5, 6]      # x equals a list of numbers\n",
    "y = [a + 2 for a in x]   # y equals to x + 2  for a in x\n",
    "print(y)                 # print y"
   ]
  },
  {
   "cell_type": "markdown",
   "metadata": {},
   "source": [
    "Next we will import the NumPy library and we will call it np for shorthand:"
   ]
  },
  {
   "cell_type": "code",
   "execution_count": 2,
   "metadata": {},
   "outputs": [
    {
     "name": "stdout",
     "output_type": "stream",
     "text": [
      "[4 5 6 7 8]\n"
     ]
    }
   ],
   "source": [
    "# Create two variables X and Y  \n",
    "import numpy as np              # Import numpy library\n",
    "x = np.array([2, 3, 4, 5, 6])   # Let x equals np.array which includes list 2 to 6\n",
    "y = x + 2                       # Let y equals to x to 2\n",
    "print(y)                        # print y"
   ]
  },
  {
   "cell_type": "markdown",
   "metadata": {
    "collapsed": true
   },
   "source": [
    "By importing the NumPy library we can create a more compact array than a Python list and and faster than python code. This is one of the advantages of using np.arrray over normal python code."
   ]
  },
  {
   "cell_type": "markdown",
   "metadata": {},
   "source": [
    "## Simple Random Data"
   ]
  },
  {
   "cell_type": "markdown",
   "metadata": {},
   "source": [
    "We will now look at simple random data of NumPy. This is the most basic type of random code. \n",
    "\n",
    "We will run examples of random.rand, random.randint and random.sample and create histograms to graphy the output data"
   ]
  },
  {
   "cell_type": "markdown",
   "metadata": {},
   "source": [
    "#### Random.rand"
   ]
  },
  {
   "cell_type": "markdown",
   "metadata": {},
   "source": [
    "Random.rand creates an array of specified shape and fills it with random values."
   ]
  },
  {
   "cell_type": "code",
   "execution_count": 3,
   "metadata": {},
   "outputs": [
    {
     "name": "stdout",
     "output_type": "stream",
     "text": [
      "[ 0.86929775  0.07446167  0.0872101   0.18682576  0.0460933   0.87976087\n",
      "  0.10257991  0.08166962  0.04657709  0.04915352  0.7333212   0.97966968\n",
      "  0.25748526  0.72694541  0.36942379  0.33305637  0.70294521  0.2554471\n",
      "  0.95831786  0.93336704  0.89616621  0.09768017  0.23086551  0.99675378\n",
      "  0.96391875  0.98779755  0.70093802  0.25205634  0.90663342  0.41875192\n",
      "  0.1677302   0.08083437  0.76161018  0.54147116  0.22222201  0.75622677\n",
      "  0.97313195  0.74391118  0.78979655  0.56330917  0.56514691  0.90156784\n",
      "  0.8934063   0.85672315  0.04608439  0.58942352  0.81165796  0.29420124\n",
      "  0.36019549  0.21603368]\n",
      "[ 0.53681312  0.31859921  0.14239478  0.8227609   0.82138131  0.8954439\n",
      "  0.77376422  0.62242112  0.64096493  0.67482426  0.81682483  0.98960983\n",
      "  0.83287549  0.69613336  0.17687056  0.74398414  0.72631704  0.15277766\n",
      "  0.33226642  0.99112076  0.73870507  0.22547805  0.26265165  0.10194593\n",
      "  0.88346031  0.53174666  0.85217048  0.09562398  0.55236328  0.1490046\n",
      "  0.25866965  0.36817711  0.08321617  0.90022471  0.22522265  0.00722058\n",
      "  0.30985344  0.01921683  0.5105387   0.61505427  0.28465343  0.29290507\n",
      "  0.43232625  0.2076333   0.92657443  0.70105989  0.51999165  0.47931269\n",
      "  0.5495912   0.92881829]\n"
     ]
    }
   ],
   "source": [
    "# Use the random.rand function to generate random numbers between 0 and 1.\n",
    "N = 50                    # N equals the number of variables\n",
    "x = np.random.rand(N)       # x-axis\n",
    "y = np.random.rand(N)       # y-axis\n",
    "colors = np.random.rand(N)  # colours\n",
    "print(x)\n",
    "print(y)"
   ]
  },
  {
   "cell_type": "markdown",
   "metadata": {},
   "source": [
    "The rand functiion generates numbers between 0 to 1. The above example creates random 50 numers for x and y variables"
   ]
  },
  {
   "cell_type": "code",
   "execution_count": 4,
   "metadata": {},
   "outputs": [
    {
     "data": {
      "image/png": "[encoded data removed]",
      "text/plain": [
       "<matplotlib.figure.Figure at 0x16186591198>"
      ]
     },
     "metadata": {},
     "output_type": "display_data"
    }
   ],
   "source": [
    "# Display the array in a in plot format using matplotlib\n",
    "import matplotlib.pyplot as plt     # import matplotlib\n",
    "%matplotlib inline                  \n",
    "area = (15 * np.random.rand(N))**3  # Indicates size of the data points\n",
    "\n",
    "plt.scatter(x, y, s=area, c=colors, alpha=1.5)\n",
    "plt.title('Random Rand')\n",
    "plt.xlabel('Generate Numbers between 0 and 1')\n",
    "plt.ylabel('Generate Numbers between 0 and 1')\n",
    "plt.show()"
   ]
  },
  {
   "cell_type": "markdown",
   "metadata": {},
   "source": [
    "From the scatterplot, we can see the randomly generate numbers between 0 and 1 and all numbers are positive figures. . This is a convenience function. A convenience function is a non-essential subroutine in a programming library or framework which is intended to ease commonly performed tasks. [[Convenience]](https://en.wikipedia.org/wiki/Convenience_function) \n"
   ]
  },
  {
   "cell_type": "markdown",
   "metadata": {},
   "source": [
    "#### Random.randint"
   ]
  },
  {
   "cell_type": "code",
   "execution_count": 5,
   "metadata": {},
   "outputs": [
    {
     "data": {
      "text/plain": [
       "array([36, 34, 84, 56, 12, 57, 36, 80, 87, 20, 20, 65, 27, 99, 73, 50, 61,\n",
       "        6, 62, 66])"
      ]
     },
     "execution_count": 5,
     "metadata": {},
     "output_type": "execute_result"
    }
   ],
   "source": [
    "# Use the random.randint function to generate random numbers between 0 and 100.\n",
    "b = np.random.randint(101, size=20)\n",
    "b"
   ]
  },
  {
   "cell_type": "markdown",
   "metadata": {},
   "source": [
    "This list generates random numbers betweem 0 and 100 with an dsiplay of 10 integers."
   ]
  },
  {
   "cell_type": "code",
   "execution_count": 6,
   "metadata": {},
   "outputs": [
    {
     "data": {
      "text/plain": [
       "Text(0,0.5,'Size')"
      ]
     },
     "execution_count": 6,
     "metadata": {},
     "output_type": "execute_result"
    },
    {
     "data": {
      "image/png": "[encoded data removed]",
      "text/plain": [
       "<matplotlib.figure.Figure at 0x16185a18c18>"
      ]
     },
     "metadata": {},
     "output_type": "display_data"
    }
   ],
   "source": [
    "# Display the array in a in histogram format using matplotlib\n",
    "plt.plot(b)\n",
    "\n",
    "plt.title('Randit Function')                      # Title of Plot\n",
    "plt.xlabel('Numbers Generated')                   # X-axis title\n",
    "plt.ylabel('Size')                                # Y-axis title"
   ]
  },
  {
   "cell_type": "markdown",
   "metadata": {},
   "source": [
    "Similiar to the previous functio, we can see the randomly generate numbers between 0 and 100 on the y-axis. And again all numbers are positive intergers. The x-axis represents the size of these values on the X-axis"
   ]
  },
  {
   "cell_type": "code",
   "execution_count": 7,
   "metadata": {},
   "outputs": [
    {
     "data": {
      "text/plain": [
       "array([[ 2, 73, 71, 74, 47, 38, 14, 33, 54, 10],\n",
       "       [32, 39, 74, 83, 34, 31, 65, 44,  7, 76]])"
      ]
     },
     "execution_count": 7,
     "metadata": {},
     "output_type": "execute_result"
    }
   ],
   "source": [
    "# Use the random.randint function to generate random numbers between 0 and 100. Size two rows and ten numbers.\n",
    "c = np.random.randint(101, size=(2,10))     # 2D array using randit\n",
    "c"
   ]
  },
  {
   "cell_type": "markdown",
   "metadata": {},
   "source": [
    "This list generates random numbers betweem 0 and 100 with 2 arrays of 10 integers"
   ]
  },
  {
   "cell_type": "markdown",
   "metadata": {},
   "source": [
    "#### Sample"
   ]
  },
  {
   "cell_type": "code",
   "execution_count": 8,
   "metadata": {},
   "outputs": [
    {
     "data": {
      "text/plain": [
       "array([ 0.62214598,  0.37873976,  0.42963406,  0.52046147,  0.81498132,\n",
       "        0.08587717,  0.11143049,  0.33232625,  0.04185536,  0.19903449,\n",
       "        0.88449299,  0.55192206,  0.66228597,  0.2452167 ,  0.75846526,\n",
       "        0.47692347,  0.22394813,  0.51828533,  0.96332633,  0.07709732,\n",
       "        0.65738587,  0.33898864,  0.96716875,  0.33823795,  0.6214942 ,\n",
       "        0.90882486,  0.0078673 ,  0.00876653,  0.77913322,  0.20668976,\n",
       "        0.08753219,  0.44222364,  0.83263286,  0.82848803,  0.7886736 ,\n",
       "        0.20409752,  0.4218369 ,  0.9251417 ,  0.56861666,  0.97062597,\n",
       "        0.97377468,  0.19188125,  0.61107456,  0.04400741,  0.48717968,\n",
       "        0.09005061,  0.84087452,  0.60402186,  0.10620399,  0.24714452,\n",
       "        0.20619544])"
      ]
     },
     "execution_count": 8,
     "metadata": {},
     "output_type": "execute_result"
    }
   ],
   "source": [
    "# Use the random.random.sample to generate 51 numbers between 0 and 1.\n",
    "d = np.random.random_sample(51)\n",
    "d"
   ]
  },
  {
   "cell_type": "code",
   "execution_count": 9,
   "metadata": {},
   "outputs": [
    {
     "data": {
      "image/png": "[encoded data removed]",
      "text/plain": [
       "<matplotlib.figure.Figure at 0x16186a7fe48>"
      ]
     },
     "metadata": {},
     "output_type": "display_data"
    }
   ],
   "source": [
    "# This import registers the 3D projection, but is otherwise unused.\n",
    "from mpl_toolkits.mplot3d import Axes3D  # noqa: F401 unused import\n",
    "\n",
    "fig = plt.figure()\n",
    "ax = fig.gca(projection='3d')\n",
    "\n",
    "# Plot a sin curve using the x and y axes.\n",
    "x = np.linspace(0, 1, 100)\n",
    "y = np.sin(x * 2 * np.pi) / 2 + 0.5\n",
    "ax.plot(x, y, zs=0, zdir='z', label='curve in (x,y)')\n",
    "\n",
    "# Plot scatterplot data (20 2D points per colour) on the x and z axes.\n",
    "colors = ('r', 'g', 'b', 'k')\n",
    "\n",
    "x = np.random.sample(30 * len(colors))\n",
    "y = np.random.sample(30 * len(colors))\n",
    "c_list = []\n",
    "for c in colors:\n",
    "    c_list.extend([c] * 30)\n",
    "# By using zdir='y', the y value of these points is fixed to the zs value 0\n",
    "# and the (x,y) points are plotted on the x and z axes.\n",
    "ax.scatter(x, y, zs=0, zdir='y', c=c_list, label='points in (x,z)')\n",
    "\n",
    "# Make legend, set axes limits and labels\n",
    "ax.legend()\n",
    "ax.set_xlim(0, 1)\n",
    "ax.set_ylim(0, 1)\n",
    "ax.set_zlim(0, 1)\n",
    "ax.set_xlabel('X')\n",
    "ax.set_ylabel('Y')\n",
    "ax.set_zlabel('Z')\n",
    "\n",
    "# Customize the view angle so it's easier to see that the scatter points lie\n",
    "# on the plane y=0\n",
    "ax.view_init(elev=20., azim=-35)\n",
    "\n",
    "plt.show()                               # Y-axis title"
   ]
  },
  {
   "cell_type": "markdown",
   "metadata": {},
   "source": [
    "This is a 2D plot on a 3D plot. We create a sin curve on the using the X and Y axes. Next we plot a scatterplot data (20 2D points per colour) on the x and z axes using the random.sample function. a simple random sample is a subset of individuals (a sample) chosen from a larger set (a population). Each individual is chosen randomly and entirely by chance, such that each individual has the same probability of being chosen at any stage during the sampling process, and each subset of k individuals has the same probability of being chosen for the sample as any other subset of k individuals [[Sample]](https://en.wikipedia.org/wiki/Simple_random_sample). "
   ]
  },
  {
   "cell_type": "markdown",
   "metadata": {},
   "source": [
    "## Permuatations"
   ]
  },
  {
   "cell_type": "markdown",
   "metadata": {},
   "source": [
    "There are two sub-functions with permuatations. They are shuffle and permuatation. These are where a selection of objects in which the order of the objects matters. We will run both random.shuffle and random.permuatation."
   ]
  },
  {
   "cell_type": "markdown",
   "metadata": {},
   "source": [
    "#### Shuffle"
   ]
  },
  {
   "cell_type": "markdown",
   "metadata": {},
   "source": [
    "We use the itertool module to create a deck of cards. This function performs the Cartesian product of the two sequence. The two sequence are, numbers from 1 to 13 and the four suits. So, altogether we have 13 * 4 = 52 items in the deck with each card. [[Programiz]](https://www.programiz.com/python-programming/examples/shuffle-card)\n",
    "\n",
    "The deck is in order so we use the random.shuffle. This shuffle modifies a sequence in-place by shuffling its contents. This randomly shuffle the deck and pick a card at random from our deck."
   ]
  },
  {
   "cell_type": "code",
   "execution_count": 10,
   "metadata": {},
   "outputs": [
    {
     "name": "stdout",
     "output_type": "stream",
     "text": [
      "You got:\n",
      "8 of Diamonds\n"
     ]
    }
   ],
   "source": [
    "# Python program to shuffle a deck of card using the module random and draw 5 cards\n",
    "\n",
    "# make a deck of cards\n",
    "import itertools, random\n",
    "deck = list(itertools.product(range(1,14),['Spades','Hearts','Diamonds','Clubs'])) # Creates two sequence using itertools\n",
    "\n",
    "# shuffle the cards\n",
    "random.shuffle(deck)\n",
    "\n",
    "# draw five cards\n",
    "print(\"You got:\")\n",
    "for i in range(1):\n",
    "   print(deck[i][0], \"of\", deck[i][1])"
   ]
  },
  {
   "cell_type": "markdown",
   "metadata": {},
   "source": [
    "#### Permuatation"
   ]
  },
  {
   "cell_type": "code",
   "execution_count": 11,
   "metadata": {},
   "outputs": [
    {
     "data": {
      "text/plain": [
       "array([[14, 15, 16, 17, 18, 19, 20, 21, 22, 23, 24, 25, 26, 27],\n",
       "       [ 0,  1,  2,  3,  4,  5,  6,  7,  8,  9, 10, 11, 12, 13]])"
      ]
     },
     "execution_count": 11,
     "metadata": {},
     "output_type": "execute_result"
    }
   ],
   "source": [
    "arr = np.arange(28).reshape((2, 14))\n",
    "np.random.permutation(arr)"
   ]
  },
  {
   "cell_type": "markdown",
   "metadata": {},
   "source": [
    "The random.permuatation function randomly permute a sequence, or return a permuted range. A random permutation is a random ordering of a set of objects, that is, a permutation-valued random variable. The use of random permutations is often fundamental to fields that use randomized algorithms such as coding theory, cryptography, and simulation.[[Perm]](https://en.wikipedia.org/wiki/Random_permutation)"
   ]
  },
  {
   "cell_type": "markdown",
   "metadata": {},
   "source": [
    "## Distributions"
   ]
  },
  {
   "cell_type": "markdown",
   "metadata": {},
   "source": [
    "The distribution of a statistical data set (or a population) is a listing or function showing all the possible values (or intervals) of the data and how often they occur. The world of statistics includes dozens of different distributions for categorical and numerical data; the most common ones have their own names. One of the most well-known distributions is called the normal distribution, also known as the bell-shaped curv. [[Distribution]](https://www.dummies.com/education/math/statistics/what-the-distribution-tells-you-about-a-statistical-data-set/)\n",
    "\n",
    "We are going to look at the Normal, Poisson, Binomial, Pareto, Uniform and Power."
   ]
  },
  {
   "cell_type": "markdown",
   "metadata": {},
   "source": [
    "#### Normal"
   ]
  },
  {
   "cell_type": "markdown",
   "metadata": {},
   "source": [
    "We can draw random numbers from other probability distributions. For example, say we wanted to draw random samples from a Normal distribution with mean μ (mu)  and standard deviation σ (sigma).[[Normal]](http://justinbois.github.io/bootcamp/2016/lessons/l26_random_number_generation.html)\n",
    "\n",
    "We will create two histograms. One histogram with step curve that has a color fill and one histogram with custom and unequal bin widths. The normal distribution is the most important and most widely used distribution in statistics. It is sometimes called the \"bell curve. Many things closely follow a Normal Distribution:\n",
    "\n",
    "1. Heights of people\n",
    "2. Size of things produced by machines\n",
    "3. Errors in measurements\n",
    "4. Blood pressure\n",
    "5. Marks on a test \n",
    "[[Dist]](https://www.mathsisfun.com/data/standard-normal-distribution.html)"
   ]
  },
  {
   "cell_type": "code",
   "execution_count": 16,
   "metadata": {},
   "outputs": [
    {
     "data": {
      "image/png": "[encoded data removed]",
      "text/plain": [
       "<matplotlib.figure.Figure at 0x161872d07f0>"
      ]
     },
     "metadata": {},
     "output_type": "display_data"
    }
   ],
   "source": [
    "# Set parameters\n",
    "mu = 200                # Mean is equal to 200\n",
    "sigma = 25              # STD is equal to 25\n",
    "x = np.random.normal(mu, sigma, size=100) \n",
    "\n",
    "fig, (ax0, ax1) = plt.subplots(ncols=2, figsize=(12, 6))  # The size of each histogram\n",
    "\n",
    "ax0.hist(x, 40, density=True, histtype='stepfilled', facecolor='r', alpha=0.85)\n",
    "ax0.set_title('stepfilled')\n",
    "\n",
    "# Create a histogram by providing the bin edges (unequally spaced).\n",
    "bins = [100, 150, 180, 195, 205, 220, 250, 300]\n",
    "ax1.hist(x, bins, density=True, histtype='bar', rwidth=0.55)\n",
    "ax1.set_title('unequal bins')\n",
    "\n",
    "fig.tight_layout()\n",
    "plt.show()"
   ]
  },
  {
   "cell_type": "code",
   "execution_count": 17,
   "metadata": {},
   "outputs": [
    {
     "data": {
      "text/plain": [
       "(197.65736536722159, 24.19150898511781)"
      ]
     },
     "execution_count": 17,
     "metadata": {},
     "output_type": "execute_result"
    }
   ],
   "source": [
    "np.mean(x), np.std(x)"
   ]
  },
  {
   "cell_type": "markdown",
   "metadata": {},
   "source": [
    "#### Poisson Distribution"
   ]
  },
  {
   "cell_type": "markdown",
   "metadata": {
    "collapsed": true
   },
   "source": [
    "The Poisson distribution arises from situations in which there is a large number of opportunities for the event under scrutiny to occur but a small chance that it will occur on any one trial. [[Science]](https://www.sciencedirect.com/topics/biochemistry-genetics-and-molecular-biology/poisson-distribution)\n",
    "\n",
    "Poisson distribution is used for independent events which will occur at a constant rate within a given interval of time. This type of distribution is measured has happening or not happening therefore can only be measured in whole numbers. [[Tutorial]](https://www.tutorialspoint.com/python/python_poisson_distribution.htm)\n",
    "\n",
    "We are now going to look at real world problem. We are going to use this modelled to assess the number of bankruptcies filed in a year. If there is an average of 2 bankruptcies per hour and there is 8 hours per day by 5 days in week over 52 weeks. That gives us 2080 hours in the year. The Poisson distribution allows to estimate the most likely event of customers filing for bankruptcies.\n",
    "\n",
    "They are two variables lam and size. numpy.random.poisson(lam=1.0, size=None). The lam variable equals the mean and variance, i.e. the total number of events divided by the number of units in the data. The size variable will determine the amount of random samples called to the distribution"
   ]
  },
  {
   "cell_type": "code",
   "execution_count": 18,
   "metadata": {},
   "outputs": [
    {
     "data": {
      "image/png": "[encoded data removed]",
      "text/plain": [
       "<matplotlib.figure.Figure at 0x161874e0278>"
      ]
     },
     "metadata": {},
     "output_type": "display_data"
    }
   ],
   "source": [
    "# Estimate the possiblities of bankptcies in a given year.\n",
    "import numpy as np\n",
    "import matplotlib.pyplot as plt\n",
    "\n",
    "s = np.random.poisson(2, 2080)\n",
    "count, bins, ignored = plt.hist(s, 16, normed=True)\n",
    "plt.title('Poisson Distribution')                       # Title of Histogram\n",
    "plt.xlabel('Poisson')                                   # X-axis title\n",
    "plt.ylabel('Frequency')                                 # Y-axis title\n",
    "plt.show()"
   ]
  },
  {
   "cell_type": "code",
   "execution_count": 19,
   "metadata": {},
   "outputs": [
    {
     "name": "stdout",
     "output_type": "stream",
     "text": [
      "The mean is 1.95432692308\n",
      "The variance is 1.92147166235\n"
     ]
    }
   ],
   "source": [
    "print(\"The mean is\", np.mean(s)) # Calculating the mean of our Poisson distribution variable\n",
    "print(\"The variance is\", np.var(s))"
   ]
  },
  {
   "cell_type": "markdown",
   "metadata": {},
   "source": [
    "You can also use the Poisson Distribution to meansure the lam for different parameters."
   ]
  },
  {
   "cell_type": "code",
   "execution_count": 20,
   "metadata": {
    "scrolled": true
   },
   "outputs": [
    {
     "data": {
      "text/plain": [
       "array([[ 108,  483, 1028, 4907],\n",
       "       [  86,  472,  980, 5001],\n",
       "       [ 101,  508, 1002, 4942],\n",
       "       [  95,  512,  923, 4959],\n",
       "       [  91,  515, 1020, 4944],\n",
       "       [  96,  495, 1017, 5050],\n",
       "       [ 104,  497,  927, 5017],\n",
       "       [ 112,  527, 1054, 5089],\n",
       "       [  95,  484, 1053, 4918],\n",
       "       [ 115,  539, 1010, 4965],\n",
       "       [ 107,  511,  965, 4918],\n",
       "       [ 113,  492, 1023, 5044],\n",
       "       [ 108,  495, 1018, 4987],\n",
       "       [ 122,  529,  958, 4913],\n",
       "       [ 115,  550,  986, 4984],\n",
       "       [  99,  528, 1003, 5065],\n",
       "       [  86,  505, 1015, 5110],\n",
       "       [ 113,  476,  990, 4978],\n",
       "       [  98,  474, 1042, 5056],\n",
       "       [  95,  477,  997, 4940],\n",
       "       [  95,  499, 1040, 5079],\n",
       "       [  94,  498,  980, 4892],\n",
       "       [  98,  490,  956, 4911],\n",
       "       [ 108,  478,  980, 5015],\n",
       "       [  99,  467,  963, 4947],\n",
       "       [  97,  503, 1044, 4962],\n",
       "       [ 108,  487,  938, 5002],\n",
       "       [  89,  502,  994, 4971],\n",
       "       [ 102,  532,  949, 5050],\n",
       "       [ 104,  499,  946, 5026],\n",
       "       [  98,  487,  998, 5018],\n",
       "       [  88,  518, 1018, 5097],\n",
       "       [ 107,  471,  990, 4916],\n",
       "       [  88,  502, 1048, 4997],\n",
       "       [  82,  470,  975, 4957],\n",
       "       [  80,  472, 1006, 4807],\n",
       "       [  91,  476, 1036, 4993],\n",
       "       [ 104,  485, 1041, 5168],\n",
       "       [  90,  485, 1014, 4965],\n",
       "       [ 113,  516, 1063, 5046],\n",
       "       [  90,  509, 1025, 5040],\n",
       "       [ 113,  515, 1066, 5035],\n",
       "       [ 104,  520, 1005, 4840],\n",
       "       [ 111,  504,  983, 4939],\n",
       "       [  90,  468, 1004, 5065],\n",
       "       [  89,  536,  995, 4941],\n",
       "       [ 103,  480,  996, 4893],\n",
       "       [ 104,  481, 1051, 5017],\n",
       "       [  83,  488,  980, 5001],\n",
       "       [  83,  474, 1016, 4998],\n",
       "       [  90,  462, 1006, 4985],\n",
       "       [  94,  463, 1034, 5083],\n",
       "       [  98,  510,  968, 5029],\n",
       "       [ 118,  492,  955, 4963],\n",
       "       [ 109,  501, 1014, 4909],\n",
       "       [  97,  481,  952, 4976],\n",
       "       [ 116,  467,  987, 4977],\n",
       "       [ 129,  517, 1000, 5032],\n",
       "       [  78,  499,  976, 5094],\n",
       "       [  98,  505,  984, 4995],\n",
       "       [  87,  502, 1019, 5035],\n",
       "       [ 100,  478,  963, 5026],\n",
       "       [  91,  484,  987, 4965],\n",
       "       [  89,  477,  970, 5056],\n",
       "       [ 100,  496,  991, 5073],\n",
       "       [ 107,  495, 1035, 4984],\n",
       "       [  92,  448, 1041, 5096],\n",
       "       [ 114,  468,  971, 5067],\n",
       "       [ 105,  529, 1040, 5075],\n",
       "       [  96,  470,  978, 4914],\n",
       "       [  89,  504, 1050, 4977],\n",
       "       [ 115,  519,  945, 5172],\n",
       "       [  95,  512, 1037, 4972],\n",
       "       [  80,  496, 1003, 4889],\n",
       "       [  92,  489, 1031, 4891],\n",
       "       [ 112,  453,  992, 5105],\n",
       "       [ 110,  447,  974, 4895],\n",
       "       [  90,  501,  979, 5034],\n",
       "       [ 122,  539,  922, 4987],\n",
       "       [  95,  485,  982, 5035],\n",
       "       [ 105,  501, 1015, 4930],\n",
       "       [  90,  521,  980, 4950],\n",
       "       [  92,  490,  981, 5049],\n",
       "       [  96,  500,  971, 5003],\n",
       "       [ 104,  479,  993, 4961],\n",
       "       [ 104,  531,  983, 5095],\n",
       "       [  96,  472,  966, 4958],\n",
       "       [ 108,  510, 1019, 4917],\n",
       "       [ 107,  459, 1021, 4968],\n",
       "       [ 102,  529,  981, 4977],\n",
       "       [  84,  499, 1003, 4964],\n",
       "       [  93,  526, 1029, 5024],\n",
       "       [ 101,  576, 1043, 5047],\n",
       "       [ 103,  474,  966, 4955],\n",
       "       [ 102,  494,  975, 4993],\n",
       "       [ 101,  515,  987, 5047],\n",
       "       [  87,  498,  982, 4865],\n",
       "       [ 107,  474,  958, 4959],\n",
       "       [  85,  506, 1045, 4928],\n",
       "       [  85,  509,  933, 5093]])"
      ]
     },
     "execution_count": 20,
     "metadata": {},
     "output_type": "execute_result"
    }
   ],
   "source": [
    "# Draw each 100 values for lambda 100, 500, 1000 & 5000\n",
    "p = np.random.poisson(lam=(100, 500, 1000, 5000), size=(100, 4))\n",
    "p"
   ]
  },
  {
   "cell_type": "code",
   "execution_count": 21,
   "metadata": {},
   "outputs": [
    {
     "name": "stdout",
     "output_type": "stream",
     "text": [
      "The mean is 1646.585\n",
      "The variance is 3836780.22277\n"
     ]
    }
   ],
   "source": [
    "# And then call the mean and variance on them\n",
    "import numpy as np\n",
    "print(\"The mean is\", np.mean(p)) # Calculating the mean of Q\n",
    "print(\"The variance is\", np.var(p))"
   ]
  },
  {
   "cell_type": "markdown",
   "metadata": {},
   "source": [
    "#### Binomial"
   ]
  },
  {
   "cell_type": "markdown",
   "metadata": {},
   "source": [
    "A binomial experiment is a statistical experiment that has the following properties:\n",
    "\n",
    "1. The experiment consists of n repeated trials.\n",
    "2. Each trial can result in just two possible outcomes. We call one of these outcomes a success and the other, a failure.\n",
    "3. The probability of success, denoted by P, is the same on every trial.\n",
    "4. The trials are independent; that is, the outcome on one trial does not affect the outcome on other trials.\n",
    "\n",
    "Consider the following statistical experiment. You flip a coin 2 times and count the number of times the coin lands on heads. This is a binomial experiment because:\n",
    "\n",
    "1. The experiment consists of repeated trials. We flip a coin 2 times.\n",
    "2. Each trial can result in just two possible outcomes - heads or tails.\n",
    "3. The probability of success is constant - 0.5 on every trial.\n",
    "4. The trials are independent; that is, getting heads on one trial does not affect whether we get heads on other trials. [[Binomial]](https://stattrek.com/probability-distributions/binomial.aspx)\n"
   ]
  },
  {
   "cell_type": "markdown",
   "metadata": {
    "collapsed": true
   },
   "source": [
    "Let's look at a real-world problem. Suppose that a student is taking a multiple-choice exam in which each question has four choices.   Assuming that she has no knowledge of the correct to any of the questions, she has decided on a strategy in which she will place four balls (marked A, B, C, and D) into a box.   She randomly selects one ball for each question and replaces the ball in the box.   The marking on the ball will determine her answer to the question. Using this method, the probability of getting a correct answer would be 1/4 = .25 for each question.   This is a binomial situation with n=5 and p=.25.[[Stat]](http://www.stat.wmich.edu/s216/binom/binom.html)"
   ]
  },
  {
   "cell_type": "code",
   "execution_count": 22,
   "metadata": {},
   "outputs": [
    {
     "data": {
      "text/plain": [
       "array([1, 1, 0, 1, 3, 2, 0, 1, 1, 0, 0, 1, 2, 1, 2, 1, 2, 2, 2, 0])"
      ]
     },
     "execution_count": 22,
     "metadata": {},
     "output_type": "execute_result"
    }
   ],
   "source": [
    "n, p = 5, .25  # number of questions, probability of getting it correct\n",
    "r = np.random.binomial(n, p, 20) # Testing this 20 times\n",
    "r"
   ]
  },
  {
   "cell_type": "markdown",
   "metadata": {},
   "source": [
    "This randomly generates the results of getting each of the questions correct over 20 trials. These results can be seen below. The histogram shows for example patch 1 and 3 shows are the most popular results i.e either all wrong or two wrong all the most randomly predicted."
   ]
  },
  {
   "cell_type": "code",
   "execution_count": 23,
   "metadata": {},
   "outputs": [
    {
     "data": {
      "image/png": "[encoded data removed]",
      "text/plain": [
       "<matplotlib.figure.Figure at 0x161874a2860>"
      ]
     },
     "metadata": {},
     "output_type": "display_data"
    }
   ],
   "source": [
    "# Import matplotlib to create a histogram\n",
    "import matplotlib.pyplot as plt\n",
    "n, bins, patches = plt.hist(r, 15, normed=1, color='green')\n",
    "\n",
    "plt.title('Binomial Distribution')                       # Title of Histogram\n",
    "plt.xlabel('Binomial')                                   # X-axis title\n",
    "plt.ylabel('Frequency')                                  # Y- axis title          \n",
    "plt.show()                      "
   ]
  },
  {
   "cell_type": "markdown",
   "metadata": {},
   "source": [
    "#### Pareto"
   ]
  },
  {
   "cell_type": "markdown",
   "metadata": {},
   "source": [
    "The Pareto distribution, named after the Italian civil engineer, economist, and sociologist Vilfredo Pareto, is a power-law probability distribution that is used in description of social, scientific, geophysical, actuarial, and many other types of observable phenomena [[Pareto]](https://en.wikipedia.org/wiki/Pareto_distribution)\n",
    "\n",
    "The Pareto distribution is a skewed distribution with heavy, or “slowly decaying” tails (i.e. much of the data is in the tails).  It has two main applications:\n",
    "\n",
    "1. To model the distribution of incomes.\n",
    "2. To model the distribution of city populations.\n",
    "\n",
    "The Pareto Principle is derived from the Pareto distribution and is used to illustrate that many things are not distributed evenly. Originally written to state that 20% of the population holds 80% of the wealth, it can be applied more universally. For example, 1% of the population holds 99% of the wealth. However, it can be used to model any general situation where situations are not evenly distributed. For example, the top 20% of workers might produce 80% of output. [[Stat]](https://www.statisticshowto.datasciencecentral.com/pareto-distribution/)\n",
    "\n",
    "Let's use a real world problem to explain the Pareto Distribution. In business the 80% of our sales come from 20% of our customers."
   ]
  },
  {
   "cell_type": "code",
   "execution_count": 39,
   "metadata": {},
   "outputs": [
    {
     "name": "stdout",
     "output_type": "stream",
     "text": [
      "[ 112.30497003  108.10128444  117.03400502  106.57956376  111.26235982\n",
      "  101.59804018  100.35941402  122.59526949  103.53153505  108.02208672\n",
      "  113.67149351  100.27261304  136.2937829   118.63365172  101.39491849\n",
      "  106.04744249  102.65830041  116.04797721  100.49877169  114.32169216\n",
      "  103.66182981  123.65966833  102.26404144  146.86714867  110.61499862\n",
      "  119.11535695  105.50407513  102.0113252   107.85075621  103.44825838\n",
      "  100.58476701  103.67476995  102.35248897  101.94676519  100.9454494\n",
      "  106.42470065  104.7867113   100.90972779  103.8649663   123.7032036\n",
      "  113.61663122  102.0584272   107.01913152  103.51724801  100.60341967\n",
      "  108.20118425  102.11509721  108.45200996  129.18418007  101.9709254\n",
      "  102.04758178  145.228246    105.52116848  107.12973579  106.32020904\n",
      "  100.59308818  125.53695502  110.02567136  102.87419267  107.39518011\n",
      "  104.64382383  102.42012957  123.64033464  132.61317145  108.98212838\n",
      "  102.46951235  103.70178051  122.56786191  117.77937208  101.30205117\n",
      "  119.77463614  119.03158691  108.16602257  100.41137223  106.65778517\n",
      "  102.03286094  111.36142926  106.52891216  135.1578794   132.31536633\n",
      "  135.53261916  105.53160149  109.55559926  107.84530545  101.67368211\n",
      "  112.97116604  100.6280838   105.78071098  112.04942507  112.73723345\n",
      "  107.62257446  104.00424683  124.51018872  101.69540237  112.14517311\n",
      "  124.20420768  104.74434773  108.2243604   192.19867237  120.26891359\n",
      "  102.89692684  112.46904468  106.3590293   108.67858223  100.26032998\n",
      "  138.46691476  101.64052795  102.73563209  105.94786418  101.15990648\n",
      "  105.2360397   102.12614313  104.57105543  103.60964941  101.95395005\n",
      "  100.44516294  123.66266707  108.79970653  109.98245702  103.02428523\n",
      "  102.99043436  102.21206698  122.16223777  141.64404844  104.5001178\n",
      "  103.56574942  116.71203968  133.98553688  102.66109405  103.29376373\n",
      "  110.32040734  123.17196412  114.23990877  100.73211987  108.24437254\n",
      "  106.15235836  223.75698155  101.62916638  103.87805642  121.37096845\n",
      "  112.3356443   108.69883483  125.00407111  115.76190628  105.65854078\n",
      "  131.46475511  101.96202496  111.43831637  104.69508682  135.86714648\n",
      "  111.39151103  101.06027039  106.86971342  140.01067089  100.71341049\n",
      "  109.66818488  100.7265584   104.30942352  107.01529752  108.42426808\n",
      "  109.6816846   133.96320728  103.19363698  103.57703149  125.52132877\n",
      "  105.16450647  115.454498    103.27540154  114.51444882  101.12769971\n",
      "  102.20309714  105.95572782  103.21430974  100.43661205  101.13303431\n",
      "  109.22655311  111.96143233  100.45121676  107.58120713  105.35268034\n",
      "  103.64813301  118.68928925  126.5196383   115.06752629  104.04171292\n",
      "  105.54277724  115.58353861  100.72137062  100.52642521  121.46216782\n",
      "  102.91452319  107.65017517  102.86281171  100.44879535  101.37702004\n",
      "  113.50495303  103.31708884  110.42805915  117.23217987  113.219035\n",
      "  108.56008003  103.56486899  119.64172284  132.75457268  135.58673003\n",
      "  101.29170221  101.21888655  112.46379395  100.72549291  118.21521104\n",
      "  101.23318892  109.41411272  124.48117484  103.60731015  121.26630673\n",
      "  101.05033409  101.44465764  147.38547752  130.42772987  100.61421029\n",
      "  115.38739501  116.94128964  110.53231948  119.19431217  140.89223872\n",
      "  129.43768306  101.03875317  121.70794373  109.53582116  101.38898655\n",
      "  112.44482476  111.03232386  101.7358182   109.72734749  126.55390426\n",
      "  100.64743197  104.09938003  101.48134088  100.79441083  114.19304221\n",
      "  100.12182975  101.14108343  104.80770408  108.73618481  104.4420895\n",
      "  106.82427785  102.94283012  116.7603782   106.12083996  109.67821872\n",
      "  113.42233169  110.98030799  148.15261205  103.61237169  110.94240667\n",
      "  112.07165548  101.16571702  107.13437376  101.87093142  101.18112731\n",
      "  102.13784773  115.15564399  112.93349367  156.96615735  107.92757568\n",
      "  102.60391681  111.75459176  107.30790333  101.99714397  169.22532517\n",
      "  101.1345633   103.54187387  105.13973885  105.75511503  101.96819251\n",
      "  107.16504199  107.75916841  107.43869701  103.88275968  106.63193012\n",
      "  107.23574602  107.58253706  104.5638921   103.98010182  134.94918625\n",
      "  119.2069042   114.54852679  110.09206838  115.90192707  109.92196157\n",
      "  167.79980692  100.01236017  130.41024871  102.50326922  145.39780502\n",
      "  105.44372966  102.00735135  119.70162597  103.47575205  104.3676133\n",
      "  101.53107007  102.9083981   105.97637499  106.10861077  113.80216332\n",
      "  107.06979123  107.30145106  106.04298758  100.98485221  121.6663044\n",
      "  102.36901326  103.68784781  140.60615657  111.33103772  115.3036778\n",
      "  113.83529602  103.35368743  104.78895819  106.63840571  106.03868044\n",
      "  104.01272969  102.94088141  107.30583402  102.76951669  103.16428042\n",
      "  109.75640324  102.81459623  130.91263474  104.19432491  134.97937205\n",
      "  107.40099501  115.03479711  116.71112145  100.34502761  124.33317978\n",
      "  103.25120765  100.51765383  101.4562098   100.85019968  126.01239768\n",
      "  128.83087703  104.74692789  102.35079835  112.34516785  122.41965059\n",
      "  105.72486761  105.33422503  113.94690996  117.3867371   119.7447517\n",
      "  107.50108445  102.90681531  101.64507822  122.34161578  103.39484677\n",
      "  100.49235025  100.73669058  140.16835166  131.13211954  109.40791417\n",
      "  104.40683469  105.48509726  100.12771639  116.07861567  125.83369495\n",
      "  129.11839426  104.21098702  132.21402269  105.25663656  104.42867271\n",
      "  120.46506823  100.67440977  108.99996017  118.76284128  106.83796973\n",
      "  113.55190472  121.26062733  109.94659062  101.32236136  103.13004345\n",
      "  102.2864138   112.7635716   103.31348405  108.50772965  108.67678756\n",
      "  125.7344434   123.91883255  115.41800631  116.27116012  113.37501336\n",
      "  106.69772041  120.43217419  103.45501286  101.4244142   105.03474435\n",
      "  139.3513797   101.14400869  104.22885855  121.86546094  110.99685267\n",
      "  100.2638481   103.66121644  118.70503225  120.50078197  105.56938628\n",
      "  100.03672124  105.16859151  120.16465589  101.12692868  107.78440622\n",
      "  126.8618229   101.12639932  103.36142468  104.19198689  107.00152926\n",
      "  112.88147949  118.73750404  101.88718599  114.03115926  105.52992528\n",
      "  116.91211812  100.49017696  105.09053014  112.32783822  102.80968083\n",
      "  110.50127839  110.25982555  108.58718078  109.30072921  119.31109512\n",
      "  102.89368799  122.26561731  115.0313509   120.93482118  129.40097795\n",
      "  111.41770205  110.5753651   105.716975    117.32000889  105.22367955\n",
      "  106.73847911  132.47688101  121.71956935  101.32115166  100.06321165\n",
      "  104.58806775  100.86793147  110.66643372  100.18800628  103.21236256\n",
      "  125.55728008  116.8533854   108.08079284  112.01508994  126.87520629\n",
      "  104.5763213   105.16123247  118.05622836  105.16263092  101.49882387\n",
      "  105.23755913  101.74164286  101.0939653   103.09172784  103.17171006\n",
      "  113.90950171  105.36212551  104.44385334  107.12716259  102.73972736\n",
      "  134.65902471  100.86591941  110.30687855  121.80019007  109.62930856\n",
      "  100.97356671  108.10918844  103.61144178  123.94239453  109.17971521\n",
      "  107.91882492  107.40201106  114.45541362  113.54274302  100.97174613\n",
      "  105.19382915  119.34626464  106.35458641  105.24994499  105.84899705\n",
      "  109.31495892  106.51193033  116.45490678  100.79773858  114.52896282\n",
      "  123.25590181  118.97868249  103.64454004  105.71331794  100.44930805\n",
      "  102.72044021  102.23016968  101.256789    100.05835416  103.39133034\n",
      "  120.95878842  111.34038791  102.46233478  104.70838515  106.14351799\n",
      "  101.83609976  132.70048486  103.86973944  110.16740077  100.54750023\n",
      "  105.45767481  101.44861037  101.83267734  139.88884131  119.99777304\n",
      "  106.96108751  112.11868006  106.32623535  104.54873851  123.80880112\n",
      "  112.54114084  105.58423361  114.03077933  100.91424646  102.62794288\n",
      "  101.92173534  102.00028905  103.69686864  104.39767851  103.50608893\n",
      "  101.26719933  110.6455071   100.01410205  108.33856817  107.52385891\n",
      "  110.08792521  104.91430268  107.67214696  103.43309234  111.70575223\n",
      "  122.26835125  122.02106864  105.99109451  137.59402042  112.22069733\n",
      "  102.93208574  103.37107628  112.04642733  119.26395965  115.11899842\n",
      "  102.74338432  105.4104433   104.20698761  112.52983941  122.0331429\n",
      "  104.40580636  105.59362855  123.4540146   112.0754243   100.34448614\n",
      "  110.28385805  102.53413683  121.24768033  102.15552713  101.61340456\n",
      "  104.41362221  106.78214772  105.51041433  116.48592821  114.74537801\n",
      "  100.10803808  151.57400489  108.54319331  101.48156103  109.09896757\n",
      "  113.75162514  110.84231652  109.80908329  127.11334318  123.27125782\n",
      "  102.03770994  102.45476858  100.63972942  113.43023171  104.14186905\n",
      "  109.57475881  125.82313109  125.1621449   121.70953423  104.53904871\n",
      "  103.41288774  109.16592682  100.75809285  123.34110409  106.74377292\n",
      "  129.59779497  101.47174254  105.95712769  110.47698812  109.07955736\n",
      "  114.289281    124.49397129  108.06807618  113.45686299  102.09127648\n",
      "  108.62711261  104.36943431  101.75928426  106.22732129  106.81842201\n",
      "  100.12825032  107.94364177  110.90237656  105.76876363  105.7334027\n",
      "  100.88983817  122.39925631  129.95205301  109.88348318  101.46371528\n",
      "  106.15941499  112.81025758  101.34866958  107.49224681  100.27792446\n",
      "  105.88499847  100.005926    116.04384615  109.94932055  101.01247475\n",
      "  100.71060091  101.48182218  141.01978768  125.83896275  103.95850828\n",
      "  101.70129864  161.65806221  101.42748694  102.8301595   102.83074498\n",
      "  104.66341886  110.88703788  119.46018254  100.13005601  105.64171165\n",
      "  137.72857345  105.01109632  133.25323823  116.69966296  117.23748502\n",
      "  112.5230815   101.02156545  123.20879033  122.24757619  100.98584257\n",
      "  106.88621971  103.28429942  107.83063958  101.22565574  121.88169523\n",
      "  118.85945161  105.76325599  100.38540687  125.44525384  102.47614612\n",
      "  110.90026896  111.62241641  100.13776191  104.28671708  101.86181068\n",
      "  102.42126045  116.37978168  104.75953702  104.58498033  129.42479563\n",
      "  108.79830285  100.8266392   101.6102431   128.21894696  140.28718823\n",
      "  106.53430594  105.49139187  129.97204694  104.54758791  106.93181042\n",
      "  101.06639005  102.94804793  128.21536481  108.52719843  104.54768535\n",
      "  106.74020913  131.67947634  102.96707711  104.30042495  100.77706804\n",
      "  108.16084712  109.28849491  101.19988852  103.19465932  112.41553556\n",
      "  123.55428902  107.11376729  112.65734197  108.60899721  101.85881143\n",
      "  121.10902295  106.25188416  103.01569124  139.34998034  110.72933574\n",
      "  100.65565336  123.75119099  102.41653725  100.62334482  145.71791947\n",
      "  109.90685672  102.97783635  101.42785875  127.21808969  101.29083159\n",
      "  110.73703194  105.34422507  104.36772967  107.68846598  107.17954044\n",
      "  103.31196823  116.50450383  103.28312535  108.48464373  102.17038321\n",
      "  104.10694036  100.50241558  100.56434975  105.21665217  105.63775407\n",
      "  124.16695616  105.93562709  117.92799397  108.57756155  109.64826795\n",
      "  109.98457904  111.51674817  122.6544251   122.96016192  118.92904267\n",
      "  118.38595953  104.74953782  114.78799056  136.79322623  101.96991208\n",
      "  103.23063687  109.70189188  115.33222795  109.50875867  104.4023912\n",
      "  104.18712824  145.10254025  101.79099929  106.1427373   116.65164434\n",
      "  158.19527481  101.18736449  105.92753626  100.52457699  105.4209223\n",
      "  116.76381632  130.15858483  125.39110739  118.06535158  112.74930241\n",
      "  104.63850127  101.81960902  103.95462779  115.45594651  109.22981941\n",
      "  114.42210883  101.27439266  101.72994427  133.97788785  114.55016542\n",
      "  104.85804767  110.73832886  104.65740113  180.51128611  105.28894872\n",
      "  110.89026745  119.06722073  101.35391319  113.89640318  116.14862273\n",
      "  148.10563439  114.24598191  103.7827765   103.23128903  135.82601539\n",
      "  107.65314802  106.15392614  112.84060831  101.63019765  105.17201268\n",
      "  102.93847517  102.2262592   110.6190743   112.57685775  115.63829362\n",
      "  107.14947631  113.5609548   103.9349635   110.02238107  107.50126069\n",
      "  117.46406834  105.10481983  103.22604018  113.00184787  115.67871594\n",
      "  112.851765    102.89204683  107.87465569  107.30004701  110.1247314\n",
      "  104.04608647  138.80208558  104.2081291   101.24167437  125.21338527\n",
      "  104.06531465  116.853063    100.10652188  116.97614309  120.632209\n",
      "  118.34802516  103.64714329  101.0406707   121.17072566  103.86698498\n",
      "  115.915081    107.87989157  113.94581123  115.8794614   100.0317513\n",
      "  120.45522309  113.64643598  103.43508428  100.7881663   100.09392571\n",
      "  110.39218057  105.74288778  101.68994891  100.19012279  103.72222193\n",
      "  103.11517373  109.55778915  102.12758542  126.60768514  103.32829418\n",
      "  101.74992083  105.81378473  142.4340927   110.75014989  127.94628201\n",
      "  100.58767727  115.56449737  155.03084911  105.21456889  122.11916613\n",
      "  105.04677668  133.0124304   124.2302846   100.0336844   152.47362187\n",
      "  105.87085294  103.45148255  107.60960824  114.63501128  103.35018694\n",
      "  102.80696188  111.08274995  107.11515898  114.37278688  100.85375326\n",
      "  100.12412093  116.35335484  104.22054694  104.58452803  110.32788903\n",
      "  105.91880051  110.09239157  117.01497571  107.13398724  102.67592998\n",
      "  100.14435284  103.98832247  100.54473837  108.20401884  105.99808019\n",
      "  116.343972    115.93954897  100.49972999  103.65095152  101.86126359\n",
      "  101.19219308  109.82470836  103.01394346  106.6086505   123.84512583\n",
      "  148.7285298   105.47490317  116.20231804  170.22638077  107.02529957\n",
      "  101.26441265  103.83471277  104.8240914   141.43341371  133.06272933\n",
      "  104.04903316  167.63363338  101.01904038  107.80568232  114.15857526\n",
      "  127.85459034  101.39130269  113.31694743  110.37426418  114.38870237\n",
      "  106.38722828  100.19202252  118.84888563  107.45129744  100.81726366\n",
      "  104.40141558  100.83294791  133.71186244  100.06651474  103.89449699\n",
      "  102.17051266  120.29897007  101.63249762  116.79400745  138.35617657\n",
      "  101.68252722  101.40651826  102.04226392  103.25870251  130.12489241\n",
      "  106.36020602  106.74301786  108.04140141  111.71639165  118.1675325\n",
      "  107.19486448  118.80287794  111.38725337  108.93777101  115.24144617\n",
      "  115.06882917  108.43884903  104.58486067  113.51216561  100.63424881\n",
      "  103.29913455  106.10781029  109.01220339  108.21482439  111.89728944\n",
      "  102.32682922  111.29514329  101.49133319  138.29718766  105.22437132\n",
      "  107.76974885  102.77006473  108.36513297  104.10762549  114.60624241\n",
      "  102.26700729  175.08227116  101.58246334  116.6458247   109.2371416\n",
      "  102.59066252  111.89927253  117.54916934  102.82691867  105.82357375\n",
      "  100.26848817  100.68060428  106.77234817  115.626187    104.70859334\n",
      "  124.69461736  103.1538724   107.16654672  105.19940898  118.87713817]\n"
     ]
    }
   ],
   "source": [
    "# Print random numbers for a pareto distribution\n",
    "a, m = 10, 100 # shape and mode\n",
    "s = (np.random.pareto(a, 1000) + 1) * m\n",
    "print(s)"
   ]
  },
  {
   "cell_type": "code",
   "execution_count": 40,
   "metadata": {},
   "outputs": [
    {
     "data": {
      "image/png": "[encoded data removed]",
      "text/plain": [
       "<matplotlib.figure.Figure at 0x16188a8c710>"
      ]
     },
     "metadata": {},
     "output_type": "display_data"
    }
   ],
   "source": [
    "#Display the histogram of the samples, along with the probability density function:\n",
    "count, bins, _ = plt.hist(s, 50, normed=True) # Count equals to s, bin amount to colunms\n",
    "fit = a*m**a / bins**(a+1)\n",
    "plt.plot(bins, max(count)*fit/max(fit), linewidth=3, color='y')\n",
    "\n",
    "plt.title('Pareto Distribution')\n",
    "plt.xlabel('Pareto')\n",
    "plt.ylabel('Count')\n",
    "plt.show()"
   ]
  },
  {
   "cell_type": "markdown",
   "metadata": {
    "collapsed": true
   },
   "source": [
    "#### Power"
   ]
  },
  {
   "cell_type": "markdown",
   "metadata": {
    "collapsed": true
   },
   "source": [
    "The power function distribution is just the inverse of the Pareto distribution. It may also be seen as a special case of the Beta distribution. It is used, for example, in modelling the over-reporting of insurance claims.[[Power]](https://docs.scipy.org/doc/numpy-1.15.1/reference/generated/numpy.random.power.html#numpy.random.power)\n",
    "\n",
    "The power law can be used to describe a phenomenon where a small number of items is clustered at the top of a distribution (or at the bottom), taking up 95% of the resources. In other words, it implies a small amount of occurrences is common, while larger occurrences are rare. For example, where the distribution of income is concerned, there are very few billionaires; the bulk of the population holds very modest nest eggs.[[Stat]](https://www.statisticshowto.datasciencecentral.com/power-law/)"
   ]
  },
  {
   "cell_type": "code",
   "execution_count": 65,
   "metadata": {},
   "outputs": [
    {
     "data": {
      "text/plain": [
       "array([ 0.8077041 ,  0.85345402,  0.65507121, ...,  0.43346507,\n",
       "        0.79836116,  0.93139029])"
      ]
     },
     "execution_count": 65,
     "metadata": {},
     "output_type": "execute_result"
    }
   ],
   "source": [
    "# Display the Power Distribution\n",
    "a = 5 #shape\n",
    "samples = 5000 # Number of Samples\n",
    "s = np.random.power(a, samples)\n",
    "s"
   ]
  },
  {
   "cell_type": "code",
   "execution_count": 67,
   "metadata": {},
   "outputs": [
    {
     "data": {
      "image/png": "[encoded data removed]",
      "text/plain": [
       "<matplotlib.figure.Figure at 0x16188b17fd0>"
      ]
     },
     "metadata": {},
     "output_type": "display_data"
    }
   ],
   "source": [
    "#Display the histogram of the samples, along with the probability density function:\n",
    "count, bins, ignored = plt.hist(s, bins=50)\n",
    "x = np.linspace(0, 1, 50)\n",
    "y = a*x**(a-1.)\n",
    "normed_y = samples*np.diff(bins)[0]*y\n",
    "plt.plot(x,normed_y)\n",
    "plt.title('Pareto Distribution')\n",
    "plt.xlabel('Power')\n",
    "plt.ylabel('Count')\n",
    "plt.show()"
   ]
  },
  {
   "cell_type": "markdown",
   "metadata": {
    "collapsed": true
   },
   "source": [
    "#### Uniform"
   ]
  },
  {
   "cell_type": "markdown",
   "metadata": {
    "collapsed": true
   },
   "source": [
    "A uniform distribution, sometimes also known as a rectangular distribution, is a distribution that has constant probability. [[Uniform]](http://mathworld.wolfram.com/UniformDistribution.html)\n",
    "\n",
    "The uniform distribution gets its name from the fact that the probabilities for all outcomes are the same. Unlike a normal distribution with a hump in the middle or a chi-square distribution, a uniform distribution has no mode. Instead, every outcome is equally likely to occur. [[Thought]](https://www.thoughtco.com/uniform-distribution-3126573). There are two types of uniform distributions: discrete and continuous.\n",
    "\n",
    "Any situation in which every outcome in a sample space is equally likely will use a uniform distribution. One example of this in a discrete case is when we roll a single standard die. There are a total of six sides of the die, and each side has the same probability of being rolled face up. The probability histogram for this distribution is rectangular shaped, with six bars that each have height of 1/6.[[Thought]](https://www.thoughtco.com/uniform-distribution-3126573)\n",
    "\n",
    "For an example of a uniform distribution in a continuous setting, we will consider an idealized random number generator. This will truly generate a random number from a specified range of values. So if we specify that the generator is to produce a random number between 1 and 4, then 3.25, 3, e, 2.222222, 3.4545456 and pi are all possible numbers that are equally likely to be produced.[[Thought]](https://www.thoughtco.com/uniform-distribution-3126573)\n"
   ]
  },
  {
   "cell_type": "code",
   "execution_count": 53,
   "metadata": {},
   "outputs": [
    {
     "data": {
      "image/png": "[encoded data removed]",
      "text/plain": [
       "<matplotlib.figure.Figure at 0x28a05766c88>"
      ]
     },
     "metadata": {},
     "output_type": "display_data"
    }
   ],
   "source": [
    "N = 100  # no of samples\n",
    "x = range(N) # x equals the range of 100\n",
    "y = [random.uniform(0,1) for i in x] # y generates 100 random variable between 0 and 1\n",
    "y\n",
    "count, bins, ignored = plt.hist(y, 15, normed=True)\n",
    "plt.plot(bins, np.ones_like(bins), linewidth=4, color='c')\n",
    "plt.title('Uniform Distribution')\n",
    "plt.xlabel('Between 0 and 1')\n",
    "plt.ylabel('Count')\n",
    "plt.show()"
   ]
  },
  {
   "cell_type": "markdown",
   "metadata": {},
   "source": [
    "## Random Generator "
   ]
  },
  {
   "cell_type": "markdown",
   "metadata": {
    "collapsed": true
   },
   "source": [
    "#### Seeds"
   ]
  },
  {
   "cell_type": "markdown",
   "metadata": {},
   "source": [
    "The method seed() sets the integer starting value used in generating random numbers. This function is not accessible directly, so we need to import seed module and then we need to call this function using random static object.[[Tutorial]](https://www.tutorialspoint.com/python/number_seed.htm)\n",
    "\n",
    "For a seed to be used in a pseudorandom number generator, it does not need to be random. Because of the nature of number generating algorithms, so long as the original seed is ignored, the rest of the values that the algorithm generates will follow probability distribution in a pseudorandom manner.[[Seeds]](https://en.wikipedia.org/wiki/Random_seed)\n",
    "\n",
    "Every time we import random, the subsequent sequence of random.random() calls will yield different numbers. For debugging purposes it is useful to get the same sequence of random numbers every time we run the program. This functionality is obtained by setting a seed before we start generating numbers.[[help](http://hplgit.github.io/primer.html/doc/pub/random/._random-readable001.html)"
   ]
  },
  {
   "cell_type": "code",
   "execution_count": 56,
   "metadata": {},
   "outputs": [
    {
     "name": "stdout",
     "output_type": "stream",
     "text": [
      "[2 1 4 0 3]\n",
      "[2 1 4 0 3]\n",
      "[2 1 4 0 3]\n",
      "[2 1 4 0 3]\n",
      "[2 1 4 0 3]\n"
     ]
    }
   ],
   "source": [
    "import numpy as np\n",
    "from numpy import random\n",
    "\n",
    "for i in range(5):\n",
    "    arr = np.arange(5)  # [0, 1, 2, 3, 4]\n",
    "    random.seed(1)  # Reset random state\n",
    "    random.shuffle(arr)  # Shuffle!\n",
    "    print(arr)"
   ]
  },
  {
   "cell_type": "markdown",
   "metadata": {},
   "source": [
    "#### RandomState"
   ]
  },
  {
   "cell_type": "markdown",
   "metadata": {},
   "source": [
    "The first sentence (a = numpy.random.RandomState(1)) start the pseudo random seed, in your case 1. That means that, no mater how many times you run the script, always get the same \"random\" number."
   ]
  },
  {
   "cell_type": "markdown",
   "metadata": {},
   "source": [
    "## Relationship between Distribution"
   ]
  },
  {
   "cell_type": "markdown",
   "metadata": {},
   "source": [
    "A special type of the this type of distribution is the Pareto Principle (also called the Pareto Law), which is an unscientific “law” that states 80% of effects come from 20% of causes. In other words, most of what we do has little effect.\n",
    "\n",
    "A related law is Zipf’s law which usually refers to the frequency of an event relative to it’s rank. Zipf’s law states that, given a list of the most frequent words in an arbitrary book, the most frequent word will appear twice as often as the second most frequent word, which will appear twice as often as the third most frequent, and so on. In its simplest form, Zipf’s law is equal to the power law. Zipf’s law gives rise to the Zeta Distribution.[Stat]"
   ]
  },
  {
   "cell_type": "code",
   "execution_count": 27,
   "metadata": {},
   "outputs": [
    {
     "data": {
      "text/plain": [
       "Text(0.5,1,'inverse of stats.pareto(5)')"
      ]
     },
     "execution_count": 27,
     "metadata": {},
     "output_type": "execute_result"
    },
    {
     "data": {
      "image/png": "[encoded data removed]",
      "text/plain": [
       "<matplotlib.figure.Figure at 0x28a03d0a860>"
      ]
     },
     "metadata": {},
     "output_type": "display_data"
    },
    {
     "data": {
      "image/png": "[encoded data removed]",
      "text/plain": [
       "<matplotlib.figure.Figure at 0x28a0412d550>"
      ]
     },
     "metadata": {},
     "output_type": "display_data"
    },
    {
     "data": {
      "image/png": "[encoded data removed]",
      "text/plain": [
       "<matplotlib.figure.Figure at 0x28a051413c8>"
      ]
     },
     "metadata": {},
     "output_type": "display_data"
    }
   ],
   "source": [
    "#Compare the power function distribution to the inverse of the Pareto.\n",
    "\n",
    "from scipy import stats\n",
    "rvs = np.random.power(5, 1000000)\n",
    "rvsp = np.random.pareto(5, 1000000)\n",
    "xx = np.linspace(0,1,100)\n",
    "powpdf = stats.powerlaw.pdf(xx,5)\n",
    "\n",
    "plt.figure()\n",
    "plt.hist(rvs, bins=50, normed=True)\n",
    "plt.plot(xx,powpdf,'r-')\n",
    "plt.title('np.random.power(5)')\n",
    "\n",
    "plt.figure()\n",
    "plt.hist(1./(1.+rvsp), bins=50, normed=True)\n",
    "plt.plot(xx,powpdf,'r-')\n",
    "plt.title('inverse of 1 + np.random.pareto(5)')\n",
    "\n",
    "plt.figure()\n",
    "plt.hist(1./(1.+rvsp), bins=50, normed=True)\n",
    "plt.plot(xx,powpdf,'r-')\n",
    "plt.title('inverse of stats.pareto(5)')"
   ]
  },
  {
   "cell_type": "markdown",
   "metadata": {
    "collapsed": true
   },
   "source": [
    "## References"
   ]
  },
  {
   "cell_type": "markdown",
   "metadata": {},
   "source": [
    "[1] https://www.pythonforbeginners.com/learn-python/what-is-python/"
   ]
  },
  {
   "cell_type": "markdown",
   "metadata": {},
   "source": [
    "[2]  https://www.scipy.org/scipylib/faq.html#what-is-numpy"
   ]
  },
  {
   "cell_type": "markdown",
   "metadata": {},
   "source": [
    "[3]  https://www.python-course.eu/numpy.php"
   ]
  },
  {
   "cell_type": "markdown",
   "metadata": {},
   "source": [
    "[4] http://cs231n.github.io/python-numpy-tutorial/"
   ]
  },
  {
   "cell_type": "markdown",
   "metadata": {},
   "source": [
    "[5] https://en.wikipedia.org/wiki/NumPy"
   ]
  },
  {
   "cell_type": "markdown",
   "metadata": {},
   "source": [
    "[6]  https://stackabuse.com/numpy-tutorial-a-simple-example-based-guide/#advantagesofnumpy "
   ]
  },
  {
   "cell_type": "markdown",
   "metadata": {},
   "source": [
    "[2]  https://www.labri.fr/perso/nrougier/teaching/numpy/numpy.html"
   ]
  },
  {
   "cell_type": "markdown",
   "metadata": {},
   "source": [
    "[3]  https://docs.scipy.org/doc/numpy-1.14.0/reference/routines.random.html"
   ]
  },
  {
   "cell_type": "markdown",
   "metadata": {},
   "source": [
    "[6] https://docs.scipy.org/doc/numpy-1.15.1/reference/generated/numpy.array.html"
   ]
  },
  {
   "cell_type": "markdown",
   "metadata": {},
   "source": [
    "[7] https://www.sciencedirect.com/topics/biochemistry-genetics-and-molecular-biology/poisson-distribution"
   ]
  },
  {
   "cell_type": "markdown",
   "metadata": {},
   "source": [
    "[8] https://stattrek.com/probability-distributions/binomial.aspx"
   ]
  },
  {
   "cell_type": "markdown",
   "metadata": {},
   "source": [
    "[11] https://en.wikipedia.org/wiki/Convenience_function"
   ]
  },
  {
   "cell_type": "markdown",
   "metadata": {
    "collapsed": true
   },
   "source": [
    "[12] https://www.programiz.com/python-programming/examples/shuffle-card"
   ]
  },
  {
   "cell_type": "markdown",
   "metadata": {
    "collapsed": true
   },
   "source": [
    "[13] https://www.dummies.com/education/math/statistics/what-the-distribution-tells-you-about-a-statistical-data-set/"
   ]
  },
  {
   "cell_type": "markdown",
   "metadata": {
    "collapsed": true
   },
   "source": [
    "[15] https://en.wikipedia.org/wiki/Pareto_distribution"
   ]
  },
  {
   "cell_type": "markdown",
   "metadata": {
    "collapsed": true
   },
   "source": [
    "[16] http://mathworld.wolfram.com/UniformDistribution.html"
   ]
  },
  {
   "cell_type": "markdown",
   "metadata": {},
   "source": [
    "[17] https://bigdata-madesimple.com/how-to-implement-these-5-powerful-probability-distributions-in-python/"
   ]
  },
  {
   "cell_type": "markdown",
   "metadata": {},
   "source": [
    "[18] https://www.tutorialspoint.com/python/number_seed.htm"
   ]
  },
  {
   "cell_type": "markdown",
   "metadata": {},
   "source": [
    "[19] http://hplgit.github.io/primer.html/doc/pub/random/._random-readable001.html"
   ]
  },
  {
   "cell_type": "markdown",
   "metadata": {},
   "source": [
    "[20] https://en.wikipedia.org/wiki/Random_seed"
   ]
  },
  {
   "cell_type": "markdown",
   "metadata": {
    "collapsed": true
   },
   "source": [
    "[21] https://www.tutorialspoint.com/python/python_poisson_distribution.htm"
   ]
  },
  {
   "cell_type": "markdown",
   "metadata": {
    "collapsed": true
   },
   "source": [
    "[22] https://www.statisticshowto.datasciencecentral.com/power-law/"
   ]
  },
  {
   "cell_type": "markdown",
   "metadata": {},
   "source": [
    "[23] https://www.thoughtco.com/uniform-distribution-3126573]"
   ]
  },
  {
   "cell_type": "markdown",
   "metadata": {},
   "source": [
    "[24] http://hplgit.github.io/primer.html/doc/pub/random/._random-readable001.html"
   ]
  },
  {
   "cell_type": "markdown",
   "metadata": {},
   "source": [
    "[25] https://en.wikipedia.org/wiki/Simple_random_sample"
   ]
  },
  {
   "cell_type": "markdown",
   "metadata": {},
   "source": [
    "[26] https://en.wikipedia.org/wiki/Random_permutation"
   ]
  },
  {
   "cell_type": "markdown",
   "metadata": {},
   "source": [
    "[27] https://www.mathsisfun.com/data/standard-normal-distribution.html"
   ]
  },
  {
   "cell_type": "code",
   "execution_count": null,
   "metadata": {
    "collapsed": true
   },
   "outputs": [],
   "source": []
  }
 ],
 "metadata": {
  "kernelspec": {
   "display_name": "Python 3",
   "language": "python",
   "name": "python3"
  },
  "language_info": {
   "codemirror_mode": {
    "name": "ipython",
    "version": 3
   },
   "file_extension": ".py",
   "mimetype": "text/x-python",
   "name": "python",
   "nbconvert_exporter": "python",
   "pygments_lexer": "ipython3",
   "version": "3.6.3"
  }
 },
 "nbformat": 4,
 "nbformat_minor": 2
}
