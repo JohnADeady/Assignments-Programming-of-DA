{
 "cells": [
  {
   "cell_type": "markdown",
   "metadata": {},
   "source": [
    "<img src=\"https://upload.wikimedia.org/wikipedia/commons/1/1a/NumPy_logo.svg\" height=\"200\" width=\"600\">"
   ]
  },
  {
   "cell_type": "markdown",
   "metadata": {},
   "source": [
    "# NumPy Random Package Assignment"
   ]
  },
  {
   "cell_type": "markdown",
   "metadata": {},
   "source": [
    " The following assignment concerns the NumPy.random package in Python. There are four tasks to be carried out in this Jupyter notebook.\n",
    "1. Explain the overall purpose of the package. \n",
    "2. Explain the use of the “Simple random data” and “Permutations” functions. \n",
    "3. Explain the use and purpose of at least ﬁve “Distributions” functions. \n",
    "4. Explain the use of seeds in generating pseudorandom numbers.\n"
   ]
  },
  {
   "cell_type": "markdown",
   "metadata": {
    "collapsed": true
   },
   "source": [
    "## Purpose of the NumPy Package"
   ]
  },
  {
   "cell_type": "markdown",
   "metadata": {},
   "source": [
    "NumPy or Numeric Python is a Python extension module or library that provides efficient operation on arrays of homogeneous data. It allows python to serve as a high-level language for manipulating numerical data [[Scipy]](https://www.scipy.org/scipylib/faq.html#what-is-numpy).\n",
    "\n",
    "NumPy enriches the programming language Python with powerful data structures, implementing multi-dimensional arrays and matrices. These data structures guarantee efficient calculations with matrices and arrays. [[Python]](https://www.python-course.eu/numpy.php)\n",
    "\n",
    "Python is a great general-purpose programming language on its own, but with the help of a few popular libraries (numpy, scipy, matplotlib) it becomes a powerful environment for scientific computing. [[Github]](http://cs231n.github.io/python-numpy-tutorial/)\n",
    "\n",
    "The ancestor of NumPy, Numeric, was originally created by Jim Hugunin with contributions from several other developers. In 2005, Travis Oliphant created NumPy by incorporating features of the competing Numarray into Numeric, with extensive modifications. NumPy is open-source software and has many contributors. [[Wiki]](https://en.wikipedia.org/wiki/NumPy)"
   ]
  },
  {
   "cell_type": "markdown",
   "metadata": {},
   "source": [
    "## Advantages"
   ]
  },
  {
   "cell_type": "markdown",
   "metadata": {},
   "source": [
    "NumPy has several advantages over using core Python mathemtatical functions, a few of which are outlined here:\n",
    "\n",
    "1.NumPy is extremely fast when compared to core Python thanks to its heavy use of C extensions.\n",
    "\n",
    "2.Many advanced Python libraries, such as Scikit-Learn, Scipy, and Keras, make extensive use of the NumPy library. Therefore, if you plan to pursue a career in data science or machine learning, NumPy is a very good tool to master.\n",
    "\n",
    "3.NumPy comes with a variety of built-in functionalities, which in core Python would take a fair bit of custom code. [[Stackabuse]](https://stackabuse.com/numpy-tutorial-a-simple-example-based-guide/#advantagesofnumpy )"
   ]
  },
  {
   "cell_type": "markdown",
   "metadata": {},
   "source": [
    "## Introduction"
   ]
  },
  {
   "cell_type": "markdown",
   "metadata": {},
   "source": [
    "This jupyter notebook is concerned with the random sampling function of NumPy. But first we will look at a simple python example and then compare this to NumPy a more quick and efficent way to run a dataset."
   ]
  },
  {
   "cell_type": "code",
   "execution_count": 62,
   "metadata": {},
   "outputs": [
    {
     "name": "stdout",
     "output_type": "stream",
     "text": [
      "[4, 5, 6, 7, 8]\n"
     ]
    }
   ],
   "source": [
    "# Create two variables X and Y  \n",
    "x = [2, 3, 4, 5, 6]      # x equals a list of numbers\n",
    "y = [a + 2 for a in x]   # y equals to x + 2  for a in x\n",
    "print(y)                 # print y"
   ]
  },
  {
   "cell_type": "markdown",
   "metadata": {},
   "source": [
    "Next we will import the NumPy library and we will call it np for shorthand:"
   ]
  },
  {
   "cell_type": "code",
   "execution_count": 63,
   "metadata": {},
   "outputs": [
    {
     "name": "stdout",
     "output_type": "stream",
     "text": [
      "[4 5 6 7 8]\n"
     ]
    }
   ],
   "source": [
    "# Create two variables X and Y  \n",
    "import numpy as np             # Import numpy library\n",
    "x = np.array([2, 3, 4, 5, 6])  # Let x equals np.array which includes list 2 to 6\n",
    "y = x + 2                      # Let y equals to x to 2\n",
    "print(y)                       # print y"
   ]
  },
  {
   "cell_type": "markdown",
   "metadata": {
    "collapsed": true
   },
   "source": [
    "By importing the NumPy library we can create shortcuts and shorten our python code. This is one of the advantages of using np.arrray over normal python code"
   ]
  },
  {
   "cell_type": "markdown",
   "metadata": {},
   "source": [
    "## Simple Random Data"
   ]
  },
  {
   "cell_type": "markdown",
   "metadata": {},
   "source": [
    "We will now look at simple random data of NumPy. This is the most basic type of random code. \n",
    "\n",
    "We will run examples of random.rand and random.randint and create histograms to graphy the output data"
   ]
  },
  {
   "cell_type": "code",
   "execution_count": 75,
   "metadata": {},
   "outputs": [
    {
     "data": {
      "text/plain": [
       "array([[ 0.59897873,  0.47628378,  0.738124  ,  0.85635699,  0.84099874],\n",
       "       [ 0.34631617,  0.93643934,  0.67798829,  0.43697244,  0.55732672],\n",
       "       [ 0.82733704,  0.62149822,  0.07720274,  0.18492003,  0.29705603],\n",
       "       [ 0.84293877,  0.32698112,  0.04917775,  0.71274389,  0.89197268],\n",
       "       [ 0.45332057,  0.73081743,  0.28551399,  0.76810242,  0.46778735]])"
      ]
     },
     "execution_count": 75,
     "metadata": {},
     "output_type": "execute_result"
    }
   ],
   "source": [
    "# Use the random.rand function to generate random numbers between 0 and 1.\n",
    "a= np.random.rand(5,5)\n",
    "a"
   ]
  },
  {
   "cell_type": "markdown",
   "metadata": {},
   "source": [
    "The rand functiion generates numbers between 0 to 1. This example above 5 acrocss by 5 down randonly generated"
   ]
  },
  {
   "cell_type": "code",
   "execution_count": 76,
   "metadata": {},
   "outputs": [
    {
     "data": {
      "text/plain": [
       "Text(0,0.5,'Sum')"
      ]
     },
     "execution_count": 76,
     "metadata": {},
     "output_type": "execute_result"
    },
    {
     "data": {
      "image/png": "[encoded data removed]",
      "text/plain": [
       "<matplotlib.figure.Figure at 0x1c2bd76c278>"
      ]
     },
     "metadata": {},
     "output_type": "display_data"
    }
   ],
   "source": [
    "# Display the array in a in histogram format using matplotlib\n",
    "plt.hist(a)\n",
    "\n",
    "plt.title('Rand Function')                     # Title of Histogram\n",
    "plt.xlabel('Generate Numbers between 0 and 1') # X-axis title\n",
    "plt.ylabel('Count')                             # Y-axis title"
   ]
  },
  {
   "cell_type": "markdown",
   "metadata": {},
   "source": [
    "From the histogram, we can see the randomly generate numbers between 0 and 1 on the X-axis. This means that all numbers are positive figures. The Y-axis represents the count of these values on the X-axis. This is a convenience function. A convenience function is a non-essential subroutine in a programming library or framework which is intended to ease commonly performed tasks. [[Convenience]](https://en.wikipedia.org/wiki/Convenience_function) \n"
   ]
  },
  {
   "cell_type": "code",
   "execution_count": 93,
   "metadata": {},
   "outputs": [
    {
     "data": {
      "text/plain": [
       "array([48, 19, 94, 51, 52, 60, 36, 62, 41, 36])"
      ]
     },
     "execution_count": 93,
     "metadata": {},
     "output_type": "execute_result"
    }
   ],
   "source": [
    "# Use the random.randint function to generate random numbers between 0 and 100.\n",
    "b = np.random.randint(101, size=10)\n",
    "b"
   ]
  },
  {
   "cell_type": "markdown",
   "metadata": {},
   "source": [
    "This list generates random numbers betweem 0 and 100 with an dsiplay of 10 integers."
   ]
  },
  {
   "cell_type": "code",
   "execution_count": 94,
   "metadata": {},
   "outputs": [
    {
     "data": {
      "text/plain": [
       "Text(0,0.5,'Count')"
      ]
     },
     "execution_count": 94,
     "metadata": {},
     "output_type": "execute_result"
    },
    {
     "data": {
      "image/png": "[encoded data removed]",
      "text/plain": [
       "<matplotlib.figure.Figure at 0x1c2bda5a748>"
      ]
     },
     "metadata": {},
     "output_type": "display_data"
    }
   ],
   "source": [
    "# Display the array in a in histogram format using matplotlib\n",
    "plt.hist(b)\n",
    "\n",
    "plt.title('Randit Function')                       # Title of Histogram\n",
    "plt.xlabel('Generate Numbers between 0 and 100')   # X-axis title\n",
    "plt.ylabel('Count')                                # Y-axis title"
   ]
  },
  {
   "cell_type": "markdown",
   "metadata": {},
   "source": [
    "Similiar to the previous histogram, we can see the randomly generate numbers between 0 and 100 on the X-axis. And again all numbers are positive intergers. The Y-axis represents the count of these values on the X-axis"
   ]
  },
  {
   "cell_type": "code",
   "execution_count": 100,
   "metadata": {},
   "outputs": [
    {
     "data": {
      "text/plain": [
       "array([[20,  6, 48, 21],\n",
       "       [ 0, 17, 16, 10]])"
      ]
     },
     "execution_count": 100,
     "metadata": {},
     "output_type": "execute_result"
    }
   ],
   "source": [
    "# Use the random.randint function to generate random numbers between 0 and 10. Size two rows and four numbers.}\n",
    "c = np.random.randint(51, size=(2,4))     # 2D array using randit\n",
    "c"
   ]
  },
  {
   "cell_type": "markdown",
   "metadata": {},
   "source": [
    "This list generates random numbers betweem 0 and 10 with 2 arrays of 4 integers"
   ]
  },
  {
   "cell_type": "code",
   "execution_count": 101,
   "metadata": {},
   "outputs": [
    {
     "data": {
      "text/plain": [
       "Text(0,0.5,'Count')"
      ]
     },
     "execution_count": 101,
     "metadata": {},
     "output_type": "execute_result"
    },
    {
     "data": {
      "image/png": "[encoded data removed]",
      "text/plain": [
       "<matplotlib.figure.Figure at 0x1c2bdbb9a90>"
      ]
     },
     "metadata": {},
     "output_type": "display_data"
    }
   ],
   "source": [
    "# Display the array in a in histogram format using matplotlib\n",
    "plt.hist(c)                                        # The two arrays on the same histogram\n",
    "\n",
    "plt.title('Randit Function')                       # Title of Histogram\n",
    "plt.xlabel('Generate Numbers between 0 and 50')    # X-axis title\n",
    "plt.ylabel('Count')                                # Y-axis title"
   ]
  },
  {
   "cell_type": "markdown",
   "metadata": {},
   "source": [
    "Similiar to the previous histogram, we can see the randomly generate numbers between 0 and 50 on the X-axis. And again all numbers are positive intergers. But this histogram has the two outputs on the same histogram. The Y-axis represents the count of these values on the X-axis"
   ]
  },
  {
   "cell_type": "code",
   "execution_count": 102,
   "metadata": {},
   "outputs": [
    {
     "data": {
      "text/plain": [
       "array([ 0.8902085 ,  0.63742116,  0.9677766 ,  0.56615927,  0.60595252,\n",
       "        0.37737703,  0.62062391,  0.98897683,  0.09327066,  0.26804225,\n",
       "        0.89854351,  0.35194106,  0.86208445,  0.70455712,  0.14629363,\n",
       "        0.34182013,  0.23449497,  0.47755599,  0.15262008,  0.57754324,\n",
       "        0.2687055 ,  0.25166591,  0.87666564,  0.02450188,  0.68904359,\n",
       "        0.72775752,  0.10672336,  0.24932633,  0.91065337,  0.65780693,\n",
       "        0.02995638,  0.84277033,  0.57280801,  0.24249439,  0.177907  ,\n",
       "        0.57014398,  0.311972  ,  0.23526506,  0.25057569,  0.07580173,\n",
       "        0.4859233 ,  0.34028682,  0.43967854,  0.79377586,  0.46967279,\n",
       "        0.67144636,  0.6525949 ,  0.53375021,  0.87222711,  0.71543653,\n",
       "        0.87662364])"
      ]
     },
     "execution_count": 102,
     "metadata": {},
     "output_type": "execute_result"
    }
   ],
   "source": [
    "# Use the random.random.sample to generate 51 numbers between 0 and 1.\n",
    "d = np.random.random_sample(51)\n",
    "d"
   ]
  },
  {
   "cell_type": "code",
   "execution_count": 103,
   "metadata": {},
   "outputs": [
    {
     "data": {
      "text/plain": [
       "Text(0,0.5,'Count')"
      ]
     },
     "execution_count": 103,
     "metadata": {},
     "output_type": "execute_result"
    },
    {
     "data": {
      "image/png": "[encoded data removed]",
      "text/plain": [
       "<matplotlib.figure.Figure at 0x1c2beca8e10>"
      ]
     },
     "metadata": {},
     "output_type": "display_data"
    }
   ],
   "source": [
    "# Display the array in a in histogram format using matplotlib\n",
    "plt.hist(d)                                 \n",
    "\n",
    "plt.title('Sample Function')                       # Title of Histogram\n",
    "plt.xlabel('Generate Numbers between 0 and 1')     # X-axis title\n",
    "plt.ylabel('Count')                                # Y-axis title"
   ]
  },
  {
   "cell_type": "markdown",
   "metadata": {},
   "source": [
    "This histogram generates positive deciamls numbers between 0 and 1. The X-axis show the frequency of occurence and Y-axis sums how many times each occurs. Results are from the “continuous uniform” distribution over the stated interval [[SciPy]](https://docs.scipy.org/doc/numpy-1.15.1/reference/generated/numpy.random.random_sample.html#numpy.random.random_sample). The continuous uniform distribution or rectangular distribution is a family of symmetric probability distributions such that for each member of the family, all intervals of the same length on the distribution's support are equally probable. [[Uniform]](https://en.wikipedia.org/wiki/Uniform_distribution_(continuous))"
   ]
  },
  {
   "cell_type": "markdown",
   "metadata": {},
   "source": [
    "## Permuatations"
   ]
  },
  {
   "cell_type": "markdown",
   "metadata": {},
   "source": [
    "There are two sub-functions with permuatations. They are shuffle and permuatation. These are where a selection of objects in which the order of the objects matters. We will run random.shuffle\n",
    "\n",
    "We use the itertool module to create a deck of cards. This function performs the Cartesian product of the two sequence. The two sequence are, numbers from 1 to 13 and the four suits. So, altogether we have 13 * 4 = 52 items in the deck with each card. [[Programiz]](https://www.programiz.com/python-programming/examples/shuffle-card)\n",
    "\n",
    "The deck is in order so we use the random.shuffle. This shuffle modifies a sequence in-place by shuffling its contents. This randomly shuffle the deck and pick a card at random from our deck."
   ]
  },
  {
   "cell_type": "code",
   "execution_count": 4,
   "metadata": {},
   "outputs": [
    {
     "name": "stdout",
     "output_type": "stream",
     "text": [
      "You got:\n",
      "10 of Diamond\n"
     ]
    }
   ],
   "source": [
    "# Python program to shuffle a deck of card using the module random and draw 5 cards\n",
    "\n",
    "# make a deck of cards\n",
    "deck = list(itertools.product(range(1,14),['Spade','Heart','Diamond','Club'])) # Creates two sequence using itertools\n",
    "\n",
    "# shuffle the cards\n",
    "random.shuffle(deck)\n",
    "\n",
    "# draw five cards\n",
    "print(\"You got:\")\n",
    "for i in range(1):\n",
    "   print(deck[i][0], \"of\", deck[i][1])"
   ]
  },
  {
   "cell_type": "markdown",
   "metadata": {},
   "source": [
    "## Distributions"
   ]
  },
  {
   "cell_type": "markdown",
   "metadata": {},
   "source": [
    "The distribution of a statistical data set (or a population) is a listing or function showing all the possible values (or intervals) of the data and how often they occur. The world of statistics includes dozens of different distributions for categorical and numerical data; the most common ones have their own names. One of the most well-known distributions is called the normal distribution, also known as the bell-shaped curv. [[Dummies]](https://www.dummies.com/education/math/statistics/what-the-distribution-tells-you-about-a-statistical-data-set/)\n",
    "\n",
    "We are going to look at the gamma, power, uniform, Pareto and Logeries."
   ]
  },
  {
   "cell_type": "markdown",
   "metadata": {},
   "source": [
    "#### Gamma Distribution"
   ]
  },
  {
   "cell_type": "markdown",
   "metadata": {
    "collapsed": true
   },
   "source": [
    "The first numpy random distribution we will look at is the gamma distribution. A gamma distribution is a general type of statistical distribution that is related to the beta distribution and arises naturally in processes for which the waiting times between Poisson distributed events are relevant. (mathworld)\n",
    "\n",
    "Samples are drawn from a Gamma distribution with specified parameters, shape (sometimes designated “k”) and scale (sometimes designated “theta”), where both parameters are greater than 0 (docs.scipy)\n",
    "\n"
   ]
  },
  {
   "cell_type": "code",
   "execution_count": 5,
   "metadata": {
    "collapsed": true
   },
   "outputs": [],
   "source": [
    "import numpy as np\n",
    "import matplotlib.pyplot as plt\n"
   ]
  },
  {
   "cell_type": "markdown",
   "metadata": {
    "collapsed": true
   },
   "source": [
    "#### Power"
   ]
  },
  {
   "cell_type": "code",
   "execution_count": null,
   "metadata": {
    "collapsed": true
   },
   "outputs": [],
   "source": []
  },
  {
   "cell_type": "markdown",
   "metadata": {
    "collapsed": true
   },
   "source": [
    "#### Uniform"
   ]
  },
  {
   "cell_type": "code",
   "execution_count": null,
   "metadata": {
    "collapsed": true
   },
   "outputs": [],
   "source": []
  },
  {
   "cell_type": "markdown",
   "metadata": {
    "collapsed": true
   },
   "source": [
    "#### Pareto"
   ]
  },
  {
   "cell_type": "code",
   "execution_count": null,
   "metadata": {
    "collapsed": true
   },
   "outputs": [],
   "source": []
  },
  {
   "cell_type": "markdown",
   "metadata": {
    "collapsed": true
   },
   "source": [
    "#### Logseries"
   ]
  },
  {
   "cell_type": "code",
   "execution_count": null,
   "metadata": {
    "collapsed": true
   },
   "outputs": [],
   "source": []
  },
  {
   "cell_type": "markdown",
   "metadata": {},
   "source": [
    "## Seeds - Random Generator "
   ]
  },
  {
   "cell_type": "code",
   "execution_count": null,
   "metadata": {
    "collapsed": true
   },
   "outputs": [],
   "source": []
  },
  {
   "cell_type": "markdown",
   "metadata": {
    "collapsed": true
   },
   "source": [
    "seed generator"
   ]
  },
  {
   "cell_type": "markdown",
   "metadata": {
    "collapsed": true
   },
   "source": [
    "## References"
   ]
  },
  {
   "cell_type": "markdown",
   "metadata": {},
   "source": [
    "[1]  https://www.python-course.eu/numpy.php"
   ]
  },
  {
   "cell_type": "markdown",
   "metadata": {},
   "source": [
    "[2]  https://www.labri.fr/perso/nrougier/teaching/numpy/numpy.html"
   ]
  },
  {
   "cell_type": "markdown",
   "metadata": {},
   "source": [
    "[3]  https://docs.scipy.org/doc/numpy-1.14.0/reference/routines.random.html"
   ]
  },
  {
   "cell_type": "markdown",
   "metadata": {},
   "source": [
    "[4]  https://www.scipy.org/scipylib/faq.html#what-is-numpy"
   ]
  },
  {
   "cell_type": "markdown",
   "metadata": {},
   "source": [
    "[5]  https://stackabuse.com/numpy-tutorial-a-simple-example-based-guide/#advantagesofnumpy "
   ]
  },
  {
   "cell_type": "markdown",
   "metadata": {},
   "source": [
    "[6] https://docs.scipy.org/doc/numpy-1.15.1/reference/generated/numpy.array.html"
   ]
  },
  {
   "cell_type": "markdown",
   "metadata": {},
   "source": [
    "[7] http://mathworld.wolfram.com/GammaDistribution.html"
   ]
  },
  {
   "cell_type": "markdown",
   "metadata": {},
   "source": [
    "[8] http://www.astroml.org/book_figures/chapter3/fig_gamma_distribution.html"
   ]
  },
  {
   "cell_type": "markdown",
   "metadata": {},
   "source": [
    "[9] https://en.wikipedia.org/wiki/NumPy"
   ]
  },
  {
   "cell_type": "markdown",
   "metadata": {},
   "source": [
    "[10] http://cs231n.github.io/python-numpy-tutorial/"
   ]
  },
  {
   "cell_type": "markdown",
   "metadata": {},
   "source": [
    "[11] https://en.wikipedia.org/wiki/Convenience_function"
   ]
  },
  {
   "cell_type": "markdown",
   "metadata": {
    "collapsed": true
   },
   "source": [
    "[12] https://www.programiz.com/python-programming/examples/shuffle-card"
   ]
  },
  {
   "cell_type": "code",
   "execution_count": null,
   "metadata": {
    "collapsed": true
   },
   "outputs": [],
   "source": [
    "[13] https://www.dummies.com/education/math/statistics/what-the-distribution-tells-you-about-a-statistical-data-set/"
   ]
  }
 ],
 "metadata": {
  "kernelspec": {
   "display_name": "Python 3",
   "language": "python",
   "name": "python3"
  },
  "language_info": {
   "codemirror_mode": {
    "name": "ipython",
    "version": 3
   },
   "file_extension": ".py",
   "mimetype": "text/x-python",
   "name": "python",
   "nbconvert_exporter": "python",
   "pygments_lexer": "ipython3",
   "version": "3.6.3"
  }
 },
 "nbformat": 4,
 "nbformat_minor": 2
}
