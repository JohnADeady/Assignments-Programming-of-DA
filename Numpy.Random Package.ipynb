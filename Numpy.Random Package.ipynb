{
 "cells": [
  {
   "cell_type": "markdown",
   "metadata": {},
   "source": [
    "<img src=\"https://upload.wikimedia.org/wikipedia/commons/1/1a/NumPy_logo.svg\" height=\"200\" width=\"600\">"
   ]
  },
  {
   "cell_type": "markdown",
   "metadata": {},
   "source": [
    "# NumPy Random Package Assignment"
   ]
  },
  {
   "cell_type": "markdown",
   "metadata": {},
   "source": [
    " The following assignment concerns the NumPy random package in Python. There are four tasks to be carried out in this Jupyter notebook.\n",
    "1. Explain the overall purpose of the package. \n",
    "2. Explain the use of the “Simple random data” and “Permutations” functions. \n",
    "3. Explain the use and purpose of at least ﬁve “Distributions” functions. \n",
    "4. Explain the use of seeds in generating pseudorandom numbers.\n"
   ]
  },
  {
   "cell_type": "markdown",
   "metadata": {
    "collapsed": true
   },
   "source": [
    "## Purpose of the NumPy Package"
   ]
  },
  {
   "cell_type": "markdown",
   "metadata": {},
   "source": [
    "Python is an object-oriented, high-level programming language with integrated dynamic semantics primarily for web and app development. It is extremely attractive in the field of Rapid Application Development because it offers dynamic typing and dynamic binding options [[Python]](https://www.pythonforbeginners.com/learn-python/what-is-python/)\n",
    "\n",
    "While NumPy or Numerical Python is a library for the Python programming language that provides efficient operation on arrays of homogeneous data. It allows Python to serve as a high-level language for manipulating numerical data [[Scipy]](https://www.scipy.org/scipylib/faq.html#what-is-numpy).\n",
    "\n",
    "NumPy enriches the programming language Python with powerful data structures, implementing multi-dimensional arrays and matrices. These data structures guarantee efficient calculations with matrices and arrays. [[Python]](https://www.python-course.eu/numpy.php)\n",
    "\n",
    "Python is a great general-purpose programming language on its own, but with the help of a few popular libraries (numpy, scipy, matplotlib) it becomes a powerful environment for scientific computing. [[Github]](http://cs231n.github.io/python-numpy-tutorial/)\n",
    "\n",
    "The ancestor of NumPy, Numeric, was originally created by Jim Hugunin with contributions from several other developers. In 2005, Travis Oliphant created NumPy by incorporating features of the competing Numarray into Numeric, with extensive modifications. NumPy is open-source software and has many contributors. [[Wiki]](https://en.wikipedia.org/wiki/NumPy)"
   ]
  },
  {
   "cell_type": "markdown",
   "metadata": {},
   "source": [
    "## Advantages"
   ]
  },
  {
   "cell_type": "markdown",
   "metadata": {},
   "source": [
    "NumPy has several advantages over using core Python mathemtatical functions, a few of which are outlined here:\n",
    "\n",
    "1.NumPy is extremely fast when compared to core Python thanks to its heavy use of C extensions.\n",
    "\n",
    "2.Many advanced Python libraries, such as Scikit-Learn, Scipy, and Keras, make extensive use of the NumPy library. Therefore, if you plan to pursue a career in data science or machine learning, NumPy is a very good tool to master.\n",
    "\n",
    "3.NumPy comes with a variety of built-in functionalities, which in core Python would take a fair bit of custom code. [[Stackabuse]](https://stackabuse.com/numpy-tutorial-a-simple-example-based-guide/#advantagesofnumpy )"
   ]
  },
  {
   "cell_type": "markdown",
   "metadata": {},
   "source": [
    "## Introduction"
   ]
  },
  {
   "cell_type": "markdown",
   "metadata": {},
   "source": [
    "This jupyter notebook is concerned with the random sampling function of NumPy. But first we will look at a simple python example and then compare this to NumPy a more quick and efficient way to run a dataset."
   ]
  },
  {
   "cell_type": "code",
   "execution_count": 2,
   "metadata": {},
   "outputs": [
    {
     "name": "stdout",
     "output_type": "stream",
     "text": [
      "[4, 5, 6, 7, 8]\n"
     ]
    }
   ],
   "source": [
    "# Create two variables X and Y  \n",
    "x = [2, 3, 4, 5, 6]      # x equals a list of numbers\n",
    "y = [a + 2 for a in x]   # y equals to x + 2  for a in x\n",
    "print(y)                 # print y"
   ]
  },
  {
   "cell_type": "markdown",
   "metadata": {},
   "source": [
    "Next we will import the NumPy library and we will call it np for shorthand:"
   ]
  },
  {
   "cell_type": "code",
   "execution_count": 3,
   "metadata": {},
   "outputs": [
    {
     "name": "stdout",
     "output_type": "stream",
     "text": [
      "[4 5 6 7 8]\n"
     ]
    }
   ],
   "source": [
    "# Create two variables X and Y  \n",
    "import numpy as np              # Import numpy library\n",
    "x = np.array([2, 3, 4, 5, 6])   # Let x equals np.array which includes list 2 to 6\n",
    "y = x + 2                       # Let y equals to x to 2\n",
    "print(y)                        # print y"
   ]
  },
  {
   "cell_type": "markdown",
   "metadata": {
    "collapsed": true
   },
   "source": [
    "By importing the NumPy library we can create a more compact array than a Python list and and faster than python code. This is one of the advantages of using np.arrray over normal python code."
   ]
  },
  {
   "cell_type": "markdown",
   "metadata": {},
   "source": [
    "## Simple Random Data"
   ]
  },
  {
   "cell_type": "markdown",
   "metadata": {},
   "source": [
    "We will now look at simple random data of NumPy. This is the most basic type of random code. \n",
    "\n",
    "We will run examples of random.rand, random.randint and random.sample and create histograms to graphy the output data"
   ]
  },
  {
   "cell_type": "markdown",
   "metadata": {},
   "source": [
    "#### Random.rand"
   ]
  },
  {
   "cell_type": "markdown",
   "metadata": {},
   "source": [
    "Random.rand creates an array of specified shape and fills it with random values."
   ]
  },
  {
   "cell_type": "code",
   "execution_count": 4,
   "metadata": {},
   "outputs": [
    {
     "name": "stdout",
     "output_type": "stream",
     "text": [
      "[ 0.70658366  0.86816887  0.10212354  0.02663968  0.64657184  0.65126581\n",
      "  0.65694986  0.74528193  0.2471876   0.50744809  0.7566142   0.62450771\n",
      "  0.33944225  0.16649897  0.23747837  0.42878073  0.13776264  0.0348987\n",
      "  0.20384315  0.15549619  0.84974463  0.40788824  0.21878889  0.06287601\n",
      "  0.59959507  0.45310493  0.94417997  0.27483434  0.48384919  0.96060218\n",
      "  0.32955205  0.82026882  0.05399293  0.05528112  0.60631713  0.48551158\n",
      "  0.74893234  0.04122968  0.67956452  0.47699058  0.90407814  0.0307652\n",
      "  0.52069586  0.81147104  0.75980008  0.40601712  0.76834202  0.28766119\n",
      "  0.87660087  0.26270792]\n",
      "[ 0.84565468  0.33204414  0.24646123  0.62459483  0.58181692  0.80210055\n",
      "  0.32044443  0.44510943  0.98908062  0.63648478  0.41919784  0.43392861\n",
      "  0.14680114  0.57607208  0.93133426  0.2962776   0.68271329  0.52102467\n",
      "  0.56091162  0.35907208  0.29519521  0.64396704  0.35688752  0.17040644\n",
      "  0.5672895   0.65682502  0.53556845  0.80995029  0.91814495  0.82464386\n",
      "  0.93918899  0.30555231  0.36009147  0.88874256  0.43988229  0.07731694\n",
      "  0.26803969  0.00498899  0.13002229  0.1630572   0.58712493  0.37580871\n",
      "  0.22322428  0.87737621  0.77406837  0.27813814  0.45676824  0.23978162\n",
      "  0.82399305  0.81751316]\n"
     ]
    }
   ],
   "source": [
    "# Use the random.rand function to generate random numbers between 0 and 1.\n",
    "N = 50                    # N equals the number of variables\n",
    "x = np.random.rand(N)       # x-axis\n",
    "y = np.random.rand(N)       # y-axis\n",
    "colors = np.random.rand(N)  # colours\n",
    "print(x)\n",
    "print(y)"
   ]
  },
  {
   "cell_type": "markdown",
   "metadata": {},
   "source": [
    "The rand functiion generates numbers between 0 to 1. The above example creates random 50 numers for x and y variables"
   ]
  },
  {
   "cell_type": "code",
   "execution_count": 5,
   "metadata": {},
   "outputs": [
    {
     "data": {
      "image/png": "[encoded data removed]",
      "text/plain": [
       "<matplotlib.figure.Figure at 0x1bbc25546d8>"
      ]
     },
     "metadata": {},
     "output_type": "display_data"
    }
   ],
   "source": [
    "# Display the array in a in plot format using matplotlib\n",
    "import matplotlib.pyplot as plt     # import matplotlib\n",
    "%matplotlib inline                  \n",
    "area = (15 * np.random.rand(N))**3  # Indicates size of the data points\n",
    "\n",
    "plt.scatter(x, y, s=area, c=colors, alpha=1.5)\n",
    "plt.title('Random Rand')\n",
    "plt.xlabel('Generate Numbers between 0 and 1')\n",
    "plt.ylabel('Generate Numbers between 0 and 1')\n",
    "plt.show()"
   ]
  },
  {
   "cell_type": "markdown",
   "metadata": {},
   "source": [
    "From the scatterplot, we can see the randomly generate numbers between 0 and 1 and all numbers are positive figures. . This is a convenience function. A convenience function is a non-essential subroutine in a programming library or framework which is intended to ease commonly performed tasks. [[Convenience]](https://en.wikipedia.org/wiki/Convenience_function) \n"
   ]
  },
  {
   "cell_type": "markdown",
   "metadata": {},
   "source": [
    "#### Random.randint"
   ]
  },
  {
   "cell_type": "code",
   "execution_count": 6,
   "metadata": {},
   "outputs": [
    {
     "data": {
      "text/plain": [
       "array([44, 52, 19, 28, 19, 87, 55, 70, 67, 72, 85, 91, 60, 79, 13, 63, 96,\n",
       "       87, 33, 47])"
      ]
     },
     "execution_count": 6,
     "metadata": {},
     "output_type": "execute_result"
    }
   ],
   "source": [
    "# Use the random.randint function to generate random numbers between 0 and 100.\n",
    "b = np.random.randint(101, size=20)\n",
    "b"
   ]
  },
  {
   "cell_type": "markdown",
   "metadata": {},
   "source": [
    "This list generates random numbers betweem 0 and 100 with an dsiplay of 10 integers."
   ]
  },
  {
   "cell_type": "code",
   "execution_count": 7,
   "metadata": {},
   "outputs": [
    {
     "data": {
      "text/plain": [
       "Text(0,0.5,'Size')"
      ]
     },
     "execution_count": 7,
     "metadata": {},
     "output_type": "execute_result"
    },
    {
     "data": {
      "image/png": "[encoded data removed]",
      "text/plain": [
       "<matplotlib.figure.Figure at 0x1bbc232cdd8>"
      ]
     },
     "metadata": {},
     "output_type": "display_data"
    }
   ],
   "source": [
    "# Display the array in a in histogram format using matplotlib\n",
    "plt.plot(b)\n",
    "\n",
    "plt.title('Randit Function')                      # Title of Plot\n",
    "plt.xlabel('Numbers Generated')                   # X-axis title\n",
    "plt.ylabel('Size')                                # Y-axis title"
   ]
  },
  {
   "cell_type": "markdown",
   "metadata": {},
   "source": [
    "Similiar to the previous functio, we can see the randomly generate numbers between 0 and 100 on the y-axis. And again all numbers are positive intergers. The x-axis represents the size of these values on the X-axis"
   ]
  },
  {
   "cell_type": "code",
   "execution_count": 8,
   "metadata": {},
   "outputs": [
    {
     "data": {
      "text/plain": [
       "array([[14, 93, 43, 17,  4, 83, 97,  6, 79, 55],\n",
       "       [82, 91, 34, 36, 29, 71, 78, 14, 15, 35]])"
      ]
     },
     "execution_count": 8,
     "metadata": {},
     "output_type": "execute_result"
    }
   ],
   "source": [
    "# Use the random.randint function to generate random numbers between 0 and 100. Size two rows and ten numbers.\n",
    "c = np.random.randint(101, size=(2,10))     # 2D array using randit\n",
    "c"
   ]
  },
  {
   "cell_type": "markdown",
   "metadata": {},
   "source": [
    "This list generates random numbers betweem 0 and 100 with 2 arrays of 10 integers"
   ]
  },
  {
   "cell_type": "markdown",
   "metadata": {},
   "source": [
    "#### Sample"
   ]
  },
  {
   "cell_type": "code",
   "execution_count": 9,
   "metadata": {},
   "outputs": [
    {
     "data": {
      "text/plain": [
       "array([ 0.97863287,  0.3168115 ,  0.58195591,  0.87680432,  0.54558473,\n",
       "        0.17202405,  0.71323528,  0.51659189,  0.01579503,  0.45381351,\n",
       "        0.66545618,  0.51699076,  0.74282555,  0.98046635,  0.07500214,\n",
       "        0.88742637,  0.54309861,  0.35104388,  0.33989496,  0.23854871,\n",
       "        0.7483518 ,  0.57772754,  0.73959273,  0.49340682,  0.00740401,\n",
       "        0.4815027 ,  0.19162643,  0.46092135,  0.43826489,  0.58926   ,\n",
       "        0.20468909,  0.29605373,  0.87493541,  0.23669943,  0.61228249,\n",
       "        0.87157545,  0.77405511,  0.19206961,  0.33671908,  0.80988131,\n",
       "        0.18099511,  0.90626651,  0.91933384,  0.69274709,  0.93498045,\n",
       "        0.27827196,  0.80279531,  0.73829544,  0.06398545,  0.91186922,\n",
       "        0.6181556 ])"
      ]
     },
     "execution_count": 9,
     "metadata": {},
     "output_type": "execute_result"
    }
   ],
   "source": [
    "# Use the random.random.sample to generate 51 numbers between 0 and 1.\n",
    "d = np.random.random_sample(51)\n",
    "d"
   ]
  },
  {
   "cell_type": "code",
   "execution_count": 10,
   "metadata": {},
   "outputs": [
    {
     "data": {
      "image/png": "[encoded data removed]",
      "text/plain": [
       "<matplotlib.figure.Figure at 0x1bbc365c828>"
      ]
     },
     "metadata": {},
     "output_type": "display_data"
    }
   ],
   "source": [
    "# This import registers the 3D projection, but is otherwise unused.\n",
    "from mpl_toolkits.mplot3d import Axes3D  # noqa: F401 unused import\n",
    "\n",
    "fig = plt.figure()\n",
    "ax = fig.gca(projection='3d')\n",
    "\n",
    "# Plot a sin curve using the x and y axes.\n",
    "x = np.linspace(0, 1, 100)\n",
    "y = np.sin(x * 2 * np.pi) / 2 + 0.5\n",
    "ax.plot(x, y, zs=0, zdir='z', label='curve in (x,y)')\n",
    "\n",
    "# Plot scatterplot data (20 2D points per colour) on the x and z axes.\n",
    "colors = ('r', 'g', 'b', 'k')\n",
    "\n",
    "x = np.random.sample(30 * len(colors))\n",
    "y = np.random.sample(30 * len(colors))\n",
    "c_list = []\n",
    "for c in colors:\n",
    "    c_list.extend([c] * 30)\n",
    "# By using zdir='y', the y value of these points is fixed to the zs value 0\n",
    "# and the (x,y) points are plotted on the x and z axes.\n",
    "ax.scatter(x, y, zs=0, zdir='y', c=c_list, label='points in (x,z)')\n",
    "\n",
    "# Make legend, set axes limits and labels\n",
    "ax.legend()\n",
    "ax.set_xlim(0, 1)\n",
    "ax.set_ylim(0, 1)\n",
    "ax.set_zlim(0, 1)\n",
    "ax.set_xlabel('X')\n",
    "ax.set_ylabel('Y')\n",
    "ax.set_zlabel('Z')\n",
    "\n",
    "# Customize the view angle so it's easier to see that the scatter points lie\n",
    "# on the plane y=0\n",
    "ax.view_init(elev=20., azim=-35)\n",
    "\n",
    "plt.show()                               # Y-axis title"
   ]
  },
  {
   "cell_type": "markdown",
   "metadata": {},
   "source": [
    "This is a 2D plot on a 3D plot. We create a sin curve on the using the X and Y axes. Next we plot a scatterplot data (20 2D points per colour) on the x and z axes using the random.sample function. a simple random sample is a subset of individuals (a sample) chosen from a larger set (a population). Each individual is chosen randomly and entirely by chance, such that each individual has the same probability of being chosen at any stage during the sampling process, and each subset of k individuals has the same probability of being chosen for the sample as any other subset of k individuals [[Sample]](https://en.wikipedia.org/wiki/Simple_random_sample). "
   ]
  },
  {
   "cell_type": "markdown",
   "metadata": {},
   "source": [
    "## Permuatations"
   ]
  },
  {
   "cell_type": "markdown",
   "metadata": {},
   "source": [
    "There are two sub-functions with permuatations. They are shuffle and permuatation. These are where a selection of objects in which the order of the objects matters. We will run both random.shuffle and random.permuatation."
   ]
  },
  {
   "cell_type": "markdown",
   "metadata": {},
   "source": [
    "#### Shuffle"
   ]
  },
  {
   "cell_type": "markdown",
   "metadata": {},
   "source": [
    "We use the itertool module to create a deck of cards. This function performs the Cartesian product of the two sequence. The two sequence are, numbers from 1 to 13 and the four suits. So, altogether we have 13 * 4 = 52 items in the deck with each card. [[Programiz]](https://www.programiz.com/python-programming/examples/shuffle-card)\n",
    "\n",
    "The deck is in order so we use the random.shuffle. This shuffle modifies a sequence in-place by shuffling its contents. This randomly shuffle the deck and pick a card at random from our deck."
   ]
  },
  {
   "cell_type": "code",
   "execution_count": 11,
   "metadata": {},
   "outputs": [
    {
     "name": "stdout",
     "output_type": "stream",
     "text": [
      "You got:\n",
      "2 of Diamonds\n"
     ]
    }
   ],
   "source": [
    "# Python program to shuffle a deck of card using the module random and draw 5 cards\n",
    "\n",
    "# make a deck of cards\n",
    "import itertools, random\n",
    "deck = list(itertools.product(range(1,14),['Spades','Hearts','Diamonds','Clubs'])) # Creates two sequence using itertools\n",
    "\n",
    "# shuffle the cards\n",
    "random.shuffle(deck)\n",
    "\n",
    "# draw five cards\n",
    "print(\"You got:\")\n",
    "for i in range(1):\n",
    "   print(deck[i][0], \"of\", deck[i][1])"
   ]
  },
  {
   "cell_type": "markdown",
   "metadata": {},
   "source": [
    "#### Permuatation"
   ]
  },
  {
   "cell_type": "code",
   "execution_count": 12,
   "metadata": {},
   "outputs": [
    {
     "data": {
      "text/plain": [
       "array([[14, 15, 16, 17, 18, 19, 20, 21, 22, 23, 24, 25, 26, 27],\n",
       "       [ 0,  1,  2,  3,  4,  5,  6,  7,  8,  9, 10, 11, 12, 13]])"
      ]
     },
     "execution_count": 12,
     "metadata": {},
     "output_type": "execute_result"
    }
   ],
   "source": [
    "arr = np.arange(28).reshape((2, 14))\n",
    "np.random.permutation(arr)"
   ]
  },
  {
   "cell_type": "markdown",
   "metadata": {},
   "source": [
    "The random.permuatation function randomly permute a sequence, or return a permuted range. A random permutation is a random ordering of a set of objects, that is, a permutation-valued random variable. The use of random permutations is often fundamental to fields that use randomized algorithms such as coding theory, cryptography, and simulation.[[Perm]](https://en.wikipedia.org/wiki/Random_permutation)"
   ]
  },
  {
   "cell_type": "markdown",
   "metadata": {},
   "source": [
    "## Distributions"
   ]
  },
  {
   "cell_type": "markdown",
   "metadata": {},
   "source": [
    "The distribution of a statistical data set (or a population) is a listing or function showing all the possible values (or intervals) of the data and how often they occur. The world of statistics includes dozens of different distributions for categorical and numerical data; the most common ones have their own names. One of the most well-known distributions is called the normal distribution, also known as the bell-shaped curv. [[Distribution]](https://www.dummies.com/education/math/statistics/what-the-distribution-tells-you-about-a-statistical-data-set/)\n",
    "\n",
    "We are going to look at the Normal, Poisson, Binomial, Pareto, Uniform and Power."
   ]
  },
  {
   "cell_type": "markdown",
   "metadata": {},
   "source": [
    "#### Normal"
   ]
  },
  {
   "cell_type": "markdown",
   "metadata": {},
   "source": [
    "We can draw random numbers from other probability distributions. For example, say we wanted to draw random samples from a Normal distribution with mean μ (mu)  and standard deviation σ (sigma).[[Normal]](http://justinbois.github.io/bootcamp/2016/lessons/l26_random_number_generation.html)\n",
    "\n",
    "We will create two histograms. One histogram with step curve that has a color fill and one histogram with custom and unequal bin widths. The normal distribution is the most important and most widely used distribution in statistics. It is sometimes called the \"bell curve. Many things closely follow a Normal Distribution:\n",
    "\n",
    "1. Heights of people\n",
    "2. Size of things produced by machines\n",
    "3. Errors in measurements\n",
    "4. Blood pressure\n",
    "5. Marks on a test \n",
    "[[Dist]](https://www.mathsisfun.com/data/standard-normal-distribution.html)"
   ]
  },
  {
   "cell_type": "code",
   "execution_count": 13,
   "metadata": {},
   "outputs": [
    {
     "data": {
      "image/png": "[encoded data removed]",
      "text/plain": [
       "<matplotlib.figure.Figure at 0x1bbc37190f0>"
      ]
     },
     "metadata": {},
     "output_type": "display_data"
    }
   ],
   "source": [
    "# Set parameters\n",
    "mu = 200                # Mean is equal to 200\n",
    "sigma = 25              # STD is equal to 25\n",
    "x = np.random.normal(mu, sigma, size=100) \n",
    "\n",
    "fig, (ax0, ax1) = plt.subplots(ncols=2, figsize=(12, 6))  # The size of each histogram\n",
    "\n",
    "ax0.hist(x, 40, density=True, histtype='stepfilled', facecolor='r', alpha=0.85)\n",
    "ax0.set_title('stepfilled')\n",
    "\n",
    "# Create a histogram by providing the bin edges (unequally spaced).\n",
    "bins = [100, 150, 180, 195, 205, 220, 250, 300]\n",
    "ax1.hist(x, bins, density=True, histtype='bar', rwidth=0.55)\n",
    "ax1.set_title('unequal bins')\n",
    "\n",
    "fig.tight_layout()\n",
    "plt.show()"
   ]
  },
  {
   "cell_type": "code",
   "execution_count": 14,
   "metadata": {},
   "outputs": [
    {
     "data": {
      "text/plain": [
       "(201.85119184149815, 24.083090574774076)"
      ]
     },
     "execution_count": 14,
     "metadata": {},
     "output_type": "execute_result"
    }
   ],
   "source": [
    "np.mean(x), np.std(x)"
   ]
  },
  {
   "cell_type": "markdown",
   "metadata": {},
   "source": [
    "#### Poisson Distribution"
   ]
  },
  {
   "cell_type": "markdown",
   "metadata": {
    "collapsed": true
   },
   "source": [
    "The Poisson distribution arises from situations in which there is a large number of opportunities for the event under scrutiny to occur but a small chance that it will occur on any one trial. [[Science]](https://www.sciencedirect.com/topics/biochemistry-genetics-and-molecular-biology/poisson-distribution)\n",
    "\n",
    "Poisson distribution is used for independent events which will occur at a constant rate within a given interval of time. This type of distribution is measured has happening or not happening therefore can only be measured in whole numbers. [[Tutorial]](https://www.tutorialspoint.com/python/python_poisson_distribution.htm)\n",
    "\n",
    "We are now going to look at real world problem. We are going to use this modelled to assess the number of bankruptcies filed in a year. If there is an average of 2 bankruptcies per hour and there is 8 hours per day by 5 days in week over 52 weeks. That gives us 2080 hours in the year. The Poisson distribution allows to estimate the most likely event of customers filing for bankruptcies.\n",
    "\n",
    "They are two variables lam and size. numpy.random.poisson(lam=1.0, size=None). The lam variable equals the mean and variance, i.e. the total number of events divided by the number of units in the data. The size variable will determine the amount of random samples called to the distribution"
   ]
  },
  {
   "cell_type": "code",
   "execution_count": 15,
   "metadata": {},
   "outputs": [
    {
     "data": {
      "image/png": "[encoded data removed]",
      "text/plain": [
       "<matplotlib.figure.Figure at 0x1bbc362dba8>"
      ]
     },
     "metadata": {},
     "output_type": "display_data"
    }
   ],
   "source": [
    "# Estimate the possiblities of bankptcies in a given year.\n",
    "import numpy as np\n",
    "import matplotlib.pyplot as plt\n",
    "\n",
    "s = np.random.poisson(2, 2080)\n",
    "count, bins, ignored = plt.hist(s, 16, normed=True)\n",
    "plt.title('Poisson Distribution')                       # Title of Histogram\n",
    "plt.xlabel('Poisson')                                   # X-axis title\n",
    "plt.ylabel('Frequency')                                 # Y-axis title\n",
    "plt.show()"
   ]
  },
  {
   "cell_type": "code",
   "execution_count": 16,
   "metadata": {},
   "outputs": [
    {
     "name": "stdout",
     "output_type": "stream",
     "text": [
      "The mean is 2.02644230769\n",
      "The variance is 1.91901234283\n"
     ]
    }
   ],
   "source": [
    "print(\"The mean is\", np.mean(s)) # Calculating the mean of our Poisson distribution variable\n",
    "print(\"The variance is\", np.var(s))"
   ]
  },
  {
   "cell_type": "markdown",
   "metadata": {},
   "source": [
    "You can also use the Poisson Distribution to meansure the lam for different parameters."
   ]
  },
  {
   "cell_type": "code",
   "execution_count": 17,
   "metadata": {
    "scrolled": true
   },
   "outputs": [
    {
     "data": {
      "text/plain": [
       "array([[ 117,  485,  952, 5003],\n",
       "       [ 121,  541, 1011, 4976],\n",
       "       [ 102,  477, 1015, 4992],\n",
       "       [ 116,  493, 1022, 5067],\n",
       "       [ 112,  496, 1017, 4948],\n",
       "       [  87,  497, 1035, 4933],\n",
       "       [ 104,  533,  972, 5090],\n",
       "       [  86,  500, 1007, 5006],\n",
       "       [ 115,  505,  983, 5141],\n",
       "       [ 101,  501,  961, 5012],\n",
       "       [ 105,  516, 1029, 5085],\n",
       "       [ 132,  506, 1046, 4915],\n",
       "       [ 110,  513,  969, 4953],\n",
       "       [ 100,  481, 1031, 4920],\n",
       "       [ 116,  480, 1021, 4950],\n",
       "       [ 116,  509,  958, 4979],\n",
       "       [  96,  491,  990, 5088],\n",
       "       [ 102,  527, 1010, 5004],\n",
       "       [  94,  505,  984, 5018],\n",
       "       [  96,  476,  961, 4927],\n",
       "       [  86,  541, 1001, 5176],\n",
       "       [  82,  489,  983, 4991],\n",
       "       [  90,  504,  928, 4986],\n",
       "       [ 101,  493, 1015, 5029],\n",
       "       [ 120,  471,  998, 5138],\n",
       "       [ 106,  505,  995, 5093],\n",
       "       [ 111,  461,  971, 5000],\n",
       "       [  99,  523,  981, 5074],\n",
       "       [ 100,  511,  987, 5123],\n",
       "       [ 111,  479, 1046, 5037],\n",
       "       [  94,  531, 1033, 5011],\n",
       "       [  90,  489,  981, 5039],\n",
       "       [ 106,  492, 1004, 5071],\n",
       "       [ 105,  512,  957, 5035],\n",
       "       [  88,  476,  960, 5001],\n",
       "       [ 116,  466, 1009, 5090],\n",
       "       [  89,  497, 1033, 4993],\n",
       "       [  84,  498,  990, 4989],\n",
       "       [  84,  512, 1022, 5087],\n",
       "       [ 107,  523,  960, 4987],\n",
       "       [  94,  525,  948, 5070],\n",
       "       [ 115,  479,  977, 5089],\n",
       "       [  97,  506,  978, 5027],\n",
       "       [ 100,  523,  982, 5052],\n",
       "       [  95,  528,  985, 5107],\n",
       "       [ 100,  503,  997, 5039],\n",
       "       [ 109,  523, 1024, 4911],\n",
       "       [ 102,  454, 1047, 5017],\n",
       "       [ 108,  473, 1059, 4960],\n",
       "       [ 133,  500, 1048, 4936],\n",
       "       [  95,  515, 1016, 4954],\n",
       "       [ 114,  533, 1003, 4849],\n",
       "       [ 114,  510, 1047, 5000],\n",
       "       [  83,  523,  935, 4942],\n",
       "       [ 104,  490,  986, 5003],\n",
       "       [ 113,  504,  976, 5014],\n",
       "       [  89,  477,  996, 5076],\n",
       "       [  99,  511, 1006, 4889],\n",
       "       [  91,  481, 1024, 5023],\n",
       "       [  85,  489,  973, 5013],\n",
       "       [ 122,  512, 1011, 4907],\n",
       "       [  99,  504, 1005, 5040],\n",
       "       [  87,  509,  953, 5016],\n",
       "       [  96,  493, 1006, 4905],\n",
       "       [  91,  502, 1023, 5086],\n",
       "       [ 100,  503, 1042, 5035],\n",
       "       [ 111,  474, 1018, 5039],\n",
       "       [  99,  479, 1034, 4933],\n",
       "       [  92,  527, 1036, 4924],\n",
       "       [  88,  541, 1047, 4990],\n",
       "       [ 105,  506, 1080, 5034],\n",
       "       [ 105,  493, 1022, 4960],\n",
       "       [ 109,  500,  970, 4979],\n",
       "       [  91,  489, 1005, 5035],\n",
       "       [  93,  486, 1012, 5017],\n",
       "       [ 100,  473,  932, 4974],\n",
       "       [  97,  461, 1004, 4836],\n",
       "       [  99,  500,  969, 4834],\n",
       "       [  97,  462,  965, 5030],\n",
       "       [ 101,  501, 1011, 5229],\n",
       "       [ 106,  518,  974, 5067],\n",
       "       [  92,  509,  986, 4931],\n",
       "       [ 109,  497,  998, 4901],\n",
       "       [ 106,  527, 1014, 5063],\n",
       "       [ 109,  502, 1000, 4937],\n",
       "       [  97,  516, 1049, 5014],\n",
       "       [  90,  455,  939, 4938],\n",
       "       [  99,  522,  985, 5054],\n",
       "       [ 111,  555,  959, 4987],\n",
       "       [  86,  502, 1034, 5055],\n",
       "       [  97,  526, 1063, 4946],\n",
       "       [ 103,  533,  979, 5118],\n",
       "       [ 105,  493, 1011, 5091],\n",
       "       [ 103,  473,  988, 4989],\n",
       "       [ 103,  492,  982, 4976],\n",
       "       [  97,  540,  978, 4956],\n",
       "       [  92,  541, 1027, 5068],\n",
       "       [ 100,  484,  973, 5003],\n",
       "       [  92,  466, 1057, 4856],\n",
       "       [  92,  478, 1053, 4993]])"
      ]
     },
     "execution_count": 17,
     "metadata": {},
     "output_type": "execute_result"
    }
   ],
   "source": [
    "# Draw each 100 values for lambda 100, 500, 1000 & 5000\n",
    "p = np.random.poisson(lam=(100, 500, 1000, 5000), size=(100, 4))\n",
    "p"
   ]
  },
  {
   "cell_type": "code",
   "execution_count": 18,
   "metadata": {},
   "outputs": [
    {
     "name": "stdout",
     "output_type": "stream",
     "text": [
      "The mean is 1652.2675\n",
      "The variance is 3854003.96094\n"
     ]
    }
   ],
   "source": [
    "# And then call the mean and variance on them\n",
    "import numpy as np\n",
    "print(\"The mean is\", np.mean(p)) # Calculating the mean of Q\n",
    "print(\"The variance is\", np.var(p))"
   ]
  },
  {
   "cell_type": "markdown",
   "metadata": {},
   "source": [
    "#### Binomial"
   ]
  },
  {
   "cell_type": "markdown",
   "metadata": {},
   "source": [
    "A binomial experiment is a statistical experiment that has the following properties:\n",
    "\n",
    "1. The experiment consists of n repeated trials.\n",
    "2. Each trial can result in just two possible outcomes. We call one of these outcomes a success and the other, a failure.\n",
    "3. The probability of success, denoted by P, is the same on every trial.\n",
    "4. The trials are independent; that is, the outcome on one trial does not affect the outcome on other trials.\n",
    "\n",
    "Consider the following statistical experiment. You flip a coin 2 times and count the number of times the coin lands on heads. This is a binomial experiment because:\n",
    "\n",
    "1. The experiment consists of repeated trials. We flip a coin 2 times.\n",
    "2. Each trial can result in just two possible outcomes - heads or tails.\n",
    "3. The probability of success is constant - 0.5 on every trial.\n",
    "4. The trials are independent; that is, getting heads on one trial does not affect whether we get heads on other trials. [[Binomial]](https://stattrek.com/probability-distributions/binomial.aspx)\n"
   ]
  },
  {
   "cell_type": "markdown",
   "metadata": {
    "collapsed": true
   },
   "source": [
    "Let's look at a real-world problem. Suppose that a student is taking a multiple-choice exam in which each question has four choices.   Assuming that she has no knowledge of the correct to any of the questions, she has decided on a strategy in which she will place four balls (marked A, B, C, and D) into a box.   She randomly selects one ball for each question and replaces the ball in the box.   The marking on the ball will determine her answer to the question. Using this method, the probability of getting a correct answer would be 1/4 = .25 for each question.   This is a binomial situation with n=5 and p=.25.[[Stat]](http://www.stat.wmich.edu/s216/binom/binom.html)"
   ]
  },
  {
   "cell_type": "code",
   "execution_count": 19,
   "metadata": {},
   "outputs": [
    {
     "data": {
      "text/plain": [
       "array([1, 3, 0, 0, 1, 3, 2, 1, 3, 1, 2, 1, 1, 0, 3, 2, 2, 2, 2, 0])"
      ]
     },
     "execution_count": 19,
     "metadata": {},
     "output_type": "execute_result"
    }
   ],
   "source": [
    "n, p = 5, .25  # number of questions, probability of getting it correct\n",
    "r = np.random.binomial(n, p, 20) # Testing this 20 times\n",
    "r"
   ]
  },
  {
   "cell_type": "markdown",
   "metadata": {},
   "source": [
    "This randomly generates the results of getting each of the questions correct over 20 trials. These results can be seen below. The histogram shows for example patch 1 and 3 shows are the most popular results i.e either all wrong or two wrong all the most randomly predicted."
   ]
  },
  {
   "cell_type": "code",
   "execution_count": 20,
   "metadata": {},
   "outputs": [
    {
     "data": {
      "image/png": "[encoded data removed]",
      "text/plain": [
       "<matplotlib.figure.Figure at 0x1bbc3c32780>"
      ]
     },
     "metadata": {},
     "output_type": "display_data"
    }
   ],
   "source": [
    "# Import matplotlib to create a histogram\n",
    "import matplotlib.pyplot as plt\n",
    "n, bins, patches = plt.hist(r, 15, normed=1, color='green')\n",
    "\n",
    "plt.title('Binomial Distribution')                       # Title of Histogram\n",
    "plt.xlabel('Binomial')                                   # X-axis title\n",
    "plt.ylabel('Frequency')                                  # Y- axis title          \n",
    "plt.show()                      "
   ]
  },
  {
   "cell_type": "markdown",
   "metadata": {},
   "source": [
    "#### Pareto"
   ]
  },
  {
   "cell_type": "markdown",
   "metadata": {},
   "source": [
    "The Pareto distribution, named after the Italian civil engineer, economist, and sociologist Vilfredo Pareto, is a power-law probability distribution that is used in description of social, scientific, geophysical, actuarial, and many other types of observable phenomena [[Pareto]](https://en.wikipedia.org/wiki/Pareto_distribution)\n",
    "\n",
    "The Pareto distribution is a skewed distribution with heavy, or “slowly decaying” tails (i.e. much of the data is in the tails).  It has two main applications:\n",
    "\n",
    "1. To model the distribution of incomes.\n",
    "2. To model the distribution of city populations.\n",
    "\n",
    "The Pareto Principle is derived from the Pareto distribution and is used to illustrate that many things are not distributed evenly. Originally written to state that 20% of the population holds 80% of the wealth, it can be applied more universally. For example, 1% of the population holds 99% of the wealth. However, it can be used to model any general situation where situations are not evenly distributed. For example, the top 20% of workers might produce 80% of output. [[Stat]](https://www.statisticshowto.datasciencecentral.com/pareto-distribution/)\n",
    "\n",
    "Let's use a real world problem to explain the Pareto Distribution. In business the 80% of our sales come from 20% of our customers."
   ]
  },
  {
   "cell_type": "code",
   "execution_count": 21,
   "metadata": {},
   "outputs": [
    {
     "name": "stdout",
     "output_type": "stream",
     "text": [
      "[ 125.95295817  122.37851505  103.06330555  101.43473367  109.76506728\n",
      "  117.05497407  100.28982703  103.62612629  115.90050887  107.50136365\n",
      "  100.80602439  100.43389845  108.27149713  112.47960566  103.73222121\n",
      "  108.98989616  101.9321363   130.89831343  102.62227952  126.44709274\n",
      "  111.68239699  106.26876728  113.40801676  104.42437602  106.93111819\n",
      "  133.9722857   118.16115195  109.905006    102.36103683  124.83811552\n",
      "  115.49158744  102.05125007  152.92353387  100.39684122  106.61361487\n",
      "  118.94711863  102.89149393  113.13544636  112.67607838  110.58304501\n",
      "  113.39430371  109.04104934  101.15773685  101.71382148  121.95944244\n",
      "  106.48678573  110.78717536  120.37055044  113.91518365  109.47625498\n",
      "  102.94300475  108.11573546  104.87883546  113.04392331  106.8812774\n",
      "  124.17922911  101.23495442  108.85116635  143.28644007  110.7708243\n",
      "  108.17006805  102.55144645  122.51073231  110.80958112  106.21870692\n",
      "  103.45538273  101.74270044  103.17236643  102.10345518  106.01740382\n",
      "  102.62925946  102.60600717  115.42178716  112.43519999  134.70466442\n",
      "  110.78416011  100.02164561  101.83612388  100.93811275  124.28457161\n",
      "  107.63798615  103.69037194  116.7770854   145.72119606  113.89215232\n",
      "  103.44494763  120.02465485  115.57413596  104.43125493  102.48424174\n",
      "  127.5727565   104.79775157  128.14758879  133.28475848  111.13967289\n",
      "  113.44717904  115.37354655  100.57940187  102.38223576  116.45052213\n",
      "  135.68520716  106.19001532  104.19624314  113.6332405   205.64096233\n",
      "  141.56276155  105.63526465  107.37690907  103.92774969  104.92617969\n",
      "  129.66720223  108.23469386  103.08430715  118.99270703  106.67866115\n",
      "  150.19425252  113.50669497  104.4770074   108.67058946  103.74328033\n",
      "  106.62864317  105.89971362  102.27960522  106.01551747  106.29069453\n",
      "  100.55322832  111.09721351  102.44521497  114.53513425  100.59118302\n",
      "  134.12644645  106.77273255  100.70226574  111.94742068  104.32925287\n",
      "  110.37381796  112.63010575  109.64850283  123.13297149  100.33892279\n",
      "  113.80009998  100.01831034  110.39679784  105.1044308   103.90758906\n",
      "  137.2989005   101.13644983  105.60131323  104.88118501  109.1016715\n",
      "  116.62255382  110.50250041  115.03882609  103.03750024  133.27347892\n",
      "  112.0090055   105.4771654   121.60037186  104.19333597  104.84095617\n",
      "  116.35956879  115.22073118  100.90767212  109.34711601  101.08277666\n",
      "  103.32106169  120.63583023  100.62670665  107.57322424  117.07649724\n",
      "  101.89436999  104.35516008  101.11438999  135.28291142  109.45150551\n",
      "  127.08969471  111.58490752  115.6770832   101.06771298  121.12937355\n",
      "  102.69177278  102.80899348  102.45740155  103.0293252   112.19201373\n",
      "  108.64394855  106.68210169  127.34590081  108.17180003  102.34589339\n",
      "  107.05666522  117.77899177  100.66011884  100.31952108  104.00373385\n",
      "  103.31077954  101.25768888  101.29174365  119.66510301  107.88644478\n",
      "  123.77824727  111.43863089  106.09752713  100.61168413  104.71541893\n",
      "  108.86059175  108.79129469  104.57888437  103.82920859  111.58122833\n",
      "  101.52479365  148.78092091  105.07483803  148.0466487   107.19287165\n",
      "  106.35684519  101.27571615  109.23945107  100.32466548  100.15974078\n",
      "  113.35600262  100.12429184  111.44369675  105.61792688  100.90417978\n",
      "  102.90164185  101.5217866   107.37409647  101.28208436  102.61250941\n",
      "  104.37607241  101.31978555  120.58629202  118.33831278  114.06637908\n",
      "  101.96123715  106.00502092  125.5565117   105.9979442   108.92709746\n",
      "  100.34357236  106.23421817  108.13983947  133.75989593  110.62582649\n",
      "  100.68462579  122.99081457  119.86235793  107.11231809  103.32717951\n",
      "  117.64934887  106.96048572  100.92355622  101.43254358  102.26041667\n",
      "  100.3458851   108.99493969  126.80688108  106.19501081  155.29324064\n",
      "  102.62591768  111.8203147   107.11155972  119.95436143  100.43283775\n",
      "  127.31270866  107.73036285  100.6276652   126.01381018  102.06278832\n",
      "  129.99626344  102.29206435  112.70721888  103.05637124  102.01129962\n",
      "  107.397444    106.04509133  110.02068196  101.80615137  117.5570809\n",
      "  123.62734424  115.30240158  102.59316734  107.21636526  119.58995453\n",
      "  106.67673171  112.38547915  116.7592992   100.08547319  100.07104023\n",
      "  125.80295508  102.4971941   111.02196561  103.22312274  152.54098954\n",
      "  115.19804771  102.85605089  110.93294858  171.50418228  103.42638073\n",
      "  111.17948569  144.81313439  101.44086059  114.73084476  115.84257981\n",
      "  116.64657319  110.20329976  105.69839472  100.25450575  103.32597911\n",
      "  104.20066133  131.88019983  113.36124243  112.81684805  114.74110893\n",
      "  102.74416524  103.36014487  104.06175286  106.85618623  125.8776141\n",
      "  105.86556041  111.26145625  107.14348535  102.08483113  154.07939033\n",
      "  102.44895628  104.38303553  107.52798823  103.07580263  112.65164824\n",
      "  100.78875169  106.09360668  142.92412766  127.6870978   117.19460345\n",
      "  102.08491425  113.35335531  104.84331144  115.11782359  114.06569119\n",
      "  101.12288347  113.69595772  122.41968872  107.98571953  102.33047112\n",
      "  100.8847377   131.60835372  102.96678403  111.37365016  101.31478307\n",
      "  100.7181348   129.0985378   101.3548103   122.41822515  122.91037512\n",
      "  129.81457655  101.3170336   105.03328424  107.9935      111.093994\n",
      "  105.03736991  105.60088804  110.72831468  110.81689287  115.42856939\n",
      "  112.98556708  143.73388576  101.05217449  112.25530652  100.22938327\n",
      "  105.77222379  122.8416507   119.44387819  110.93047626  101.79095909\n",
      "  104.75791977  147.02489835  106.50631288  100.95974539  157.77326934\n",
      "  109.76215237  119.72070232  101.27873888  109.10886855  103.07698254\n",
      "  122.83178934  117.75180041  113.74773292  104.24427839  102.49061385\n",
      "  119.67323844  120.95897104  105.25585083  101.26397146  108.71808734\n",
      "  105.75100386  106.65461963  119.51159017  101.2462306   107.3058969\n",
      "  108.22796247  109.30715562  102.54624235  139.3073549   102.4628308\n",
      "  102.20794475  101.23534047  167.59550523  108.67039676  109.48410962\n",
      "  116.15763223  128.79223755  100.01721093  103.16018249  137.8102689\n",
      "  103.44108077  111.27344215  111.30942184  126.69070763  105.07382657\n",
      "  109.85494816  101.09308701  102.95737696  106.08028287  108.70008533\n",
      "  107.89090003  101.70016624  102.10476377  106.52497021  101.46558224\n",
      "  231.88485263  100.80720792  104.62237779  114.44158478  105.62384285\n",
      "  103.37386758  103.57911346  105.93465072  135.1882081   101.41080234\n",
      "  104.16407158  107.47406534  119.0816619   103.32785149  107.33978348\n",
      "  116.33567817  100.16389096  100.33432081  123.48707158  105.5435118\n",
      "  102.63584158  116.08523939  107.70788369  104.53080463  101.44374768\n",
      "  125.47897211  115.56403698  119.48248801  112.35412041  104.10572915\n",
      "  115.79633264  108.7910826   105.52053627  104.67462082  140.98112761\n",
      "  129.27589429  100.48000173  106.34996888  115.60424857  100.25118625\n",
      "  100.13686948  109.60908441  103.05516883  113.17990765  107.57115361\n",
      "  105.6041089   100.58171015  114.78884512  183.40851713  104.44426809\n",
      "  102.97898285  123.53054902  106.08968214  114.049038    114.24072753\n",
      "  100.06814121  116.74530044  102.13509032  110.02035881  108.96800564\n",
      "  115.0635226   113.81945017  110.46215629  103.49571593  106.12095933\n",
      "  107.6940612   101.55326334  111.1586813   105.03894523  102.63475883\n",
      "  101.22625668  114.05307915  100.08646879  104.99304028  112.56259392\n",
      "  101.2535772   100.07919926  100.35146201  108.96535985  100.60531992\n",
      "  102.37814145  108.59739292  104.24103494  103.15310716  103.15976691\n",
      "  123.57902568  104.52148186  117.10668296  104.28736939  100.24364987\n",
      "  103.8089733   104.7343042   107.12398455  126.29136192  102.88362003\n",
      "  121.33501491  106.99101307  106.60003205  117.46970297  108.63763076\n",
      "  100.08613077  104.48378344  100.59408951  106.58250493  108.37144028\n",
      "  103.44940999  139.36084776  118.02312696  116.97690543  100.50406046\n",
      "  104.92314981  107.61486108  103.58415252  100.80658875  116.28215112\n",
      "  103.75872219  115.76568431  103.01226842  101.44195781  101.07646337\n",
      "  102.40088204  100.48185029  108.35505616  119.40671324  101.57980406\n",
      "  101.54084394  101.69213105  134.35287331  102.68421645  101.39705599\n",
      "  104.92431477  106.41786211  118.01963683  118.12102623  101.76284221\n",
      "  100.22114909  118.09992709  113.92004381  102.33320808  105.54261306\n",
      "  118.46884585  112.11954502  105.0073872   135.1761396   109.71935744\n",
      "  121.42127729  100.37699948  118.66842986  104.09950143  103.9079005\n",
      "  121.6680594   116.50962598  102.43806919  103.94524193  105.99085563\n",
      "  110.65866638  102.83692039  106.489473    100.36289893  116.83235186\n",
      "  100.90250564  102.94807633  111.97156206  129.80530009  114.21700635\n",
      "  130.95260638  139.90736455  114.43078091  100.59616846  113.16097354\n",
      "  102.80398057  113.79686844  103.8647033   141.4941849   103.79489194\n",
      "  120.71510674  119.4733962   116.13320512  105.00084825  108.75501395\n",
      "  100.07669432  100.34901296  105.5302916   107.62885943  115.91942701\n",
      "  101.16929517  107.40412529  100.42166022  109.93317841  127.27140947\n",
      "  125.82324967  122.17222864  100.91468304  103.57084713  104.82398846\n",
      "  103.46756736  113.42375955  107.64406634  102.43931385  101.45124164\n",
      "  104.95871479  106.46324315  111.33863511  142.70313052  101.23336791\n",
      "  117.47495735  103.34625647  102.93923111  107.16571842  106.29737005\n",
      "  103.05403954  101.80929239  104.49873819  104.15591506  112.43390385\n",
      "  102.78464635  118.24432079  105.80543445  162.93118152  100.06244471\n",
      "  104.17376356  105.31123525  136.36759817  101.79305626  123.08235414\n",
      "  105.79970177  115.8581582   107.33396721  116.21992147  111.90849965\n",
      "  113.84540918  102.14780251  102.32845495  122.72339056  108.66733163\n",
      "  111.84339986  114.59534566  102.92031874  106.16764996  102.63894494\n",
      "  119.04187538  115.165321    105.80719542  102.39108208  101.76264905\n",
      "  106.39363318  111.1988087   105.06257703  101.95210621  102.70532411\n",
      "  122.51488329  116.37542024  133.84044305  119.66151178  102.66046669\n",
      "  100.48389945  105.08219367  110.52349567  110.1198052   118.48333753\n",
      "  115.6531872   125.01819205  114.88686628  122.60668751  101.16538844\n",
      "  111.92860291  131.21334227  100.00637856  100.35521011  107.36140955\n",
      "  106.5796056   110.83402252  102.14030646  113.77170584  130.53541935\n",
      "  106.99415197  104.93794602  118.29526726  105.77397254  123.42119215\n",
      "  106.28127982  113.86756785  121.87892229  125.50875457  105.70386924\n",
      "  103.84408372  105.11682495  105.73851038  119.91434189  101.78137178\n",
      "  100.68455705  103.55234324  108.09704424  108.79291372  108.69565066\n",
      "  102.94766778  108.38072238  101.92794275  150.4444323   112.60875125\n",
      "  103.2361274   134.43792749  135.3763758   123.24385587  123.8841287\n",
      "  103.25536179  103.9005073   102.81744236  101.85323384  105.68815145\n",
      "  107.48253413  120.26690155  113.08638914  100.47712921  102.52713338\n",
      "  109.21300303  110.15542612  104.2372207   102.8668909   104.2368904\n",
      "  107.21932315  104.09125114  126.45506977  101.15131982  103.92463912\n",
      "  100.1883169   108.27931873  104.98424979  103.81753927  107.16900342\n",
      "  117.20108668  140.41390957  104.03892895  125.60281598  102.54477053\n",
      "  113.89966557  102.92819316  100.17369912  111.44357627  101.00907914\n",
      "  110.57835644  100.84075052  102.59303094  104.21903401  103.80728089\n",
      "  111.71737805  104.90446839  100.65362628  108.44627451  101.23637283\n",
      "  101.25375682  106.82331232  113.50011991  106.03513048  102.78471456\n",
      "  116.163886    103.98482914  111.9300219   108.68695968  107.04641834\n",
      "  123.92166759  104.77357999  108.8719746   119.17468682  101.51621517\n",
      "  117.95403063  122.60832883  103.23593252  120.6747976   149.34507769\n",
      "  111.52122981  107.25554476  101.98203108  137.73165431  109.56366573\n",
      "  103.13020875  100.64146395  126.97985116  126.40384615  105.27288532\n",
      "  106.64890327  113.70103243  103.70440734  134.58937022  119.04567058\n",
      "  101.71011357  144.93855916  105.88627654  116.01063248  114.87644243\n",
      "  102.66138338  104.59299891  119.85754519  111.97023313  111.32553561\n",
      "  100.45530244  104.59006632  113.41402225  110.17265706  112.79089229\n",
      "  153.77282427  101.52920036  101.90773924  101.59616067  100.13218799\n",
      "  107.11281637  108.22640523  105.34916842  100.95733862  104.13821989\n",
      "  118.63079351  108.13751882  105.83073773  112.28474591  111.75678558\n",
      "  106.32461704  102.32910517  154.48427412  110.66451869  125.14384663\n",
      "  102.69367179  136.85550176  112.63186549  100.29025633  100.76165341\n",
      "  134.18522621  128.1296851   108.25777696  102.90555249  101.32093949\n",
      "  115.20467474  147.81791322  100.55651676  103.65685262  100.75591715\n",
      "  122.18318089  117.45929835  121.31875808  112.92364423  103.22961684\n",
      "  118.72782233  128.02684946  105.50763299  106.83170328  107.75330507\n",
      "  113.44298516  106.39428444  103.40809954  123.16499489  125.09351313\n",
      "  105.1117298   111.69945396  101.21670771  108.64037777  100.01563404\n",
      "  101.4325632   110.98544242  105.07488848  126.86713099  110.1199193\n",
      "  132.92459135  107.54775702  104.63363901  102.10333599  107.46069545\n",
      "  104.6362331   101.90285629  104.18234538  119.35299476  104.165281\n",
      "  105.67396296  128.61541383  102.39794914  101.32102769  116.23575169\n",
      "  105.32901235  111.13269513  103.59472133  114.62419814  104.77875333\n",
      "  118.04835138  121.01218521  102.04810794  106.70659524  103.23563192\n",
      "  138.75664106  116.3747188   112.4654015   123.42394737  113.1283585\n",
      "  101.77240853  102.28556906  101.34054452  110.63792371  104.32756612\n",
      "  101.8182007   127.39302889  100.71498394  117.25619635  106.55354225\n",
      "  104.9296877   104.72374159  103.61511797  102.1996138   107.9180624\n",
      "  102.51494907  112.4922813   106.02176262  117.94874569  127.51432819\n",
      "  100.30063553  105.52958935  100.5264866   115.10407053  149.40793497\n",
      "  127.29176872  103.82048175  131.59432552  109.62133879  105.14027471\n",
      "  117.93482567  106.75408118  104.10227483  102.40259266  110.64377362\n",
      "  104.6857221   112.92525994  101.93568447  108.69126588  101.55700309\n",
      "  104.63865467  106.76373978  112.40278951  108.35083199  103.30785638\n",
      "  112.14347436  101.80982398  115.33423563  111.48091183  105.75296327\n",
      "  131.34842396  107.76476534  113.09312257  110.3730436   103.86500825\n",
      "  111.88189111  109.15017308  102.34349249  102.77793454  115.99142451\n",
      "  121.63752269  111.79834733  125.67794195  102.04558336  107.42497679\n",
      "  105.07624429  127.78401772  105.72516123  100.91703344  109.6748255\n",
      "  103.01594223  108.41277754  111.86870885  115.0430324   117.50423549\n",
      "  107.16575893  125.33195423  109.19347205  110.14849745  101.99564145]\n"
     ]
    }
   ],
   "source": [
    "# Print random numbers for a pareto distribution\n",
    "a, m = 10, 100 # shape and mode\n",
    "s = (np.random.pareto(a, 1000) + 1) * m\n",
    "print(s)"
   ]
  },
  {
   "cell_type": "code",
   "execution_count": 22,
   "metadata": {},
   "outputs": [
    {
     "data": {
      "image/png": "[encoded data removed]",
      "text/plain": [
       "<matplotlib.figure.Figure at 0x1bbc3c36908>"
      ]
     },
     "metadata": {},
     "output_type": "display_data"
    }
   ],
   "source": [
    "#Display the histogram of the samples, along with the probability density function:\n",
    "count, bins, _ = plt.hist(s, 50, normed=True) # Count equals to s, bin amount to colunms\n",
    "fit = a*m**a / bins**(a+1)\n",
    "plt.plot(bins, max(count)*fit/max(fit), linewidth=3, color='y')\n",
    "\n",
    "plt.title('Pareto Distribution')\n",
    "plt.xlabel('Pareto')\n",
    "plt.ylabel('Count')\n",
    "plt.show()"
   ]
  },
  {
   "cell_type": "markdown",
   "metadata": {
    "collapsed": true
   },
   "source": [
    "#### Power"
   ]
  },
  {
   "cell_type": "markdown",
   "metadata": {
    "collapsed": true
   },
   "source": [
    "The power function distribution is just the inverse of the Pareto distribution. It may also be seen as a special case of the Beta distribution. It is used, for example, in modelling the over-reporting of insurance claims.[[Power]](https://docs.scipy.org/doc/numpy-1.15.1/reference/generated/numpy.random.power.html#numpy.random.power)\n",
    "\n",
    "The power law can be used to describe a phenomenon where a small number of items is clustered at the top of a distribution (or at the bottom), taking up 95% of the resources. In other words, it implies a small amount of occurrences is common, while larger occurrences are rare. For example, where the distribution of income is concerned, there are very few billionaires; the bulk of the population holds very modest nest eggs.[[Stat]](https://www.statisticshowto.datasciencecentral.com/power-law/)"
   ]
  },
  {
   "cell_type": "code",
   "execution_count": 23,
   "metadata": {},
   "outputs": [
    {
     "data": {
      "text/plain": [
       "array([ 0.89633235,  0.87960601,  0.96361048, ...,  0.99544881,\n",
       "        0.51267949,  0.98309721])"
      ]
     },
     "execution_count": 23,
     "metadata": {},
     "output_type": "execute_result"
    }
   ],
   "source": [
    "# Display the Power Distribution\n",
    "a = 5 #shape\n",
    "samples = 5000 # Number of Samples\n",
    "s = np.random.power(a, samples)\n",
    "s"
   ]
  },
  {
   "cell_type": "code",
   "execution_count": 24,
   "metadata": {},
   "outputs": [
    {
     "data": {
      "image/png": "[encoded data removed]",
      "text/plain": [
       "<matplotlib.figure.Figure at 0x1bbc30f8ef0>"
      ]
     },
     "metadata": {},
     "output_type": "display_data"
    }
   ],
   "source": [
    "#Display the histogram of the samples, along with the probability density function:\n",
    "count, bins, ignored = plt.hist(s, bins=50)\n",
    "x = np.linspace(0, 1, 50)\n",
    "y = a*x**(a-1.)\n",
    "normed_y = samples*np.diff(bins)[0]*y\n",
    "plt.plot(x,normed_y)\n",
    "plt.title('Pareto Distribution')\n",
    "plt.xlabel('Power')\n",
    "plt.ylabel('Count')\n",
    "plt.show()"
   ]
  },
  {
   "cell_type": "markdown",
   "metadata": {
    "collapsed": true
   },
   "source": [
    "#### Uniform"
   ]
  },
  {
   "cell_type": "markdown",
   "metadata": {
    "collapsed": true
   },
   "source": [
    "A uniform distribution, sometimes also known as a rectangular distribution, is a distribution that has constant probability. [[Uniform]](http://mathworld.wolfram.com/UniformDistribution.html)\n",
    "\n",
    "The uniform distribution gets its name from the fact that the probabilities for all outcomes are the same. Unlike a normal distribution with a hump in the middle or a chi-square distribution, a uniform distribution has no mode. Instead, every outcome is equally likely to occur. [[Thought]](https://www.thoughtco.com/uniform-distribution-3126573). There are two types of uniform distributions: discrete and continuous.\n",
    "\n",
    "Any situation in which every outcome in a sample space is equally likely will use a uniform distribution. One example of this in a discrete case is when we roll a single standard die. There are a total of six sides of the die, and each side has the same probability of being rolled face up. The probability histogram for this distribution is rectangular shaped, with six bars that each have height of 1/6.[[Thought]](https://www.thoughtco.com/uniform-distribution-3126573)\n",
    "\n",
    "For an example of a uniform distribution in a continuous setting, we will consider an idealized random number generator. This will truly generate a random number from a specified range of values. So if we specify that the generator is to produce a random number between 1 and 4, then 3.25, 3, e, 2.222222, 3.4545456 and pi are all possible numbers that are equally likely to be produced.[[Thought]](https://www.thoughtco.com/uniform-distribution-3126573)\n"
   ]
  },
  {
   "cell_type": "markdown",
   "metadata": {},
   "source": [
    "In order to show the use of a random.uniform function in use. We will create a contour plot of irregularly spaced data. Comparison of a contour plot of irregularly spaced data interpolated on a regular grid versus a tricontour plot for an unstructured triangular grid.\n",
    "\n",
    "Since contour() and contourf() expect the data to live on a regular grid, plotting a contour plot of irregularly spaced data requires different methods. The two options are:\n",
    "\n",
    "Interpolate the data to a regular grid first. This can be done with on-borad means, e.g. via LinearTriInterpolator or using external functionality e.g. via scipy.interpolate.griddata. Then plot the interpolated data with the usual contour().\n",
    "Directly use tricontour() or tricontourf() which will perform a triangulation internally. [[Matplotlib]](https://matplotlib.org/gallery/images_contours_and_fields/irregulardatagrid.html#sphx-glr-gallery-images-contours-and-fields-irregulardatagrid-py)"
   ]
  },
  {
   "cell_type": "code",
   "execution_count": 35,
   "metadata": {},
   "outputs": [
    {
     "data": {
      "image/png": "[encoded data removed]",
      "text/plain": [
       "<matplotlib.figure.Figure at 0x1bbc6907f60>"
      ]
     },
     "metadata": {},
     "output_type": "display_data"
    }
   ],
   "source": [
    "# Create an unstructured triangular grid consisting of npoints points and ntri triangles. \n",
    "import matplotlib.tri as tri\n",
    "\n",
    "npts = 300              # Number of npoints\n",
    "ngridx = 100\n",
    "ngridy = 200\n",
    "x = np.random.uniform(-2, 2, npts)\n",
    "y = np.random.uniform(-2, 2, npts)\n",
    "z = x * np.exp(-x**2 - y**2)\n",
    "\n",
    "fig, (ax1, ax2) = plt.subplots(nrows=2)\n",
    "\n",
    "# Interpolation on a grid\n",
    "# A contour plot of irregularly spaced data coordinates\n",
    "\n",
    "# Create grid values first.\n",
    "xi = np.linspace(-2.1, 2.1, ngridx)\n",
    "yi = np.linspace(-2.1, 2.1, ngridy)\n",
    "\n",
    "# Perform linear interpolation of the data (x,y)\n",
    "# on a grid defined by (xi,yi)\n",
    "triang = tri.Triangulation(x, y)\n",
    "interpolator = tri.LinearTriInterpolator(triang, z)\n",
    "Xi, Yi = np.meshgrid(xi, yi)\n",
    "zi = interpolator(Xi, Yi)\n",
    "\n",
    "#Creation of the first contour\n",
    "ax1.contour(xi, yi, zi, 14, linewidths=0.5, colors='k')\n",
    "cntr1 = ax1.contourf(xi, yi, zi, 14, cmap=\"RdBu_r\")\n",
    "\n",
    "fig.colorbar(cntr1, ax=ax1)\n",
    "ax1.plot(x, y, 'ko', ms=3)\n",
    "ax1.axis((-2, 2, -2, 2))\n",
    "ax1.set_title('grid and contour (%d points, %d grid points)' %\n",
    "              (npts, ngridx * ngridy))\n",
    "\n",
    "# Creation of the second contour\n",
    "ax2.tricontour(x, y, z, 14, linewidths=0.5, colors='k')\n",
    "cntr2 = ax2.tricontourf(x, y, z, 14, cmap=\"RdBu_r\")\n",
    "\n",
    "fig.colorbar(cntr2, ax=ax2)\n",
    "ax2.plot(x, y, 'ko', ms=3)\n",
    "ax2.axis((-2, 2, -2, 2))\n",
    "ax2.set_title('tricontour (%d points)' % npts)\n",
    "\n",
    "plt.subplots_adjust(hspace=0.5)\n",
    "plt.show()"
   ]
  },
  {
   "cell_type": "markdown",
   "metadata": {},
   "source": [
    "## Random Generator "
   ]
  },
  {
   "cell_type": "markdown",
   "metadata": {
    "collapsed": true
   },
   "source": [
    "#### Seeds"
   ]
  },
  {
   "cell_type": "markdown",
   "metadata": {},
   "source": [
    "The method seed() sets the integer starting value used in generating random numbers. This function is not accessible directly, so we need to import seed module and then we need to call this function using random static object.[[Tutorial]](https://www.tutorialspoint.com/python/number_seed.htm)\n",
    "\n",
    "For a seed to be used in a pseudorandom number generator, it does not need to be random. Because of the nature of number generating algorithms, so long as the original seed is ignored, the rest of the values that the algorithm generates will follow probability distribution in a pseudorandom manner.[[Seeds]](https://en.wikipedia.org/wiki/Random_seed)\n",
    "\n",
    "Every time we import random, the subsequent sequence of random.random() calls will yield different numbers. For debugging purposes it is useful to get the same sequence of random numbers every time we run the program. This functionality is obtained by setting a seed before we start generating numbers.[[help]](http://hplgit.github.io/primer.html/doc/pub/random/._random-readable001.html)\n",
    "\n",
    "The PRNG-generated sequence is not truly random, because it is completely determined by an initial value, called the PRNG's seed (which may include truly random values). Although sequences that are closer to truly random can be generated using hardware random number generators, pseudorandom number generators are important in practice for their speed in number generation and their reproducibility. PRNGs are central in applications such as simulations (e.g. for the Monte Carlo method), electronic games (e.g. for procedural generation), and cryptography. Cryptographic applications require the output not to be predictable from earlier outputs, and more elaborate algorithms, which do not inherit the linearity of simpler PRNGs, are needed.[[Wiki]]((https://en.wikipedia.org/wiki/Pseudorandom_number_generator)\n",
    "\n",
    "As we can see from the below example using the random.seed(4) vd (3) they generate different lines according to this number of the seed and as state already these numbers are not truly random."
   ]
  },
  {
   "cell_type": "code",
   "execution_count": 6,
   "metadata": {},
   "outputs": [
    {
     "name": "stdout",
     "output_type": "stream",
     "text": [
      "[0 3 1 4 2]\n",
      "[0 3 1 4 2]\n",
      "[0 3 1 4 2]\n",
      "[0 3 1 4 2]\n",
      "[0 3 1 4 2]\n"
     ]
    }
   ],
   "source": [
    "import numpy as np\n",
    "from numpy import random\n",
    "\n",
    "for i in range(5):\n",
    "    arr = np.arange(5)  # [0, 1, 2, 3, 4]\n",
    "    random.seed(4)  # Reset random state\n",
    "    random.shuffle(arr)  # Shuffle!\n",
    "    print(arr)"
   ]
  },
  {
   "cell_type": "code",
   "execution_count": 7,
   "metadata": {},
   "outputs": [
    {
     "name": "stdout",
     "output_type": "stream",
     "text": [
      "[3 4 1 0 2]\n",
      "[3 4 1 0 2]\n",
      "[3 4 1 0 2]\n",
      "[3 4 1 0 2]\n",
      "[3 4 1 0 2]\n"
     ]
    }
   ],
   "source": [
    "for i in range(5):\n",
    "    arr = np.arange(5)  # [0, 1, 2, 3, 4]\n",
    "    random.seed(3)  # Reset random state\n",
    "    random.shuffle(arr)  # Shuffle!\n",
    "    print(arr)"
   ]
  },
  {
   "cell_type": "markdown",
   "metadata": {},
   "source": [
    "#### RandomState"
   ]
  },
  {
   "cell_type": "markdown",
   "metadata": {},
   "source": [
    "The first sentence (a = numpy.random.RandomState(1)) start the pseudo random seed, in this case 1. That means that, no mater how many times you run the script, always get the same \"random\" number 1."
   ]
  },
  {
   "cell_type": "markdown",
   "metadata": {},
   "source": [
    "## Relationship between Distribution"
   ]
  },
  {
   "cell_type": "markdown",
   "metadata": {},
   "source": [
    "It is a reasonable assertion that all probability distributions are someway related to one another. Many distributions give the same distributions for different values for i a such as: normal, gamma, chi-square and Cauchy for continuous distributions and Poisson, binomial, negative binomial for discrete distributions as indicated in the Figures by double rectangles[[Relationship]](https://rivista-statistica.unibo.it/article/viewFile/3576/2928)\n",
    "\n",
    "Probability distributions describe what we think the probability of each outcome is, which is sometimes more interesting to know than simply which single outcome is most likely. They come in many shapes, but in only one size: probabilities in a distribution always add up to 1.\n",
    "\n",
    "For example, flipping a fair coin has two outcomes: it lands heads or tails. (Assume it can’t land on edge or be stolen by a seagull in mid-air.) Before the flip, we believe there’s a 1 in 2 chance, or 0.5 probability, of heads. The same is true for tails. That’s a probability distribution over the two outcomes of the flip, and if you can follow that sentence, you’ve already mastered the Bernoulli distribution. [[Prob]](http://blog.cloudera.com/blog/2015/12/common-probability-distributions-the-data-scientists-crib-sheet/)\n",
    "\n",
    "Now lets look an example of between uniform and Bernoulli. You met the Bernoulli distribution above, over two discrete outcomes—tails or heads. Think of it, however, as a distribution over 0 and 1, over 0 heads (i.e. tails) or 1 heads. Above, both outcomes were equally likely, and that’s what’s illustrated in the diagram. The Bernoulli PDF has two lines of equal height, representing the two equally-probable outcomes of 0 and 1 at either end.\n",
    "\n",
    "The Bernoulli distribution could represent outcomes that aren’t equally likely, like the result of an unfair coin toss. Then, the probability of heads is not 0.5, but some other value p, and the probability of tails is 1-p. Like many distributions, it’s actually a family of distributions defined by parameters, like p here. When you think “Bernoulli,” just think “(possibly unfair) coin toss.”\n",
    "\n",
    "It’s a short jump to imagine a distribution over many equally-likely outcomes: the uniform distribution, characterized by its flat PDF. Imagine rolling a fair die. The outcomes 1 to 6 are equally likely. It can be defined for any number of outcomes n or even as a continuous distribution.\n",
    "\n",
    "Associate the uniform distribution with “rolling a fair die.” [[Blog]](http://blog.cloudera.com/blog/2015/12/common-probability-distributions-the-data-scientists-crib-sheet/)\n",
    "\n",
    "This is one example of the different realtionships in the below chart.As we can see there are many more and eaxh interact differently. "
   ]
  },
  {
   "cell_type": "markdown",
   "metadata": {},
   "source": [
    "<img src=\"http://blog.cloudera.com/wp-content/uploads/2015/12/distribution.png\" height=\"200\" width=\"1000\">"
   ]
  },
  {
   "cell_type": "markdown",
   "metadata": {
    "collapsed": true
   },
   "source": [
    "## References"
   ]
  },
  {
   "cell_type": "markdown",
   "metadata": {},
   "source": [
    "[1] https://www.pythonforbeginners.com/learn-python/what-is-python/"
   ]
  },
  {
   "cell_type": "markdown",
   "metadata": {},
   "source": [
    "[2]  https://www.scipy.org/scipylib/faq.html#what-is-numpy"
   ]
  },
  {
   "cell_type": "markdown",
   "metadata": {},
   "source": [
    "[3]  https://www.python-course.eu/numpy.php"
   ]
  },
  {
   "cell_type": "markdown",
   "metadata": {},
   "source": [
    "[4] http://cs231n.github.io/python-numpy-tutorial/"
   ]
  },
  {
   "cell_type": "markdown",
   "metadata": {},
   "source": [
    "[5] https://en.wikipedia.org/wiki/NumPy"
   ]
  },
  {
   "cell_type": "markdown",
   "metadata": {},
   "source": [
    "[6]  https://stackabuse.com/numpy-tutorial-a-simple-example-based-guide/#advantagesofnumpy "
   ]
  },
  {
   "cell_type": "markdown",
   "metadata": {},
   "source": [
    "[7] https://www.sciencedirect.com/topics/biochemistry-genetics-and-molecular-biology/poisson-distribution"
   ]
  },
  {
   "cell_type": "markdown",
   "metadata": {},
   "source": [
    "[8] https://stattrek.com/probability-distributions/binomial.aspx"
   ]
  },
  {
   "cell_type": "markdown",
   "metadata": {},
   "source": [
    "[9]  https://www.labri.fr/perso/nrougier/teaching/numpy/numpy.html"
   ]
  },
  {
   "cell_type": "markdown",
   "metadata": {},
   "source": [
    "[10]  https://docs.scipy.org/doc/numpy-1.14.0/reference/routines.random.html"
   ]
  },
  {
   "cell_type": "markdown",
   "metadata": {},
   "source": [
    "[11] https://en.wikipedia.org/wiki/Convenience_function"
   ]
  },
  {
   "cell_type": "markdown",
   "metadata": {
    "collapsed": true
   },
   "source": [
    "[12] https://www.programiz.com/python-programming/examples/shuffle-card"
   ]
  },
  {
   "cell_type": "markdown",
   "metadata": {
    "collapsed": true
   },
   "source": [
    "[13] https://www.dummies.com/education/math/statistics/what-the-distribution-tells-you-about-a-statistical-data-set/"
   ]
  },
  {
   "cell_type": "markdown",
   "metadata": {},
   "source": [
    "[14] https://docs.scipy.org/doc/numpy-1.15.1/reference/generated/numpy.array.html"
   ]
  },
  {
   "cell_type": "markdown",
   "metadata": {
    "collapsed": true
   },
   "source": [
    "[15] https://en.wikipedia.org/wiki/Pareto_distribution"
   ]
  },
  {
   "cell_type": "markdown",
   "metadata": {
    "collapsed": true
   },
   "source": [
    "[16] http://mathworld.wolfram.com/UniformDistribution.html"
   ]
  },
  {
   "cell_type": "markdown",
   "metadata": {},
   "source": [
    "[17] https://bigdata-madesimple.com/how-to-implement-these-5-powerful-probability-distributions-in-python/"
   ]
  },
  {
   "cell_type": "markdown",
   "metadata": {},
   "source": [
    "[18] https://www.tutorialspoint.com/python/number_seed.htm"
   ]
  },
  {
   "cell_type": "markdown",
   "metadata": {},
   "source": [
    "[19] http://hplgit.github.io/primer.html/doc/pub/random/._random-readable001.html"
   ]
  },
  {
   "cell_type": "markdown",
   "metadata": {},
   "source": [
    "[20] https://en.wikipedia.org/wiki/Random_seed"
   ]
  },
  {
   "cell_type": "markdown",
   "metadata": {
    "collapsed": true
   },
   "source": [
    "[21] https://www.tutorialspoint.com/python/python_poisson_distribution.htm"
   ]
  },
  {
   "cell_type": "markdown",
   "metadata": {
    "collapsed": true
   },
   "source": [
    "[22] https://www.statisticshowto.datasciencecentral.com/power-law/"
   ]
  },
  {
   "cell_type": "markdown",
   "metadata": {},
   "source": [
    "[23] https://www.thoughtco.com/uniform-distribution-3126573]"
   ]
  },
  {
   "cell_type": "markdown",
   "metadata": {},
   "source": [
    "[24] http://hplgit.github.io/primer.html/doc/pub/random/._random-readable001.html"
   ]
  },
  {
   "cell_type": "markdown",
   "metadata": {},
   "source": [
    "[25] https://en.wikipedia.org/wiki/Simple_random_sample"
   ]
  },
  {
   "cell_type": "markdown",
   "metadata": {},
   "source": [
    "[26] https://en.wikipedia.org/wiki/Random_permutation"
   ]
  },
  {
   "cell_type": "markdown",
   "metadata": {},
   "source": [
    "[27] https://www.mathsisfun.com/data/standard-normal-distribution.html"
   ]
  },
  {
   "cell_type": "markdown",
   "metadata": {
    "collapsed": true
   },
   "source": [
    "[28] https://matplotlib.org/gallery/images_contours_and_fields/irregulardatagrid.html#sphx-glr-gallery-images-contours-and-fields-irregulardatagrid-py"
   ]
  },
  {
   "cell_type": "markdown",
   "metadata": {
    "collapsed": true
   },
   "source": [
    "[29] https://en.wikipedia.org/wiki/Pseudorandom_number_generator"
   ]
  },
  {
   "cell_type": "markdown",
   "metadata": {},
   "source": [
    "[30] http://blog.cloudera.com/blog/2015/12/common-probability-distributions-the-data-scientists-crib-sheet/"
   ]
  },
  {
   "cell_type": "markdown",
   "metadata": {},
   "source": [
    "[31] https://rivista-statistica.unibo.it/article/viewFile/3576/2928"
   ]
  }
 ],
 "metadata": {
  "kernelspec": {
   "display_name": "Python 3",
   "language": "python",
   "name": "python3"
  },
  "language_info": {
   "codemirror_mode": {
    "name": "ipython",
    "version": 3
   },
   "file_extension": ".py",
   "mimetype": "text/x-python",
   "name": "python",
   "nbconvert_exporter": "python",
   "pygments_lexer": "ipython3",
   "version": "3.6.3"
  }
 },
 "nbformat": 4,
 "nbformat_minor": 2
}
