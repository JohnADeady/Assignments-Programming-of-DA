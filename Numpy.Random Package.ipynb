{
 "cells": [
  {
   "cell_type": "markdown",
   "metadata": {},
   "source": [
    "<img src=\"https://upload.wikimedia.org/wikipedia/commons/1/1a/NumPy_logo.svg\" height=\"200\" width=\"600\">"
   ]
  },
  {
   "cell_type": "markdown",
   "metadata": {},
   "source": [
    "# NumPy Random Package Assignment"
   ]
  },
  {
   "cell_type": "markdown",
   "metadata": {},
   "source": [
    " The following assignment concerns the NumPy.random package in Python. There are four tasks to be carried out in this Jupyter notebook.\n",
    "1. Explain the overall purpose of the package. \n",
    "2. Explain the use of the “Simple random data” and “Permutations” functions. \n",
    "3. Explain the use and purpose of at least ﬁve “Distributions” functions. \n",
    "4. Explain the use of seeds in generating pseudorandom numbers.\n"
   ]
  },
  {
   "cell_type": "markdown",
   "metadata": {
    "collapsed": true
   },
   "source": [
    "## Purpose of the NumPy Package"
   ]
  },
  {
   "cell_type": "markdown",
   "metadata": {},
   "source": [
    "NumPy or Numeric Python is a Python extension module or library that provides efficient operation on arrays of homogeneous data. It allows python to serve as a high-level language for manipulating numerical data [[Scipy]](https://www.scipy.org/scipylib/faq.html#what-is-numpy).\n",
    "\n",
    "NumPy enriches the programming language Python with powerful data structures, implementing multi-dimensional arrays and matrices. These data structures guarantee efficient calculations with matrices and arrays. [[Python]](https://www.python-course.eu/numpy.php)\n",
    "\n",
    "Python is a great general-purpose programming language on its own, but with the help of a few popular libraries (numpy, scipy, matplotlib) it becomes a powerful environment for scientific computing. [[Github]](http://cs231n.github.io/python-numpy-tutorial/)\n",
    "\n",
    "The ancestor of NumPy, Numeric, was originally created by Jim Hugunin with contributions from several other developers. In 2005, Travis Oliphant created NumPy by incorporating features of the competing Numarray into Numeric, with extensive modifications. NumPy is open-source software and has many contributors. [[Wiki]](https://en.wikipedia.org/wiki/NumPy)"
   ]
  },
  {
   "cell_type": "markdown",
   "metadata": {},
   "source": [
    "## Advantages"
   ]
  },
  {
   "cell_type": "markdown",
   "metadata": {},
   "source": [
    "NumPy has several advantages over using core Python mathemtatical functions, a few of which are outlined here:\n",
    "\n",
    "1.NumPy is extremely fast when compared to core Python thanks to its heavy use of C extensions.\n",
    "\n",
    "2.Many advanced Python libraries, such as Scikit-Learn, Scipy, and Keras, make extensive use of the NumPy library. Therefore, if you plan to pursue a career in data science or machine learning, NumPy is a very good tool to master.\n",
    "\n",
    "3.NumPy comes with a variety of built-in functionalities, which in core Python would take a fair bit of custom code. [[Stackabuse]](https://stackabuse.com/numpy-tutorial-a-simple-example-based-guide/#advantagesofnumpy )"
   ]
  },
  {
   "cell_type": "markdown",
   "metadata": {},
   "source": [
    "## Introduction"
   ]
  },
  {
   "cell_type": "markdown",
   "metadata": {},
   "source": [
    "This jupyter notebook is concerned with the random sampling function of NumPy. But first we will look at a simple python example and then compare this to NumPy a more quick and efficent way to run a dataset."
   ]
  },
  {
   "cell_type": "code",
   "execution_count": 29,
   "metadata": {},
   "outputs": [
    {
     "name": "stdout",
     "output_type": "stream",
     "text": [
      "[4, 5, 6, 7, 8]\n"
     ]
    }
   ],
   "source": [
    "# Create two variables X and Y  \n",
    "x = [2, 3, 4, 5, 6]      # x equals a list of numbers\n",
    "y = [a + 2 for a in x]   # y equals to x + 2  for a in x\n",
    "print(y)                 # print y"
   ]
  },
  {
   "cell_type": "markdown",
   "metadata": {},
   "source": [
    "Next we will import the NumPy library and we will call it np for shorthand:"
   ]
  },
  {
   "cell_type": "code",
   "execution_count": 34,
   "metadata": {},
   "outputs": [
    {
     "name": "stdout",
     "output_type": "stream",
     "text": [
      "[4 5 6 7 8]\n"
     ]
    }
   ],
   "source": [
    "# Create two variables X and Y  \n",
    "import numpy as np              # Import numpy library\n",
    "import matplotlib.pyplot as plt # Import matplotib library for plots\n",
    "%matplotlib inline              \n",
    "x = np.array([2, 3, 4, 5, 6])   # Let x equals np.array which includes list 2 to 6\n",
    "y = x + 2                       # Let y equals to x to 2\n",
    "print(y)                        # print y"
   ]
  },
  {
   "cell_type": "markdown",
   "metadata": {
    "collapsed": true
   },
   "source": [
    "By importing the NumPy library we can create shortcuts and shorten our python code. This is one of the advantages of using np.arrray over normal python code"
   ]
  },
  {
   "cell_type": "markdown",
   "metadata": {},
   "source": [
    "## Simple Random Data"
   ]
  },
  {
   "cell_type": "markdown",
   "metadata": {},
   "source": [
    "We will now look at simple random data of NumPy. This is the most basic type of random code. \n",
    "\n",
    "We will run examples of random.rand, random.randint and random.sample and create histograms to graphy the output data"
   ]
  },
  {
   "cell_type": "code",
   "execution_count": 35,
   "metadata": {},
   "outputs": [
    {
     "data": {
      "text/plain": [
       "array([[ 0.73822448,  0.63298223,  0.2417734 ,  0.94047651,  0.71588455],\n",
       "       [ 0.21683748,  0.14979304,  0.87981023,  0.07305492,  0.32024311],\n",
       "       [ 0.89947115,  0.38978861,  0.23205818,  0.40309211,  0.03925636],\n",
       "       [ 0.753117  ,  0.18920246,  0.62693216,  0.43505938,  0.42906959],\n",
       "       [ 0.67340319,  0.31447269,  0.57188464,  0.81694906,  0.85078677]])"
      ]
     },
     "execution_count": 35,
     "metadata": {},
     "output_type": "execute_result"
    }
   ],
   "source": [
    "# Use the random.rand function to generate random numbers between 0 and 1.\n",
    "a= np.random.rand(5,5)\n",
    "a"
   ]
  },
  {
   "cell_type": "markdown",
   "metadata": {},
   "source": [
    "The rand functiion generates numbers between 0 to 1. This example above 5 acrocss by 5 down randonly generated"
   ]
  },
  {
   "cell_type": "code",
   "execution_count": 36,
   "metadata": {},
   "outputs": [
    {
     "data": {
      "text/plain": [
       "Text(0,0.5,'Count')"
      ]
     },
     "execution_count": 36,
     "metadata": {},
     "output_type": "execute_result"
    },
    {
     "data": {
      "image/png": "[encoded data removed]",
      "text/plain": [
       "<matplotlib.figure.Figure at 0x1cece88ac18>"
      ]
     },
     "metadata": {},
     "output_type": "display_data"
    }
   ],
   "source": [
    "# Display the array in a in histogram format using matplotlib\n",
    "plt.hist(a)\n",
    "\n",
    "plt.title('Rand Function')                     # Title of Histogram\n",
    "plt.xlabel('Generate Numbers between 0 and 1') # X-axis title\n",
    "plt.ylabel('Count')                             # Y-axis title"
   ]
  },
  {
   "cell_type": "markdown",
   "metadata": {},
   "source": [
    "From the histogram, we can see the randomly generate numbers between 0 and 1 on the X-axis. This means that all numbers are positive figures. The Y-axis represents the count of these values on the X-axis. This is a convenience function. A convenience function is a non-essential subroutine in a programming library or framework which is intended to ease commonly performed tasks. [[Convenience]](https://en.wikipedia.org/wiki/Convenience_function) \n"
   ]
  },
  {
   "cell_type": "code",
   "execution_count": 37,
   "metadata": {},
   "outputs": [
    {
     "data": {
      "text/plain": [
       "array([65, 67, 95, 23, 25, 70, 13, 54, 65, 76])"
      ]
     },
     "execution_count": 37,
     "metadata": {},
     "output_type": "execute_result"
    }
   ],
   "source": [
    "# Use the random.randint function to generate random numbers between 0 and 100.\n",
    "b = np.random.randint(101, size=10)\n",
    "b"
   ]
  },
  {
   "cell_type": "markdown",
   "metadata": {},
   "source": [
    "This list generates random numbers betweem 0 and 100 with an dsiplay of 10 integers."
   ]
  },
  {
   "cell_type": "code",
   "execution_count": 38,
   "metadata": {},
   "outputs": [
    {
     "data": {
      "text/plain": [
       "Text(0,0.5,'Count')"
      ]
     },
     "execution_count": 38,
     "metadata": {},
     "output_type": "execute_result"
    },
    {
     "data": {
      "image/png": "[encoded data removed]",
      "text/plain": [
       "<matplotlib.figure.Figure at 0x1cecf096710>"
      ]
     },
     "metadata": {},
     "output_type": "display_data"
    }
   ],
   "source": [
    "# Display the array in a in histogram format using matplotlib\n",
    "plt.hist(b)\n",
    "\n",
    "plt.title('Randit Function')                       # Title of Histogram\n",
    "plt.xlabel('Generate Numbers between 0 and 100')   # X-axis title\n",
    "plt.ylabel('Count')                                # Y-axis title"
   ]
  },
  {
   "cell_type": "markdown",
   "metadata": {},
   "source": [
    "Similiar to the previous histogram, we can see the randomly generate numbers between 0 and 100 on the X-axis. And again all numbers are positive intergers. The Y-axis represents the count of these values on the X-axis"
   ]
  },
  {
   "cell_type": "code",
   "execution_count": 39,
   "metadata": {},
   "outputs": [
    {
     "data": {
      "text/plain": [
       "array([[46, 41, 44, 43],\n",
       "       [48, 47, 19, 19]])"
      ]
     },
     "execution_count": 39,
     "metadata": {},
     "output_type": "execute_result"
    }
   ],
   "source": [
    "# Use the random.randint function to generate random numbers between 0 and 10. Size two rows and four numbers.}\n",
    "c = np.random.randint(51, size=(2,4))     # 2D array using randit\n",
    "c"
   ]
  },
  {
   "cell_type": "markdown",
   "metadata": {},
   "source": [
    "This list generates random numbers betweem 0 and 10 with 2 arrays of 4 integers"
   ]
  },
  {
   "cell_type": "code",
   "execution_count": 40,
   "metadata": {},
   "outputs": [
    {
     "data": {
      "text/plain": [
       "Text(0,0.5,'Count')"
      ]
     },
     "execution_count": 40,
     "metadata": {},
     "output_type": "execute_result"
    },
    {
     "data": {
      "image/png": "[encoded data removed]",
      "text/plain": [
       "<matplotlib.figure.Figure at 0x1cecf2f0eb8>"
      ]
     },
     "metadata": {},
     "output_type": "display_data"
    }
   ],
   "source": [
    "# Display the array in a in histogram format using matplotlib\n",
    "plt.hist(c)                                        # The two arrays on the same histogram\n",
    "\n",
    "plt.title('Randit Function')                       # Title of Histogram\n",
    "plt.xlabel('Generate Numbers between 0 and 50')    # X-axis title\n",
    "plt.ylabel('Count')                                # Y-axis title"
   ]
  },
  {
   "cell_type": "markdown",
   "metadata": {},
   "source": [
    "Similiar to the previous histogram, we can see the randomly generate numbers between 0 and 50 on the X-axis. And again all numbers are positive intergers. But this histogram has the two outputs on the same histogram. The Y-axis represents the count of these values on the X-axis"
   ]
  },
  {
   "cell_type": "code",
   "execution_count": 41,
   "metadata": {},
   "outputs": [
    {
     "data": {
      "text/plain": [
       "array([ 0.89305561,  0.41135681,  0.55149965,  0.62522898,  0.72158109,\n",
       "        0.12023145,  0.75191547,  0.31337327,  0.47954635,  0.91631164,\n",
       "        0.12711495,  0.33512275,  0.52517331,  0.57833481,  0.85491204,\n",
       "        0.48977258,  0.5424229 ,  0.19724716,  0.22710791,  0.71623902,\n",
       "        0.93701982,  0.8175347 ,  0.33881392,  0.0703386 ,  0.67406151,\n",
       "        0.0097155 ,  0.76047956,  0.89512173,  0.12771735,  0.44740315,\n",
       "        0.93008546,  0.70597463,  0.26099618,  0.27615194,  0.30734861,\n",
       "        0.05009179,  0.17285308,  0.84244334,  0.1716484 ,  0.43849472,\n",
       "        0.44691462,  0.17379711,  0.55981129,  0.36783336,  0.33327865,\n",
       "        0.92799915,  0.46936717,  0.15121389,  0.27899992,  0.01012486,\n",
       "        0.90050441])"
      ]
     },
     "execution_count": 41,
     "metadata": {},
     "output_type": "execute_result"
    }
   ],
   "source": [
    "# Use the random.random.sample to generate 51 numbers between 0 and 1.\n",
    "d = np.random.random_sample(51)\n",
    "d"
   ]
  },
  {
   "cell_type": "code",
   "execution_count": 42,
   "metadata": {},
   "outputs": [
    {
     "data": {
      "text/plain": [
       "Text(0,0.5,'Count')"
      ]
     },
     "execution_count": 42,
     "metadata": {},
     "output_type": "execute_result"
    },
    {
     "data": {
      "image/png": "[encoded data removed]",
      "text/plain": [
       "<matplotlib.figure.Figure at 0x1cecf1086d8>"
      ]
     },
     "metadata": {},
     "output_type": "display_data"
    }
   ],
   "source": [
    "# Display the array in a in histogram format using matplotlib\n",
    "plt.hist(d)                                 \n",
    "\n",
    "plt.title('Sample Function')                       # Title of Histogram\n",
    "plt.xlabel('Generate Numbers between 0 and 1')     # X-axis title\n",
    "plt.ylabel('Count')                                # Y-axis title"
   ]
  },
  {
   "cell_type": "markdown",
   "metadata": {},
   "source": [
    "This histogram generates positive deciamls numbers between 0 and 1. The X-axis show the frequency of occurence and Y-axis sums how many times each occurs. Results are from the “continuous uniform” distribution over the stated interval [[SciPy]](https://docs.scipy.org/doc/numpy-1.15.1/reference/generated/numpy.random.random_sample.html#numpy.random.random_sample). The continuous uniform distribution or rectangular distribution is a family of symmetric probability distributions such that for each member of the family, all intervals of the same length on the distribution's support are equally probable. [[Uniform]](https://en.wikipedia.org/wiki/Uniform_distribution_(continuous))"
   ]
  },
  {
   "cell_type": "markdown",
   "metadata": {},
   "source": [
    "## Permuatations"
   ]
  },
  {
   "cell_type": "markdown",
   "metadata": {},
   "source": [
    "There are two sub-functions with permuatations. They are shuffle and permuatation. These are where a selection of objects in which the order of the objects matters. We will run random.shuffle\n",
    "\n",
    "We use the itertool module to create a deck of cards. This function performs the Cartesian product of the two sequence. The two sequence are, numbers from 1 to 13 and the four suits. So, altogether we have 13 * 4 = 52 items in the deck with each card. [[Programiz]](https://www.programiz.com/python-programming/examples/shuffle-card)\n",
    "\n",
    "The deck is in order so we use the random.shuffle. This shuffle modifies a sequence in-place by shuffling its contents. This randomly shuffle the deck and pick a card at random from our deck."
   ]
  },
  {
   "cell_type": "code",
   "execution_count": 45,
   "metadata": {},
   "outputs": [
    {
     "name": "stdout",
     "output_type": "stream",
     "text": [
      "You got:\n",
      "9 of Spade\n"
     ]
    }
   ],
   "source": [
    "# Python program to shuffle a deck of card using the module random and draw 5 cards\n",
    "\n",
    "# make a deck of cards\n",
    "import itertools, random\n",
    "deck = list(itertools.product(range(1,14),['Spade','Heart','Diamond','Club'])) # Creates two sequence using itertools\n",
    "\n",
    "# shuffle the cards\n",
    "random.shuffle(deck)\n",
    "\n",
    "# draw five cards\n",
    "print(\"You got:\")\n",
    "for i in range(1):\n",
    "   print(deck[i][0], \"of\", deck[i][1])"
   ]
  },
  {
   "cell_type": "markdown",
   "metadata": {},
   "source": [
    "## Distributions"
   ]
  },
  {
   "cell_type": "markdown",
   "metadata": {},
   "source": [
    "The distribution of a statistical data set (or a population) is a listing or function showing all the possible values (or intervals) of the data and how often they occur. The world of statistics includes dozens of different distributions for categorical and numerical data; the most common ones have their own names. One of the most well-known distributions is called the normal distribution, also known as the bell-shaped curv. [[Distribution]](https://www.dummies.com/education/math/statistics/what-the-distribution-tells-you-about-a-statistical-data-set/)\n",
    "\n",
    "We are going to look at the Poisson, Binomial Power, Uniform and Pareto."
   ]
  },
  {
   "cell_type": "markdown",
   "metadata": {},
   "source": [
    "#### Poisson Distribution"
   ]
  },
  {
   "cell_type": "markdown",
   "metadata": {
    "collapsed": true
   },
   "source": [
    "The first numpy random distribution we will look at is the poisson distribution. The Poisson distribution arises from situations in which there is a large number of opportunities for the event under scrutiny to occur but a small chance that it will occur on any one trial.[[Science]](https://www.sciencedirect.com/topics/biochemistry-genetics-and-molecular-biology/poisson-distribution)\n",
    "\n",
    "Poisson distribution is used for independent events which will occur at a constant rate within a given interval of time. This type of distribution is measured has happening or not happening therefore can only be measured in whole numbers. [[Tutorial]](https://www.tutorialspoint.com/python/python_poisson_distribution.htm)\n",
    "\n",
    "We are now going to look at real world problem. We are going to use this modeled to assess the number of bankruptices filed in a year. If there is an average of 2 bankruptices per hour and there is 8 hours per day by 5 days in week over 52 weeks. That gives us 2080 hours in the year. The Poisson distribution allows to estimate the most likely event of customers filing for bankruptcies.\n",
    "\n",
    "They are two variables lam and size. numpy.random.poisson(lam=1.0, size=None). The lam variable equals the mean and variance, i.e.the total number of events divided by the number of units in the data. The size variable will determine the amount of random samples called to the distribution\n",
    "\n"
   ]
  },
  {
   "cell_type": "code",
   "execution_count": 13,
   "metadata": {},
   "outputs": [
    {
     "data": {
      "image/png": "[encoded data removed]",
      "text/plain": [
       "<matplotlib.figure.Figure at 0x23c890d6c18>"
      ]
     },
     "metadata": {},
     "output_type": "display_data"
    }
   ],
   "source": [
    "# Estimate the possiblities of bankptcies in a given year.\n",
    "import numpy as np\n",
    "import matplotlib.pyplot as plt\n",
    "\n",
    "s = np.random.poisson(2, 2080)\n",
    "count, bins, ignored = plt.hist(s, 16, normed=True)\n",
    "plt.title('Poisson Distribution')                       # Title of Histogram\n",
    "plt.xlabel('Poisson')                                   # X-axis title\n",
    "plt.ylabel('Frequency')                                 # Y-axis title\n",
    "plt.show()"
   ]
  },
  {
   "cell_type": "code",
   "execution_count": 14,
   "metadata": {},
   "outputs": [
    {
     "name": "stdout",
     "output_type": "stream",
     "text": [
      "The mean is 2.04663461538\n",
      "The variance is 1.99926752034\n"
     ]
    }
   ],
   "source": [
    "print(\"The mean is\", np.mean(s)) # Calculating the mean of our Poisson distribution variable\n",
    "print(\"The variance is\", np.var(s))"
   ]
  },
  {
   "cell_type": "markdown",
   "metadata": {},
   "source": [
    "You can also use the Poisson Distribution to meansure the lam for different parameters."
   ]
  },
  {
   "cell_type": "code",
   "execution_count": 28,
   "metadata": {},
   "outputs": [
    {
     "data": {
      "text/plain": [
       "array([[ 117,  496,  907, 5075],\n",
       "       [  85,  466, 1008, 4981],\n",
       "       [  98,  517, 1026, 5019],\n",
       "       [ 110,  454, 1028, 5060],\n",
       "       [ 106,  521,  999, 5022],\n",
       "       [ 105,  515,  982, 5019],\n",
       "       [  98,  500,  978, 4930],\n",
       "       [ 112,  472, 1015, 5064],\n",
       "       [ 103,  518, 1028, 5046],\n",
       "       [  89,  484, 1024, 4984],\n",
       "       [  88,  500, 1007, 4995],\n",
       "       [  92,  525,  979, 5171],\n",
       "       [ 110,  525,  979, 4879],\n",
       "       [  91,  535, 1069, 4994],\n",
       "       [ 115,  517,  975, 5084],\n",
       "       [  97,  492, 1083, 4981],\n",
       "       [  88,  477,  991, 4931],\n",
       "       [ 101,  488,  989, 4925],\n",
       "       [ 109,  519, 1028, 5059],\n",
       "       [  94,  476, 1023, 4959],\n",
       "       [  89,  496, 1025, 4889],\n",
       "       [  95,  519,  999, 4992],\n",
       "       [ 108,  474, 1029, 5066],\n",
       "       [  90,  526, 1036, 4964],\n",
       "       [  82,  513, 1023, 4943],\n",
       "       [  95,  522, 1016, 4862],\n",
       "       [  86,  466, 1030, 5018],\n",
       "       [ 106,  461,  963, 4837],\n",
       "       [  80,  459,  976, 5151],\n",
       "       [  96,  545,  981, 4888],\n",
       "       [  92,  524, 1001, 4919],\n",
       "       [  98,  458, 1060, 5106],\n",
       "       [  82,  526, 1013, 5026],\n",
       "       [  90,  455, 1004, 5043],\n",
       "       [ 103,  463,  995, 4862],\n",
       "       [ 111,  521, 1008, 4934],\n",
       "       [  99,  520,  993, 5043],\n",
       "       [ 108,  535, 1037, 5059],\n",
       "       [ 107,  463, 1088, 5026],\n",
       "       [ 104,  484,  998, 4938],\n",
       "       [  98,  527,  987, 4955],\n",
       "       [ 102,  501, 1037, 5031],\n",
       "       [ 111,  448, 1015, 5035],\n",
       "       [ 101,  541, 1035, 5102],\n",
       "       [  97,  484,  976, 5054],\n",
       "       [  97,  504, 1054, 4931],\n",
       "       [  99,  508, 1046, 4935],\n",
       "       [ 100,  474, 1061, 5075],\n",
       "       [  98,  518,  988, 5014],\n",
       "       [ 108,  529,  977, 4934],\n",
       "       [ 111,  477,  968, 5001],\n",
       "       [  98,  475,  934, 4988],\n",
       "       [ 111,  505, 1009, 4872],\n",
       "       [  95,  546, 1049, 5002],\n",
       "       [ 105,  497, 1028, 5011],\n",
       "       [ 105,  455, 1040, 4954],\n",
       "       [  83,  489,  948, 4865],\n",
       "       [  87,  476,  999, 5062],\n",
       "       [  91,  481, 1031, 4950],\n",
       "       [  84,  503, 1054, 5042],\n",
       "       [ 107,  517,  983, 4954],\n",
       "       [ 113,  504,  980, 4906],\n",
       "       [  86,  454, 1017, 5010],\n",
       "       [  89,  517,  954, 4983],\n",
       "       [ 104,  490, 1024, 4984],\n",
       "       [  89,  522, 1020, 5015],\n",
       "       [ 116,  523, 1069, 4977],\n",
       "       [  93,  515, 1030, 4934],\n",
       "       [ 110,  525,  967, 5057],\n",
       "       [ 115,  508,  996, 4940],\n",
       "       [ 102,  508, 1025, 5059],\n",
       "       [ 120,  489, 1017, 5021],\n",
       "       [ 101,  468,  985, 4987],\n",
       "       [ 100,  507,  959, 4898],\n",
       "       [  91,  490, 1000, 5009],\n",
       "       [  96,  484, 1057, 4953],\n",
       "       [  91,  500, 1007, 5061],\n",
       "       [  88,  510,  942, 5054],\n",
       "       [  89,  513,  985, 4978],\n",
       "       [ 104,  512, 1002, 4937],\n",
       "       [ 116,  524,  992, 4925],\n",
       "       [  80,  504, 1001, 4971],\n",
       "       [  84,  495, 1010, 4995],\n",
       "       [ 117,  490, 1021, 5121],\n",
       "       [ 105,  488,  939, 4975],\n",
       "       [  91,  526, 1001, 4961],\n",
       "       [  98,  505,  974, 4934],\n",
       "       [ 105,  498, 1011, 4951],\n",
       "       [  94,  518, 1031, 5032],\n",
       "       [ 118,  519,  983, 4944],\n",
       "       [ 106,  529, 1005, 5070],\n",
       "       [ 121,  483,  951, 4936],\n",
       "       [ 105,  522,  976, 5021],\n",
       "       [  98,  532, 1047, 5055],\n",
       "       [ 112,  500, 1026, 5069],\n",
       "       [ 107,  497,  975, 5005],\n",
       "       [ 104,  489,  991, 5030],\n",
       "       [  83,  482,  995, 5009],\n",
       "       [  89,  508, 1033, 4918],\n",
       "       [ 117,  497, 1008, 4923]])"
      ]
     },
     "execution_count": 28,
     "metadata": {},
     "output_type": "execute_result"
    }
   ],
   "source": [
    "# Draw each 100 values for lambda 100, 500, 1000 & 5000\n",
    "p = np.random.poisson(lam=(100, 500, 1000, 5000), size=(100, 4))\n",
    "p"
   ]
  },
  {
   "cell_type": "code",
   "execution_count": 30,
   "metadata": {},
   "outputs": [
    {
     "name": "stdout",
     "output_type": "stream",
     "text": [
      "The mean is 1649.32\n",
      "The variance is 3827409.0276\n"
     ]
    }
   ],
   "source": [
    "# And then call the mean and variance on them\n",
    "import numpy as np\n",
    "print(\"The mean is\", np.mean(p)) # Calculating the mean of Q\n",
    "print(\"The variance is\", np.var(p))"
   ]
  },
  {
   "cell_type": "markdown",
   "metadata": {},
   "source": [
    "#### Binomial"
   ]
  },
  {
   "cell_type": "markdown",
   "metadata": {},
   "source": [
    "A binomial experiment is a statistical experiment that has the following properties:\n",
    "\n",
    "1. The experiment consists of n repeated trials.\n",
    "2. Each trial can result in just two possible outcomes. We call one of these outcomes a success and the other, a failure.\n",
    "3. The probability of success, denoted by P, is the same on every trial.\n",
    "4. The trials are independent; that is, the outcome on one trial does not affect the outcome on other trials.\n",
    "\n",
    "Consider the following statistical experiment. You flip a coin 2 times and count the number of times the coin lands on heads. This is a binomial experiment because:\n",
    "\n",
    "1. The experiment consists of repeated trials. We flip a coin 2 times.\n",
    "2. Each trial can result in just two possible outcomes - heads or tails.\n",
    "3. The probability of success is constant - 0.5 on every trial.\n",
    "4. The trials are independent; that is, getting heads on one trial does not affect whether we get heads on other trials. [[Binomial]](https://stattrek.com/probability-distributions/binomial.aspx)\n"
   ]
  },
  {
   "cell_type": "markdown",
   "metadata": {
    "collapsed": true
   },
   "source": [
    "Let's look at a real world problem. Suppose that a student is taking a multiple-choice exam in which each question has four choices.   Assuming that she has no knowledge of the correct to any of the questions, she has decided on a strategy in which she will place four balls (marked A, B, C, and D) into a box.   She randomly selects one ball for each question and replaces the ball in the box.   The marking on the ball will determine her answer to the question. Using this method, the probability of getting a correct answer would be 1/4 = .25 for each question.   This is a binomial situation with n=5 and p=.25.[[Stat]](http://www.stat.wmich.edu/s216/binom/binom.html)"
   ]
  },
  {
   "cell_type": "code",
   "execution_count": 41,
   "metadata": {},
   "outputs": [
    {
     "data": {
      "text/plain": [
       "array([2, 2, 2, 2, 0, 1, 1, 0, 1, 0, 1, 0, 2, 0, 0, 0, 2, 1, 3, 2])"
      ]
     },
     "execution_count": 41,
     "metadata": {},
     "output_type": "execute_result"
    }
   ],
   "source": [
    "n, p = 5, .25  # number of questions, probability of getting it correct\n",
    "r = np.random.binomial(n, p, 20) # Testing this 20 times\n",
    "r"
   ]
  },
  {
   "cell_type": "markdown",
   "metadata": {},
   "source": [
    "This randomly generates the results of getting each of the questions correct over 20 trials. These results can be seen below. The histogram shows for example patch 1 and 3 shows are the most popular results i.e either all wrong or two wrong all the most randomly predicted."
   ]
  },
  {
   "cell_type": "code",
   "execution_count": 49,
   "metadata": {},
   "outputs": [
    {
     "data": {
      "image/png": "[encoded data removed]",
      "text/plain": [
       "<matplotlib.figure.Figure at 0x23c8a7a94a8>"
      ]
     },
     "metadata": {},
     "output_type": "display_data"
    }
   ],
   "source": [
    "# Import matplotlib to create a histogram\n",
    "import matplotlib.pyplot as plt\n",
    "n, bins, patches = plt.hist(r, 15, normed=1, color='green')\n",
    "\n",
    "plt.title('Binomial Distribution')                       # Title of Histogram\n",
    "plt.xlabel('Binomial')                                   # X-axis title\n",
    "plt.ylabel('Frequency')                                  # Y- axis title          \n",
    "plt.show()                      "
   ]
  },
  {
   "cell_type": "markdown",
   "metadata": {
    "collapsed": true
   },
   "source": [
    "#### Power"
   ]
  },
  {
   "cell_type": "markdown",
   "metadata": {
    "collapsed": true
   },
   "source": [
    "The power function distribution is just the inverse of the Pareto distribution. It may also be seen as a special case of the Beta distribution. It is used, for example, in modeling the over-reporting of insurance claims.[[Power]](https://docs.scipy.org/doc/numpy-1.15.1/reference/generated/numpy.random.power.html#numpy.random.power)"
   ]
  },
  {
   "cell_type": "code",
   "execution_count": 20,
   "metadata": {},
   "outputs": [
    {
     "data": {
      "image/png": "[encoded data removed]",
      "text/plain": [
       "<matplotlib.figure.Figure at 0x1f12738d320>"
      ]
     },
     "metadata": {},
     "output_type": "display_data"
    },
    {
     "data": {
      "text/plain": [
       "Text(0.5,1,'inverse of stats.pareto(5)')"
      ]
     },
     "execution_count": 20,
     "metadata": {},
     "output_type": "execute_result"
    },
    {
     "data": {
      "image/png": "[encoded data removed]",
      "text/plain": [
       "<matplotlib.figure.Figure at 0x1f1273715c0>"
      ]
     },
     "metadata": {},
     "output_type": "display_data"
    },
    {
     "data": {
      "image/png": "[encoded data removed]",
      "text/plain": [
       "<matplotlib.figure.Figure at 0x1f127ca08d0>"
      ]
     },
     "metadata": {},
     "output_type": "display_data"
    },
    {
     "data": {
      "image/png": "[encoded data removed]",
      "text/plain": [
       "<matplotlib.figure.Figure at 0x1f129c49198>"
      ]
     },
     "metadata": {},
     "output_type": "display_data"
    }
   ],
   "source": [
    " a = 5. # shape\n",
    "samples = 1000\n",
    "s = np.random.power(a, samples)\n",
    "#Display the histogram of the samples, along with the probability density function:\n",
    "\n",
    "import matplotlib.pyplot as plt\n",
    "count, bins, ignored = plt.hist(s, bins=30)\n",
    "x = np.linspace(0, 1, 100)\n",
    "y = a*x**(a-1.)\n",
    "normed_y = samples*np.diff(bins)[0]*y\n",
    "plt.plot(x, normed_y)\n",
    "plt.show()\n",
    "#Compare the power function distribution to the inverse of the Pareto.\n",
    "\n",
    "from scipy import stats\n",
    "rvs = np.random.power(5, 1000000)\n",
    "rvsp = np.random.pareto(5, 1000000)\n",
    "xx = np.linspace(0,1,100)\n",
    "powpdf = stats.powerlaw.pdf(xx,5)\n",
    "plt.figure()\n",
    "plt.hist(rvs, bins=50, normed=True)\n",
    "plt.plot(xx,powpdf,'r-')\n",
    "plt.title('np.random.power(5)')\n",
    "plt.figure()\n",
    "plt.hist(1./(1.+rvsp), bins=50, normed=True)\n",
    "plt.plot(xx,powpdf,'r-')\n",
    "plt.title('inverse of 1 + np.random.pareto(5)')\n",
    "plt.figure()\n",
    "plt.hist(1./(1.+rvsp), bins=50, normed=True)\n",
    "plt.plot(xx,powpdf,'r-')\n",
    "plt.title('inverse of stats.pareto(5)')"
   ]
  },
  {
   "cell_type": "markdown",
   "metadata": {
    "collapsed": true
   },
   "source": [
    "#### Uniform"
   ]
  },
  {
   "cell_type": "markdown",
   "metadata": {
    "collapsed": true
   },
   "source": [
    "A uniform distribution, sometimes also known as a rectangular distribution, is a distribution that has constant probability. [[Uniform]](http://mathworld.wolfram.com/UniformDistribution.html)\n",
    "\n"
   ]
  },
  {
   "cell_type": "code",
   "execution_count": 21,
   "metadata": {},
   "outputs": [
    {
     "data": {
      "image/png": "[encoded data removed]",
      "text/plain": [
       "<matplotlib.figure.Figure at 0x1f127565b00>"
      ]
     },
     "metadata": {},
     "output_type": "display_data"
    }
   ],
   "source": [
    "s = np.random.uniform(-1,0,1000)\n",
    "#All values are within the given interval:\n",
    "\n",
    "np.all(s >= -1)\n",
    "True\n",
    "np.all(s < 0)\n",
    "True\n",
    "#Display the histogram of the samples, along with the probability density function:\n",
    "\n",
    "import matplotlib.pyplot as plt\n",
    "count, bins, ignored = plt.hist(s, 15, normed=True)\n",
    "plt.plot(bins, np.ones_like(bins), linewidth=2, color='r')\n",
    "plt.show()"
   ]
  },
  {
   "cell_type": "markdown",
   "metadata": {
    "collapsed": true
   },
   "source": [
    "#### Pareto"
   ]
  },
  {
   "cell_type": "markdown",
   "metadata": {
    "collapsed": true
   },
   "source": [
    "The Pareto distribution, named after the Italian civil engineer, economist, and sociologist Vilfredo Pareto, is a power-law probability distribution that is used in description of social, scientific, geophysical, actuarial, and many other types of observable phenomena [[Pareto]](https://en.wikipedia.org/wiki/Pareto_distribution)"
   ]
  },
  {
   "cell_type": "code",
   "execution_count": 22,
   "metadata": {},
   "outputs": [
    {
     "data": {
      "image/png": "[encoded data removed]",
      "text/plain": [
       "<matplotlib.figure.Figure at 0x1f1275bd2b0>"
      ]
     },
     "metadata": {},
     "output_type": "display_data"
    }
   ],
   "source": [
    " a, m = 3., 2.  # shape and mode\n",
    "s = (np.random.pareto(a, 1000) + 1) * m\n",
    "#Display the histogram of the samples, along with the probability density function:\n",
    "\n",
    "import matplotlib.pyplot as plt\n",
    "count, bins, _ = plt.hist(s, 100, normed=True)\n",
    "fit = a*m**a / bins**(a+1)\n",
    "plt.plot(bins, max(count)*fit/max(fit), linewidth=2, color='r')\n",
    "plt.show()"
   ]
  },
  {
   "cell_type": "markdown",
   "metadata": {},
   "source": [
    "## Random Generator "
   ]
  },
  {
   "cell_type": "markdown",
   "metadata": {
    "collapsed": true
   },
   "source": [
    "#### Seeds"
   ]
  },
  {
   "cell_type": "markdown",
   "metadata": {},
   "source": [
    "The method seed() sets the integer starting value used in generating random numbers. This function is not accessible directly, so we need to import seed module and then we need to call this function using random static object.[[Tutorial]](https://www.tutorialspoint.com/python/number_seed.htm)\n",
    "\n",
    "For a seed to be used in a pseudorandom number generator, it does not need to be random. Because of the nature of number generating algorithms, so long as the original seed is ignored, the rest of the values that the algorithm generates will follow probability distribution in a pseudorandom manner.[[Seeds]](https://en.wikipedia.org/wiki/Random_seed)"
   ]
  },
  {
   "cell_type": "code",
   "execution_count": null,
   "metadata": {
    "collapsed": true
   },
   "outputs": [],
   "source": []
  },
  {
   "cell_type": "markdown",
   "metadata": {
    "collapsed": true
   },
   "source": [
    "## References"
   ]
  },
  {
   "cell_type": "markdown",
   "metadata": {},
   "source": [
    "[1]  https://www.python-course.eu/numpy.php"
   ]
  },
  {
   "cell_type": "markdown",
   "metadata": {},
   "source": [
    "[2]  https://www.labri.fr/perso/nrougier/teaching/numpy/numpy.html"
   ]
  },
  {
   "cell_type": "markdown",
   "metadata": {},
   "source": [
    "[3]  https://docs.scipy.org/doc/numpy-1.14.0/reference/routines.random.html"
   ]
  },
  {
   "cell_type": "markdown",
   "metadata": {},
   "source": [
    "[4]  https://www.scipy.org/scipylib/faq.html#what-is-numpy"
   ]
  },
  {
   "cell_type": "markdown",
   "metadata": {},
   "source": [
    "[5]  https://stackabuse.com/numpy-tutorial-a-simple-example-based-guide/#advantagesofnumpy "
   ]
  },
  {
   "cell_type": "markdown",
   "metadata": {},
   "source": [
    "[6] https://docs.scipy.org/doc/numpy-1.15.1/reference/generated/numpy.array.html"
   ]
  },
  {
   "cell_type": "markdown",
   "metadata": {},
   "source": [
    "[7] https://www.sciencedirect.com/topics/biochemistry-genetics-and-molecular-biology/poisson-distribution"
   ]
  },
  {
   "cell_type": "markdown",
   "metadata": {},
   "source": [
    "[8] https://stattrek.com/probability-distributions/binomial.aspx"
   ]
  },
  {
   "cell_type": "markdown",
   "metadata": {},
   "source": [
    "[9] https://en.wikipedia.org/wiki/NumPy"
   ]
  },
  {
   "cell_type": "markdown",
   "metadata": {},
   "source": [
    "[10] http://cs231n.github.io/python-numpy-tutorial/"
   ]
  },
  {
   "cell_type": "markdown",
   "metadata": {},
   "source": [
    "[11] https://en.wikipedia.org/wiki/Convenience_function"
   ]
  },
  {
   "cell_type": "markdown",
   "metadata": {
    "collapsed": true
   },
   "source": [
    "[12] https://www.programiz.com/python-programming/examples/shuffle-card"
   ]
  },
  {
   "cell_type": "markdown",
   "metadata": {
    "collapsed": true
   },
   "source": [
    "[13] https://www.dummies.com/education/math/statistics/what-the-distribution-tells-you-about-a-statistical-data-set/"
   ]
  },
  {
   "cell_type": "markdown",
   "metadata": {
    "collapsed": true
   },
   "source": [
    "[15] https://en.wikipedia.org/wiki/Pareto_distribution"
   ]
  },
  {
   "cell_type": "markdown",
   "metadata": {
    "collapsed": true
   },
   "source": [
    "[16] http://mathworld.wolfram.com/UniformDistribution.html"
   ]
  },
  {
   "cell_type": "markdown",
   "metadata": {},
   "source": [
    "[17] https://bigdata-madesimple.com/how-to-implement-these-5-powerful-probability-distributions-in-python/"
   ]
  },
  {
   "cell_type": "markdown",
   "metadata": {},
   "source": [
    "[18] https://www.tutorialspoint.com/python/number_seed.htm"
   ]
  },
  {
   "cell_type": "markdown",
   "metadata": {},
   "source": [
    "[19] http://hplgit.github.io/primer.html/doc/pub/random/._random-readable001.html"
   ]
  },
  {
   "cell_type": "markdown",
   "metadata": {},
   "source": [
    "[20] https://en.wikipedia.org/wiki/Random_seed"
   ]
  },
  {
   "cell_type": "markdown",
   "metadata": {
    "collapsed": true
   },
   "source": [
    "[21] https://www.tutorialspoint.com/python/python_poisson_distribution.htm"
   ]
  },
  {
   "cell_type": "code",
   "execution_count": null,
   "metadata": {
    "collapsed": true
   },
   "outputs": [],
   "source": []
  }
 ],
 "metadata": {
  "kernelspec": {
   "display_name": "Python 3",
   "language": "python",
   "name": "python3"
  },
  "language_info": {
   "codemirror_mode": {
    "name": "ipython",
    "version": 3
   },
   "file_extension": ".py",
   "mimetype": "text/x-python",
   "name": "python",
   "nbconvert_exporter": "python",
   "pygments_lexer": "ipython3",
   "version": "3.6.3"
  }
 },
 "nbformat": 4,
 "nbformat_minor": 2
}
