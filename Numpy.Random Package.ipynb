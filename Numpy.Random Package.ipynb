{
 "cells": [
  {
   "cell_type": "markdown",
   "metadata": {},
   "source": [
    "<img src=\"https://upload.wikimedia.org/wikipedia/commons/1/1a/NumPy_logo.svg\" height=\"200\" width=\"600\">"
   ]
  },
  {
   "cell_type": "markdown",
   "metadata": {},
   "source": [
    "# NumPy Random Package Assignment"
   ]
  },
  {
   "cell_type": "markdown",
   "metadata": {},
   "source": [
    " The following assignment concerns the NumPy.random package in Python. There are four tasks to be carried out in this Jupyter notebook.\n",
    "1. Explain the overall purpose of the package. \n",
    "2. Explain the use of the “Simple random data” and “Permutations” functions. \n",
    "3. Explain the use and purpose of at least ﬁve “Distributions” functions. \n",
    "4. Explain the use of seeds in generating pseudorandom numbers.\n"
   ]
  },
  {
   "cell_type": "markdown",
   "metadata": {
    "collapsed": true
   },
   "source": [
    "## Purpose of the NumPy Package"
   ]
  },
  {
   "cell_type": "markdown",
   "metadata": {},
   "source": [
    "NumPy or Numeric Python is a Python extension module or library that provides efficient operation on arrays of homogeneous data. It allows python to serve as a high-level language for manipulating numerical data [[Scipy]](https://www.scipy.org/scipylib/faq.html#what-is-numpy).\n",
    "\n",
    "NumPy enriches the programming language Python with powerful data structures, implementing multi-dimensional arrays and matrices. These data structures guarantee efficient calculations with matrices and arrays. [[Python]](https://www.python-course.eu/numpy.php)\n",
    "\n",
    "Python is a great general-purpose programming language on its own, but with the help of a few popular libraries (numpy, scipy, matplotlib) it becomes a powerful environment for scientific computing. [[Github]](http://cs231n.github.io/python-numpy-tutorial/)\n",
    "\n",
    "The ancestor of NumPy, Numeric, was originally created by Jim Hugunin with contributions from several other developers. In 2005, Travis Oliphant created NumPy by incorporating features of the competing Numarray into Numeric, with extensive modifications. NumPy is open-source software and has many contributors. [[Wiki]](https://en.wikipedia.org/wiki/NumPy)"
   ]
  },
  {
   "cell_type": "markdown",
   "metadata": {},
   "source": [
    "## Advantages"
   ]
  },
  {
   "cell_type": "markdown",
   "metadata": {},
   "source": [
    "NumPy has several advantages over using core Python mathemtatical functions, a few of which are outlined here:\n",
    "\n",
    "1.NumPy is extremely fast when compared to core Python thanks to its heavy use of C extensions.\n",
    "\n",
    "2.Many advanced Python libraries, such as Scikit-Learn, Scipy, and Keras, make extensive use of the NumPy library. Therefore, if you plan to pursue a career in data science or machine learning, NumPy is a very good tool to master.\n",
    "\n",
    "3.NumPy comes with a variety of built-in functionalities, which in core Python would take a fair bit of custom code. [[Stackabuse]](https://stackabuse.com/numpy-tutorial-a-simple-example-based-guide/#advantagesofnumpy )"
   ]
  },
  {
   "cell_type": "markdown",
   "metadata": {},
   "source": [
    "## Introduction"
   ]
  },
  {
   "cell_type": "markdown",
   "metadata": {},
   "source": [
    "This jupyter notebook is concerned with the random sampling function of NumPy. But first we will look at a simple python example and then compare this to NumPy a more quick and efficent way to run a dataset."
   ]
  },
  {
   "cell_type": "code",
   "execution_count": 29,
   "metadata": {},
   "outputs": [
    {
     "name": "stdout",
     "output_type": "stream",
     "text": [
      "[4, 5, 6, 7, 8]\n"
     ]
    }
   ],
   "source": [
    "# Create two variables X and Y  \n",
    "x = [2, 3, 4, 5, 6]      # x equals a list of numbers\n",
    "y = [a + 2 for a in x]   # y equals to x + 2  for a in x\n",
    "print(y)                 # print y"
   ]
  },
  {
   "cell_type": "markdown",
   "metadata": {},
   "source": [
    "Next we will import the NumPy library and we will call it np for shorthand:"
   ]
  },
  {
   "cell_type": "code",
   "execution_count": 34,
   "metadata": {},
   "outputs": [
    {
     "name": "stdout",
     "output_type": "stream",
     "text": [
      "[4 5 6 7 8]\n"
     ]
    }
   ],
   "source": [
    "# Create two variables X and Y  \n",
    "import numpy as np              # Import numpy library\n",
    "import matplotlib.pyplot as plt # Import matplotib library for plots\n",
    "%matplotlib inline              \n",
    "x = np.array([2, 3, 4, 5, 6])   # Let x equals np.array which includes list 2 to 6\n",
    "y = x + 2                       # Let y equals to x to 2\n",
    "print(y)                        # print y"
   ]
  },
  {
   "cell_type": "markdown",
   "metadata": {
    "collapsed": true
   },
   "source": [
    "By importing the NumPy library we can create shortcuts and shorten our python code. This is one of the advantages of using np.arrray over normal python code"
   ]
  },
  {
   "cell_type": "markdown",
   "metadata": {},
   "source": [
    "## Simple Random Data"
   ]
  },
  {
   "cell_type": "markdown",
   "metadata": {},
   "source": [
    "We will now look at simple random data of NumPy. This is the most basic type of random code. \n",
    "\n",
    "We will run examples of random.rand, random.randint and random.sample and create histograms to graphy the output data"
   ]
  },
  {
   "cell_type": "code",
   "execution_count": 35,
   "metadata": {},
   "outputs": [
    {
     "data": {
      "text/plain": [
       "array([[ 0.73822448,  0.63298223,  0.2417734 ,  0.94047651,  0.71588455],\n",
       "       [ 0.21683748,  0.14979304,  0.87981023,  0.07305492,  0.32024311],\n",
       "       [ 0.89947115,  0.38978861,  0.23205818,  0.40309211,  0.03925636],\n",
       "       [ 0.753117  ,  0.18920246,  0.62693216,  0.43505938,  0.42906959],\n",
       "       [ 0.67340319,  0.31447269,  0.57188464,  0.81694906,  0.85078677]])"
      ]
     },
     "execution_count": 35,
     "metadata": {},
     "output_type": "execute_result"
    }
   ],
   "source": [
    "# Use the random.rand function to generate random numbers between 0 and 1.\n",
    "a= np.random.rand(5,5)\n",
    "a"
   ]
  },
  {
   "cell_type": "markdown",
   "metadata": {},
   "source": [
    "The rand functiion generates numbers between 0 to 1. This example above 5 acrocss by 5 down randonly generated"
   ]
  },
  {
   "cell_type": "code",
   "execution_count": 36,
   "metadata": {},
   "outputs": [
    {
     "data": {
      "text/plain": [
       "Text(0,0.5,'Count')"
      ]
     },
     "execution_count": 36,
     "metadata": {},
     "output_type": "execute_result"
    },
    {
     "data": {
      "image/png": "[encoded data removed]",
      "text/plain": [
       "<matplotlib.figure.Figure at 0x1cece88ac18>"
      ]
     },
     "metadata": {},
     "output_type": "display_data"
    }
   ],
   "source": [
    "# Display the array in a in histogram format using matplotlib\n",
    "plt.hist(a)\n",
    "\n",
    "plt.title('Rand Function')                     # Title of Histogram\n",
    "plt.xlabel('Generate Numbers between 0 and 1') # X-axis title\n",
    "plt.ylabel('Count')                             # Y-axis title"
   ]
  },
  {
   "cell_type": "markdown",
   "metadata": {},
   "source": [
    "From the histogram, we can see the randomly generate numbers between 0 and 1 on the X-axis. This means that all numbers are positive figures. The Y-axis represents the count of these values on the X-axis. This is a convenience function. A convenience function is a non-essential subroutine in a programming library or framework which is intended to ease commonly performed tasks. [[Convenience]](https://en.wikipedia.org/wiki/Convenience_function) \n"
   ]
  },
  {
   "cell_type": "code",
   "execution_count": 37,
   "metadata": {},
   "outputs": [
    {
     "data": {
      "text/plain": [
       "array([65, 67, 95, 23, 25, 70, 13, 54, 65, 76])"
      ]
     },
     "execution_count": 37,
     "metadata": {},
     "output_type": "execute_result"
    }
   ],
   "source": [
    "# Use the random.randint function to generate random numbers between 0 and 100.\n",
    "b = np.random.randint(101, size=10)\n",
    "b"
   ]
  },
  {
   "cell_type": "markdown",
   "metadata": {},
   "source": [
    "This list generates random numbers betweem 0 and 100 with an dsiplay of 10 integers."
   ]
  },
  {
   "cell_type": "code",
   "execution_count": 38,
   "metadata": {},
   "outputs": [
    {
     "data": {
      "text/plain": [
       "Text(0,0.5,'Count')"
      ]
     },
     "execution_count": 38,
     "metadata": {},
     "output_type": "execute_result"
    },
    {
     "data": {
      "image/png": "[encoded data removed]",
      "text/plain": [
       "<matplotlib.figure.Figure at 0x1cecf096710>"
      ]
     },
     "metadata": {},
     "output_type": "display_data"
    }
   ],
   "source": [
    "# Display the array in a in histogram format using matplotlib\n",
    "plt.hist(b)\n",
    "\n",
    "plt.title('Randit Function')                       # Title of Histogram\n",
    "plt.xlabel('Generate Numbers between 0 and 100')   # X-axis title\n",
    "plt.ylabel('Count')                                # Y-axis title"
   ]
  },
  {
   "cell_type": "markdown",
   "metadata": {},
   "source": [
    "Similiar to the previous histogram, we can see the randomly generate numbers between 0 and 100 on the X-axis. And again all numbers are positive intergers. The Y-axis represents the count of these values on the X-axis"
   ]
  },
  {
   "cell_type": "code",
   "execution_count": 39,
   "metadata": {},
   "outputs": [
    {
     "data": {
      "text/plain": [
       "array([[46, 41, 44, 43],\n",
       "       [48, 47, 19, 19]])"
      ]
     },
     "execution_count": 39,
     "metadata": {},
     "output_type": "execute_result"
    }
   ],
   "source": [
    "# Use the random.randint function to generate random numbers between 0 and 10. Size two rows and four numbers.}\n",
    "c = np.random.randint(51, size=(2,4))     # 2D array using randit\n",
    "c"
   ]
  },
  {
   "cell_type": "markdown",
   "metadata": {},
   "source": [
    "This list generates random numbers betweem 0 and 10 with 2 arrays of 4 integers"
   ]
  },
  {
   "cell_type": "code",
   "execution_count": 40,
   "metadata": {},
   "outputs": [
    {
     "data": {
      "text/plain": [
       "Text(0,0.5,'Count')"
      ]
     },
     "execution_count": 40,
     "metadata": {},
     "output_type": "execute_result"
    },
    {
     "data": {
      "image/png": "[encoded data removed]",
      "text/plain": [
       "<matplotlib.figure.Figure at 0x1cecf2f0eb8>"
      ]
     },
     "metadata": {},
     "output_type": "display_data"
    }
   ],
   "source": [
    "# Display the array in a in histogram format using matplotlib\n",
    "plt.hist(c)                                        # The two arrays on the same histogram\n",
    "\n",
    "plt.title('Randit Function')                       # Title of Histogram\n",
    "plt.xlabel('Generate Numbers between 0 and 50')    # X-axis title\n",
    "plt.ylabel('Count')                                # Y-axis title"
   ]
  },
  {
   "cell_type": "markdown",
   "metadata": {},
   "source": [
    "Similiar to the previous histogram, we can see the randomly generate numbers between 0 and 50 on the X-axis. And again all numbers are positive intergers. But this histogram has the two outputs on the same histogram. The Y-axis represents the count of these values on the X-axis"
   ]
  },
  {
   "cell_type": "code",
   "execution_count": 41,
   "metadata": {},
   "outputs": [
    {
     "data": {
      "text/plain": [
       "array([ 0.89305561,  0.41135681,  0.55149965,  0.62522898,  0.72158109,\n",
       "        0.12023145,  0.75191547,  0.31337327,  0.47954635,  0.91631164,\n",
       "        0.12711495,  0.33512275,  0.52517331,  0.57833481,  0.85491204,\n",
       "        0.48977258,  0.5424229 ,  0.19724716,  0.22710791,  0.71623902,\n",
       "        0.93701982,  0.8175347 ,  0.33881392,  0.0703386 ,  0.67406151,\n",
       "        0.0097155 ,  0.76047956,  0.89512173,  0.12771735,  0.44740315,\n",
       "        0.93008546,  0.70597463,  0.26099618,  0.27615194,  0.30734861,\n",
       "        0.05009179,  0.17285308,  0.84244334,  0.1716484 ,  0.43849472,\n",
       "        0.44691462,  0.17379711,  0.55981129,  0.36783336,  0.33327865,\n",
       "        0.92799915,  0.46936717,  0.15121389,  0.27899992,  0.01012486,\n",
       "        0.90050441])"
      ]
     },
     "execution_count": 41,
     "metadata": {},
     "output_type": "execute_result"
    }
   ],
   "source": [
    "# Use the random.random.sample to generate 51 numbers between 0 and 1.\n",
    "d = np.random.random_sample(51)\n",
    "d"
   ]
  },
  {
   "cell_type": "code",
   "execution_count": 42,
   "metadata": {},
   "outputs": [
    {
     "data": {
      "text/plain": [
       "Text(0,0.5,'Count')"
      ]
     },
     "execution_count": 42,
     "metadata": {},
     "output_type": "execute_result"
    },
    {
     "data": {
      "image/png": "[encoded data removed]",
      "text/plain": [
       "<matplotlib.figure.Figure at 0x1cecf1086d8>"
      ]
     },
     "metadata": {},
     "output_type": "display_data"
    }
   ],
   "source": [
    "# Display the array in a in histogram format using matplotlib\n",
    "plt.hist(d)                                 \n",
    "\n",
    "plt.title('Sample Function')                       # Title of Histogram\n",
    "plt.xlabel('Generate Numbers between 0 and 1')     # X-axis title\n",
    "plt.ylabel('Count')                                # Y-axis title"
   ]
  },
  {
   "cell_type": "markdown",
   "metadata": {},
   "source": [
    "This histogram generates positive deciamls numbers between 0 and 1. The X-axis show the frequency of occurence and Y-axis sums how many times each occurs. Results are from the “continuous uniform” distribution over the stated interval [[SciPy]](https://docs.scipy.org/doc/numpy-1.15.1/reference/generated/numpy.random.random_sample.html#numpy.random.random_sample). The continuous uniform distribution or rectangular distribution is a family of symmetric probability distributions such that for each member of the family, all intervals of the same length on the distribution's support are equally probable. [[Uniform]](https://en.wikipedia.org/wiki/Uniform_distribution_(continuous))"
   ]
  },
  {
   "cell_type": "markdown",
   "metadata": {},
   "source": [
    "## Permuatations"
   ]
  },
  {
   "cell_type": "markdown",
   "metadata": {},
   "source": [
    "There are two sub-functions with permuatations. They are shuffle and permuatation. These are where a selection of objects in which the order of the objects matters. We will run random.shuffle\n",
    "\n",
    "We use the itertool module to create a deck of cards. This function performs the Cartesian product of the two sequence. The two sequence are, numbers from 1 to 13 and the four suits. So, altogether we have 13 * 4 = 52 items in the deck with each card. [[Programiz]](https://www.programiz.com/python-programming/examples/shuffle-card)\n",
    "\n",
    "The deck is in order so we use the random.shuffle. This shuffle modifies a sequence in-place by shuffling its contents. This randomly shuffle the deck and pick a card at random from our deck."
   ]
  },
  {
   "cell_type": "code",
   "execution_count": 45,
   "metadata": {},
   "outputs": [
    {
     "name": "stdout",
     "output_type": "stream",
     "text": [
      "You got:\n",
      "9 of Spade\n"
     ]
    }
   ],
   "source": [
    "# Python program to shuffle a deck of card using the module random and draw 5 cards\n",
    "\n",
    "# make a deck of cards\n",
    "import itertools, random\n",
    "deck = list(itertools.product(range(1,14),['Spade','Heart','Diamond','Club'])) # Creates two sequence using itertools\n",
    "\n",
    "# shuffle the cards\n",
    "random.shuffle(deck)\n",
    "\n",
    "# draw five cards\n",
    "print(\"You got:\")\n",
    "for i in range(1):\n",
    "   print(deck[i][0], \"of\", deck[i][1])"
   ]
  },
  {
   "cell_type": "markdown",
   "metadata": {},
   "source": [
    "## Distributions"
   ]
  },
  {
   "cell_type": "markdown",
   "metadata": {},
   "source": [
    "The distribution of a statistical data set (or a population) is a listing or function showing all the possible values (or intervals) of the data and how often they occur. The world of statistics includes dozens of different distributions for categorical and numerical data; the most common ones have their own names. One of the most well-known distributions is called the normal distribution, also known as the bell-shaped curv. [[Dummies]](https://www.dummies.com/education/math/statistics/what-the-distribution-tells-you-about-a-statistical-data-set/)\n",
    "\n",
    "We are going to look at the Gamma, Power, Uniform, Pareto and Logeries."
   ]
  },
  {
   "cell_type": "markdown",
   "metadata": {},
   "source": [
    "#### Poisson Distribution"
   ]
  },
  {
   "cell_type": "markdown",
   "metadata": {
    "collapsed": true
   },
   "source": [
    "The first numpy random distribution we will look at is the poisson distribution. A poisson distribution iis a discrete probability distribution that expresses the probability of a given number of events occurring in a fixed interval of time or space if these events occur with a known constant rate and independently of the time since the last event [[Poisson]](https://en.wikipedia.org/wiki/Poisson_distribution)\n",
    "\n",
    "The Poisson distribution arises from situations in which there is a large number of opportunities for the event under scrutiny to occur but a small chance that it will occur on any one trial.[[Science]](https://www.sciencedirect.com/topics/biochemistry-genetics-and-molecular-biology/poisson-distribution)\n"
   ]
  },
  {
   "cell_type": "code",
   "execution_count": 73,
   "metadata": {},
   "outputs": [
    {
     "data": {
      "text/plain": [
       "array([2, 1])"
      ]
     },
     "execution_count": 73,
     "metadata": {},
     "output_type": "execute_result"
    }
   ],
   "source": [
    "# Print \n",
    "n = np.random.poisson(1, 2)\n",
    "n"
   ]
  },
  {
   "cell_type": "markdown",
   "metadata": {
    "collapsed": true
   },
   "source": [
    "#### Power"
   ]
  },
  {
   "cell_type": "markdown",
   "metadata": {
    "collapsed": true
   },
   "source": [
    "The power function distribution is just the inverse of the Pareto distribution. It may also be seen as a special case of the Beta distribution. It is used, for example, in modeling the over-reporting of insurance claims.[[Power]](https://docs.scipy.org/doc/numpy-1.15.1/reference/generated/numpy.random.power.html#numpy.random.power)"
   ]
  },
  {
   "cell_type": "markdown",
   "metadata": {
    "collapsed": true
   },
   "source": [
    "#### Uniform"
   ]
  },
  {
   "cell_type": "markdown",
   "metadata": {
    "collapsed": true
   },
   "source": [
    "A uniform distribution, sometimes also known as a rectangular distribution, is a distribution that has constant probability. [[Uniform]](http://mathworld.wolfram.com/UniformDistribution.html)\n",
    "\n"
   ]
  },
  {
   "cell_type": "markdown",
   "metadata": {
    "collapsed": true
   },
   "source": [
    "#### Pareto"
   ]
  },
  {
   "cell_type": "markdown",
   "metadata": {
    "collapsed": true
   },
   "source": [
    "The Pareto distribution, named after the Italian civil engineer, economist, and sociologist Vilfredo Pareto, is a power-law probability distribution that is used in description of social, scientific, geophysical, actuarial, and many other types of observable phenomena [[Pareto]](https://en.wikipedia.org/wiki/Pareto_distribution)"
   ]
  },
  {
   "cell_type": "markdown",
   "metadata": {
    "collapsed": true
   },
   "source": [
    "#### Logseries"
   ]
  },
  {
   "cell_type": "markdown",
   "metadata": {
    "collapsed": true
   },
   "source": [
    "The log-series distribution, also sometimes called the logarithmic distribution, is the distribution of the terms in the series expansion of ln(1-theta) about  theta=0. [[mathworld]](http://mathworld.wolfram.com/Log-SeriesDistribution.html)"
   ]
  },
  {
   "cell_type": "markdown",
   "metadata": {},
   "source": [
    "## Random Generator "
   ]
  },
  {
   "cell_type": "markdown",
   "metadata": {
    "collapsed": true
   },
   "source": [
    "#### Seeds"
   ]
  },
  {
   "cell_type": "markdown",
   "metadata": {},
   "source": [
    "The method seed() sets the integer starting value used in generating random numbers. This function is not accessible directly, so we need to import seed module and then we need to call this function using random static object.[[Tutorial]](https://www.tutorialspoint.com/python/number_seed.htm)\n",
    "\n",
    "For a seed to be used in a pseudorandom number generator, it does not need to be random. Because of the nature of number generating algorithms, so long as the original seed is ignored, the rest of the values that the algorithm generates will follow probability distribution in a pseudorandom manner.[[Seeds]](https://en.wikipedia.org/wiki/Random_seed)"
   ]
  },
  {
   "cell_type": "code",
   "execution_count": null,
   "metadata": {},
   "outputs": [],
   "source": []
  },
  {
   "cell_type": "markdown",
   "metadata": {
    "collapsed": true
   },
   "source": [
    "## References"
   ]
  },
  {
   "cell_type": "markdown",
   "metadata": {},
   "source": [
    "[1]  https://www.python-course.eu/numpy.php"
   ]
  },
  {
   "cell_type": "markdown",
   "metadata": {},
   "source": [
    "[2]  https://www.labri.fr/perso/nrougier/teaching/numpy/numpy.html"
   ]
  },
  {
   "cell_type": "markdown",
   "metadata": {},
   "source": [
    "[3]  https://docs.scipy.org/doc/numpy-1.14.0/reference/routines.random.html"
   ]
  },
  {
   "cell_type": "markdown",
   "metadata": {},
   "source": [
    "[4]  https://www.scipy.org/scipylib/faq.html#what-is-numpy"
   ]
  },
  {
   "cell_type": "markdown",
   "metadata": {},
   "source": [
    "[5]  https://stackabuse.com/numpy-tutorial-a-simple-example-based-guide/#advantagesofnumpy "
   ]
  },
  {
   "cell_type": "markdown",
   "metadata": {},
   "source": [
    "[6] https://docs.scipy.org/doc/numpy-1.15.1/reference/generated/numpy.array.html"
   ]
  },
  {
   "cell_type": "markdown",
   "metadata": {},
   "source": [
    "[7] https://www.sciencedirect.com/topics/biochemistry-genetics-and-molecular-biology/poisson-distribution"
   ]
  },
  {
   "cell_type": "markdown",
   "metadata": {},
   "source": [
    "[8] http://www.astroml.org/book_figures/chapter3/fig_gamma_distribution.html"
   ]
  },
  {
   "cell_type": "markdown",
   "metadata": {},
   "source": [
    "[9] https://en.wikipedia.org/wiki/NumPy"
   ]
  },
  {
   "cell_type": "markdown",
   "metadata": {},
   "source": [
    "[10] http://cs231n.github.io/python-numpy-tutorial/"
   ]
  },
  {
   "cell_type": "markdown",
   "metadata": {},
   "source": [
    "[11] https://en.wikipedia.org/wiki/Convenience_function"
   ]
  },
  {
   "cell_type": "markdown",
   "metadata": {
    "collapsed": true
   },
   "source": [
    "[12] https://www.programiz.com/python-programming/examples/shuffle-card"
   ]
  },
  {
   "cell_type": "markdown",
   "metadata": {
    "collapsed": true
   },
   "source": [
    "[13] https://www.dummies.com/education/math/statistics/what-the-distribution-tells-you-about-a-statistical-data-set/"
   ]
  },
  {
   "cell_type": "markdown",
   "metadata": {
    "collapsed": true
   },
   "source": [
    "[14] http://mathworld.wolfram.com/Log-SeriesDistribution.html"
   ]
  },
  {
   "cell_type": "markdown",
   "metadata": {
    "collapsed": true
   },
   "source": [
    "[15] https://en.wikipedia.org/wiki/Pareto_distribution"
   ]
  },
  {
   "cell_type": "markdown",
   "metadata": {
    "collapsed": true
   },
   "source": [
    "[16] http://mathworld.wolfram.com/UniformDistribution.html"
   ]
  },
  {
   "cell_type": "markdown",
   "metadata": {},
   "source": [
    "[17] https://bigdata-madesimple.com/how-to-implement-these-5-powerful-probability-distributions-in-python/"
   ]
  },
  {
   "cell_type": "markdown",
   "metadata": {},
   "source": [
    "[18] https://www.tutorialspoint.com/python/number_seed.htm"
   ]
  },
  {
   "cell_type": "markdown",
   "metadata": {},
   "source": [
    "[19] http://hplgit.github.io/primer.html/doc/pub/random/._random-readable001.html"
   ]
  },
  {
   "cell_type": "markdown",
   "metadata": {},
   "source": [
    "[20] https://en.wikipedia.org/wiki/Random_seed"
   ]
  }
 ],
 "metadata": {
  "kernelspec": {
   "display_name": "Python 3",
   "language": "python",
   "name": "python3"
  },
  "language_info": {
   "codemirror_mode": {
    "name": "ipython",
    "version": 3
   },
   "file_extension": ".py",
   "mimetype": "text/x-python",
   "name": "python",
   "nbconvert_exporter": "python",
   "pygments_lexer": "ipython3",
   "version": "3.6.3"
  }
 },
 "nbformat": 4,
 "nbformat_minor": 2
}
