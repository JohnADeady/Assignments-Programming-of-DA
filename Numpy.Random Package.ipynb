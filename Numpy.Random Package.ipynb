{
 "cells": [
  {
   "cell_type": "markdown",
   "metadata": {},
   "source": [
    "<img src=\"https://upload.wikimedia.org/wikipedia/commons/1/1a/NumPy_logo.svg\" height=\"200\" width=\"600\">"
   ]
  },
  {
   "cell_type": "markdown",
   "metadata": {},
   "source": [
    "# NumPy Random Package Assignment"
   ]
  },
  {
   "cell_type": "markdown",
   "metadata": {},
   "source": [
    " The following assignment concerns the NumPy random package in Python. There are four tasks to be carried out in this Jupyter notebook.\n",
    "1. Explain the overall purpose of the package. \n",
    "2. Explain the use of the “Simple random data” and “Permutations” functions. \n",
    "3. Explain the use and purpose of at least ﬁve “Distributions” functions. \n",
    "4. Explain the use of seeds in generating pseudorandom numbers.\n"
   ]
  },
  {
   "cell_type": "markdown",
   "metadata": {
    "collapsed": true
   },
   "source": [
    "## Purpose of the NumPy Package"
   ]
  },
  {
   "cell_type": "markdown",
   "metadata": {},
   "source": [
    "Python is an object-oriented, high-level programming language with integrated dynamic semantics primarily for web and app development. It is extremely attractive in the field of Rapid Application Development because it offers dynamic typing and dynamic binding options [[Python]](https://www.pythonforbeginners.com/learn-python/what-is-python/)\n",
    "\n",
    "While NumPy or Numerical Python is a library for the Python programming language that provides efficient operation on arrays of homogeneous data. It allows Python to serve as a high-level language for manipulating numerical data [[Scipy]](https://www.scipy.org/scipylib/faq.html#what-is-numpy).\n",
    "\n",
    "NumPy enriches the programming language Python with powerful data structures, implementing multi-dimensional arrays and matrices. These data structures guarantee efficient calculations with matrices and arrays. [[Python]](https://www.python-course.eu/numpy.php)\n",
    "\n",
    "Python is a great general-purpose programming language on its own, but with the help of a few popular libraries (numpy, scipy, matplotlib) it becomes a powerful environment for scientific computing. [[Github]](http://cs231n.github.io/python-numpy-tutorial/)\n",
    "\n",
    "The ancestor of NumPy, Numeric, was originally created by Jim Hugunin with contributions from several other developers. In 2005, Travis Oliphant created NumPy by incorporating features of the competing Numarray into Numeric, with extensive modifications. NumPy is open-source software and has many contributors. [[Wiki]](https://en.wikipedia.org/wiki/NumPy)"
   ]
  },
  {
   "cell_type": "markdown",
   "metadata": {},
   "source": [
    "## Advantages"
   ]
  },
  {
   "cell_type": "markdown",
   "metadata": {},
   "source": [
    "NumPy has several advantages over using core Python mathemtatical functions, a few of which are outlined here:\n",
    "\n",
    "1.NumPy is extremely fast when compared to core Python thanks to its heavy use of C extensions.\n",
    "\n",
    "2.Many advanced Python libraries, such as Scikit-Learn, Scipy, and Keras, make extensive use of the NumPy library. Therefore, if you plan to pursue a career in data science or machine learning, NumPy is a very good tool to master.\n",
    "\n",
    "3.NumPy comes with a variety of built-in functionalities, which in core Python would take a fair bit of custom code. [[Stackabuse]](https://stackabuse.com/numpy-tutorial-a-simple-example-based-guide/#advantagesofnumpy )"
   ]
  },
  {
   "cell_type": "markdown",
   "metadata": {},
   "source": [
    "## Introduction"
   ]
  },
  {
   "cell_type": "markdown",
   "metadata": {},
   "source": [
    "This jupyter notebook is concerned with the random sampling function of NumPy. But first we will look at a simple python example and then compare this to NumPy a more quick and efficient way to run a dataset."
   ]
  },
  {
   "cell_type": "code",
   "execution_count": 6,
   "metadata": {},
   "outputs": [
    {
     "name": "stdout",
     "output_type": "stream",
     "text": [
      "[4, 5, 6, 7, 8]\n"
     ]
    }
   ],
   "source": [
    "# Create two variables X and Y  \n",
    "x = [2, 3, 4, 5, 6]      # x equals a list of numbers\n",
    "y = [a + 2 for a in x]   # y equals to x + 2  for a in x\n",
    "print(y)                 # print y"
   ]
  },
  {
   "cell_type": "markdown",
   "metadata": {},
   "source": [
    "Next we will import the NumPy library and we will call it np for shorthand:"
   ]
  },
  {
   "cell_type": "code",
   "execution_count": 7,
   "metadata": {},
   "outputs": [
    {
     "name": "stdout",
     "output_type": "stream",
     "text": [
      "[4 5 6 7 8]\n"
     ]
    }
   ],
   "source": [
    "# Create two variables X and Y  \n",
    "import numpy as np              # Import numpy library\n",
    "x = np.array([2, 3, 4, 5, 6])   # Let x equals np.array which includes list 2 to 6\n",
    "y = x + 2                       # Let y equals to x to 2\n",
    "print(y)                        # print y"
   ]
  },
  {
   "cell_type": "markdown",
   "metadata": {
    "collapsed": true
   },
   "source": [
    "By importing the NumPy library we can create a more compact array than a Python list and and faster than python code. This is one of the advantages of using np.arrray over normal python code."
   ]
  },
  {
   "cell_type": "markdown",
   "metadata": {},
   "source": [
    "## Simple Random Data"
   ]
  },
  {
   "cell_type": "markdown",
   "metadata": {},
   "source": [
    "We will now look at simple random data of NumPy. This is the most basic type of random code. \n",
    "\n",
    "We will run examples of random.rand, random.randint and random.sample and create histograms to graphy the output data"
   ]
  },
  {
   "cell_type": "code",
   "execution_count": 8,
   "metadata": {},
   "outputs": [
    {
     "data": {
      "text/plain": [
       "array([[ 0.72457797,  0.73340149,  0.47968259,  0.80407614,  0.21536979],\n",
       "       [ 0.24720445,  0.7067475 ,  0.91364037,  0.46777136,  0.5095232 ],\n",
       "       [ 0.1105531 ,  0.58114895,  0.42423377,  0.22894295,  0.13075038],\n",
       "       [ 0.70275344,  0.51946689,  0.79988955,  0.44977563,  0.84516786],\n",
       "       [ 0.52456834,  0.05016697,  0.91935129,  0.1393648 ,  0.67123769]])"
      ]
     },
     "execution_count": 8,
     "metadata": {},
     "output_type": "execute_result"
    }
   ],
   "source": [
    "# Use the random.rand function to generate random numbers between 0 and 1.\n",
    "a= np.random.rand(5,5)\n",
    "a"
   ]
  },
  {
   "cell_type": "markdown",
   "metadata": {},
   "source": [
    "The rand functiion generates numbers between 0 to 1. This example above 5 acrocss by 5 down randonly generated"
   ]
  },
  {
   "cell_type": "code",
   "execution_count": 9,
   "metadata": {},
   "outputs": [
    {
     "data": {
      "text/plain": [
       "Text(0,0.5,'Count')"
      ]
     },
     "execution_count": 9,
     "metadata": {},
     "output_type": "execute_result"
    },
    {
     "data": {
      "image/png": "[encoded data removed]",
      "text/plain": [
       "<matplotlib.figure.Figure at 0x28a024adc50>"
      ]
     },
     "metadata": {},
     "output_type": "display_data"
    }
   ],
   "source": [
    "# Display the array in a in histogram format using matplotlib\n",
    "plt.hist(a)\n",
    "\n",
    "plt.title('Rand Function')                     # Title of Histogram\n",
    "plt.xlabel('Generate Numbers between 0 and 1') # X-axis title\n",
    "plt.ylabel('Count')                             # Y-axis title"
   ]
  },
  {
   "cell_type": "markdown",
   "metadata": {},
   "source": [
    "From the histogram, we can see the randomly generate numbers between 0 and 1 on the X-axis. This means that all numbers are positive figures. The Y-axis represents the count of these values on the X-axis. This is a convenience function. A convenience function is a non-essential subroutine in a programming library or framework which is intended to ease commonly performed tasks. [[Convenience]](https://en.wikipedia.org/wiki/Convenience_function) \n"
   ]
  },
  {
   "cell_type": "code",
   "execution_count": 10,
   "metadata": {},
   "outputs": [
    {
     "data": {
      "text/plain": [
       "array([18,  9, 42, 81, 15,  3, 79, 71, 84,  0])"
      ]
     },
     "execution_count": 10,
     "metadata": {},
     "output_type": "execute_result"
    }
   ],
   "source": [
    "# Use the random.randint function to generate random numbers between 0 and 100.\n",
    "b = np.random.randint(101, size=10)\n",
    "b"
   ]
  },
  {
   "cell_type": "markdown",
   "metadata": {},
   "source": [
    "This list generates random numbers betweem 0 and 100 with an dsiplay of 10 integers."
   ]
  },
  {
   "cell_type": "code",
   "execution_count": 11,
   "metadata": {},
   "outputs": [
    {
     "data": {
      "text/plain": [
       "Text(0,0.5,'Count')"
      ]
     },
     "execution_count": 11,
     "metadata": {},
     "output_type": "execute_result"
    },
    {
     "data": {
      "image/png": "[encoded data removed]",
      "text/plain": [
       "<matplotlib.figure.Figure at 0x28a02708b70>"
      ]
     },
     "metadata": {},
     "output_type": "display_data"
    }
   ],
   "source": [
    "# Display the array in a in histogram format using matplotlib\n",
    "plt.hist(b)\n",
    "\n",
    "plt.title('Randit Function')                       # Title of Histogram\n",
    "plt.xlabel('Generate Numbers between 0 and 100')   # X-axis title\n",
    "plt.ylabel('Count')                                # Y-axis title"
   ]
  },
  {
   "cell_type": "markdown",
   "metadata": {},
   "source": [
    "Similiar to the previous histogram, we can see the randomly generate numbers between 0 and 100 on the X-axis. And again all numbers are positive intergers. The Y-axis represents the count of these values on the X-axis"
   ]
  },
  {
   "cell_type": "code",
   "execution_count": 12,
   "metadata": {},
   "outputs": [
    {
     "data": {
      "text/plain": [
       "array([[ 3, 12, 33,  9],\n",
       "       [50, 10, 13, 20]])"
      ]
     },
     "execution_count": 12,
     "metadata": {},
     "output_type": "execute_result"
    }
   ],
   "source": [
    "# Use the random.randint function to generate random numbers between 0 and 10. Size two rows and four numbers.}\n",
    "c = np.random.randint(51, size=(2,4))     # 2D array using randit\n",
    "c"
   ]
  },
  {
   "cell_type": "markdown",
   "metadata": {},
   "source": [
    "This list generates random numbers betweem 0 and 10 with 2 arrays of 4 integers"
   ]
  },
  {
   "cell_type": "code",
   "execution_count": 13,
   "metadata": {},
   "outputs": [
    {
     "data": {
      "text/plain": [
       "Text(0,0.5,'Count')"
      ]
     },
     "execution_count": 13,
     "metadata": {},
     "output_type": "execute_result"
    },
    {
     "data": {
      "image/png": "[encoded data removed]",
      "text/plain": [
       "<matplotlib.figure.Figure at 0x28a02b457f0>"
      ]
     },
     "metadata": {},
     "output_type": "display_data"
    }
   ],
   "source": [
    "# Display the array in a in histogram format using matplotlib\n",
    "plt.hist(c)                                        # The two arrays on the same histogram\n",
    "\n",
    "plt.title('Randit Function')                       # Title of Histogram\n",
    "plt.xlabel('Generate Numbers between 0 and 50')    # X-axis title\n",
    "plt.ylabel('Count')                                # Y-axis title"
   ]
  },
  {
   "cell_type": "markdown",
   "metadata": {},
   "source": [
    "Similiar to the previous histogram, we can see the randomly generate numbers between 0 and 50 on the X-axis. And again all numbers are positive intergers. But this histogram has the two outputs on the same histogram. The Y-axis represents the count of these values on the X-axis"
   ]
  },
  {
   "cell_type": "code",
   "execution_count": 14,
   "metadata": {},
   "outputs": [
    {
     "data": {
      "text/plain": [
       "array([ 0.36015621,  0.62656591,  0.81901292,  0.30146264,  0.24293537,\n",
       "        0.44990847,  0.43787791,  0.43852469,  0.94970097,  0.61650957,\n",
       "        0.22343186,  0.14321573,  0.80842393,  0.27420897,  0.86946569,\n",
       "        0.83328463,  0.70849366,  0.09863669,  0.54415165,  0.98883329,\n",
       "        0.17478408,  0.35611225,  0.07453178,  0.87484966,  0.95764828,\n",
       "        0.01467526,  0.81293652,  0.99126639,  0.5236331 ,  0.76962806,\n",
       "        0.21548452,  0.61099472,  0.64758815,  0.39334165,  0.57267904,\n",
       "        0.16348133,  0.71798641,  0.29689532,  0.67840423,  0.75084301,\n",
       "        0.36267414,  0.02260584,  0.92429988,  0.38353462,  0.84821588,\n",
       "        0.0092813 ,  0.76329294,  0.97385806,  0.67952597,  0.27458101,\n",
       "        0.57005885])"
      ]
     },
     "execution_count": 14,
     "metadata": {},
     "output_type": "execute_result"
    }
   ],
   "source": [
    "# Use the random.random.sample to generate 51 numbers between 0 and 1.\n",
    "d = np.random.random_sample(51)\n",
    "d"
   ]
  },
  {
   "cell_type": "code",
   "execution_count": 15,
   "metadata": {},
   "outputs": [
    {
     "data": {
      "text/plain": [
       "Text(0,0.5,'Count')"
      ]
     },
     "execution_count": 15,
     "metadata": {},
     "output_type": "execute_result"
    },
    {
     "data": {
      "image/png": "[encoded data removed]",
      "text/plain": [
       "<matplotlib.figure.Figure at 0x28a02bae978>"
      ]
     },
     "metadata": {},
     "output_type": "display_data"
    }
   ],
   "source": [
    "# Display the array in a in histogram format using matplotlib\n",
    "plt.hist(d)                                 \n",
    "\n",
    "plt.title('Sample Function')                       # Title of Histogram\n",
    "plt.xlabel('Generate Numbers between 0 and 1')     # X-axis title\n",
    "plt.ylabel('Count')                                # Y-axis title"
   ]
  },
  {
   "cell_type": "markdown",
   "metadata": {},
   "source": [
    "This histogram generates positive deciamls numbers between 0 and 1. The X-axis show the frequency of occurence and Y-axis sums how many times each occurs. Results are from the “continuous uniform” distribution over the stated interval [[SciPy]](https://docs.scipy.org/doc/numpy-1.15.1/reference/generated/numpy.random.random_sample.html#numpy.random.random_sample). The continuous uniform distribution or rectangular distribution is a family of symmetric probability distributions such that for each member of the family, all intervals of the same length on the distribution's support are equally probable. [[Uniform]](https://en.wikipedia.org/wiki/Uniform_distribution_(continuous))"
   ]
  },
  {
   "cell_type": "markdown",
   "metadata": {},
   "source": [
    "## Permuatations"
   ]
  },
  {
   "cell_type": "markdown",
   "metadata": {},
   "source": [
    "There are two sub-functions with permuatations. They are shuffle and permuatation. These are where a selection of objects in which the order of the objects matters. We will run random.shuffle\n",
    "\n",
    "We use the itertool module to create a deck of cards. This function performs the Cartesian product of the two sequence. The two sequence are, numbers from 1 to 13 and the four suits. So, altogether we have 13 * 4 = 52 items in the deck with each card. [[Programiz]](https://www.programiz.com/python-programming/examples/shuffle-card)\n",
    "\n",
    "The deck is in order so we use the random.shuffle. This shuffle modifies a sequence in-place by shuffling its contents. This randomly shuffle the deck and pick a card at random from our deck."
   ]
  },
  {
   "cell_type": "code",
   "execution_count": 16,
   "metadata": {},
   "outputs": [
    {
     "name": "stdout",
     "output_type": "stream",
     "text": [
      "You got:\n",
      "3 of Heart\n"
     ]
    }
   ],
   "source": [
    "# Python program to shuffle a deck of card using the module random and draw 5 cards\n",
    "\n",
    "# make a deck of cards\n",
    "import itertools, random\n",
    "deck = list(itertools.product(range(1,14),['Spade','Heart','Diamond','Club'])) # Creates two sequence using itertools\n",
    "\n",
    "# shuffle the cards\n",
    "random.shuffle(deck)\n",
    "\n",
    "# draw five cards\n",
    "print(\"You got:\")\n",
    "for i in range(1):\n",
    "   print(deck[i][0], \"of\", deck[i][1])"
   ]
  },
  {
   "cell_type": "markdown",
   "metadata": {},
   "source": [
    "## Distributions"
   ]
  },
  {
   "cell_type": "markdown",
   "metadata": {},
   "source": [
    "The distribution of a statistical data set (or a population) is a listing or function showing all the possible values (or intervals) of the data and how often they occur. The world of statistics includes dozens of different distributions for categorical and numerical data; the most common ones have their own names. One of the most well-known distributions is called the normal distribution, also known as the bell-shaped curv. [[Distribution]](https://www.dummies.com/education/math/statistics/what-the-distribution-tells-you-about-a-statistical-data-set/)\n",
    "\n",
    "We are going to look at the Poisson, Binomial Power, Uniform and Pareto."
   ]
  },
  {
   "cell_type": "markdown",
   "metadata": {},
   "source": [
    "#### Normal"
   ]
  },
  {
   "cell_type": "markdown",
   "metadata": {},
   "source": [
    "We can also draw random numbers from other probability distributions. For example, say we wanted to draw random samples from a Normal distribution with mean  μ  and standard deviation  σ .[[Just]](http://justinbois.github.io/bootcamp/2016/lessons/l26_random_number_generation.html)"
   ]
  },
  {
   "cell_type": "code",
   "execution_count": 57,
   "metadata": {},
   "outputs": [
    {
     "data": {
      "image/png": "[encoded data removed]",
      "text/plain": [
       "<matplotlib.figure.Figure at 0x28a056e64e0>"
      ]
     },
     "metadata": {},
     "output_type": "display_data"
    }
   ],
   "source": [
    "# Set parameters\n",
    "mu = 10\n",
    "sigma = 1\n",
    "\n",
    "# Draw 10000 random samples\n",
    "x = np.random.normal(mu, sigma, size=10000)\n",
    "\n",
    "# Plot a histogram of our draws\n",
    "_ = plt.hist(x, bins=100)#"
   ]
  },
  {
   "cell_type": "code",
   "execution_count": 58,
   "metadata": {},
   "outputs": [
    {
     "data": {
      "text/plain": [
       "(10.012376708237451, 1.0009852229154919)"
      ]
     },
     "execution_count": 58,
     "metadata": {},
     "output_type": "execute_result"
    }
   ],
   "source": [
    "np.mean(x), np.std(x)"
   ]
  },
  {
   "cell_type": "markdown",
   "metadata": {},
   "source": [
    "#### Poisson Distribution"
   ]
  },
  {
   "cell_type": "markdown",
   "metadata": {
    "collapsed": true
   },
   "source": [
    "The first numpy random distribution we will look at is the poisson distribution. The Poisson distribution arises from situations in which there is a large number of opportunities for the event under scrutiny to occur but a small chance that it will occur on any one trial.[[Science]](https://www.sciencedirect.com/topics/biochemistry-genetics-and-molecular-biology/poisson-distribution)\n",
    "\n",
    "Poisson distribution is used for independent events which will occur at a constant rate within a given interval of time. This type of distribution is measured has happening or not happening therefore can only be measured in whole numbers. [[Tutorial]](https://www.tutorialspoint.com/python/python_poisson_distribution.htm)\n",
    "\n",
    "We are now going to look at real world problem. We are going to use this modeled to assess the number of bankruptices filed in a year. If there is an average of 2 bankruptices per hour and there is 8 hours per day by 5 days in week over 52 weeks. That gives us 2080 hours in the year. The Poisson distribution allows to estimate the most likely event of customers filing for bankruptcies.\n",
    "\n",
    "They are two variables lam and size. numpy.random.poisson(lam=1.0, size=None). The lam variable equals the mean and variance, i.e.the total number of events divided by the number of units in the data. The size variable will determine the amount of random samples called to the distribution\n",
    "\n"
   ]
  },
  {
   "cell_type": "code",
   "execution_count": 17,
   "metadata": {},
   "outputs": [
    {
     "data": {
      "image/png": "[encoded data removed]",
      "text/plain": [
       "<matplotlib.figure.Figure at 0x28a02c431d0>"
      ]
     },
     "metadata": {},
     "output_type": "display_data"
    }
   ],
   "source": [
    "# Estimate the possiblities of bankptcies in a given year.\n",
    "import numpy as np\n",
    "import matplotlib.pyplot as plt\n",
    "\n",
    "s = np.random.poisson(2, 2080)\n",
    "count, bins, ignored = plt.hist(s, 16, normed=True)\n",
    "plt.title('Poisson Distribution')                       # Title of Histogram\n",
    "plt.xlabel('Poisson')                                   # X-axis title\n",
    "plt.ylabel('Frequency')                                 # Y-axis title\n",
    "plt.show()"
   ]
  },
  {
   "cell_type": "code",
   "execution_count": 18,
   "metadata": {},
   "outputs": [
    {
     "name": "stdout",
     "output_type": "stream",
     "text": [
      "The mean is 1.97211538462\n",
      "The variance is 1.99345321746\n"
     ]
    }
   ],
   "source": [
    "print(\"The mean is\", np.mean(s)) # Calculating the mean of our Poisson distribution variable\n",
    "print(\"The variance is\", np.var(s))"
   ]
  },
  {
   "cell_type": "markdown",
   "metadata": {},
   "source": [
    "You can also use the Poisson Distribution to meansure the lam for different parameters."
   ]
  },
  {
   "cell_type": "code",
   "execution_count": 19,
   "metadata": {
    "scrolled": true
   },
   "outputs": [
    {
     "data": {
      "text/plain": [
       "array([[  97,  524,  945, 5050],\n",
       "       [  99,  492, 1038, 4995],\n",
       "       [ 103,  491, 1018, 5082],\n",
       "       [  94,  517,  988, 4912],\n",
       "       [ 118,  467,  984, 5081],\n",
       "       [ 101,  533, 1005, 4987],\n",
       "       [ 104,  482, 1001, 5059],\n",
       "       [ 102,  503,  992, 5059],\n",
       "       [  93,  520,  931, 5116],\n",
       "       [  92,  508,  991, 5053],\n",
       "       [ 118,  530, 1045, 5057],\n",
       "       [  85,  521,  996, 4994],\n",
       "       [  91,  505, 1043, 4951],\n",
       "       [  99,  511, 1020, 4920],\n",
       "       [  97,  480, 1031, 4972],\n",
       "       [ 118,  496, 1057, 5082],\n",
       "       [  99,  458, 1057, 5011],\n",
       "       [ 106,  509,  995, 5017],\n",
       "       [ 123,  478,  979, 4912],\n",
       "       [  98,  468, 1001, 4895],\n",
       "       [  99,  502,  995, 4976],\n",
       "       [  99,  468, 1004, 4933],\n",
       "       [ 106,  543,  991, 4961],\n",
       "       [  85,  500,  996, 4931],\n",
       "       [  97,  467, 1038, 5007],\n",
       "       [ 100,  476,  977, 5084],\n",
       "       [ 119,  479,  952, 4915],\n",
       "       [ 111,  533, 1022, 5084],\n",
       "       [ 108,  511,  962, 4894],\n",
       "       [ 104,  545, 1018, 4882],\n",
       "       [  96,  499,  985, 5007],\n",
       "       [  98,  520,  926, 4978],\n",
       "       [ 105,  530, 1020, 4971],\n",
       "       [  89,  508, 1070, 5009],\n",
       "       [ 112,  480,  998, 5015],\n",
       "       [  76,  507, 1012, 4932],\n",
       "       [  98,  487, 1005, 5091],\n",
       "       [ 101,  481,  999, 4979],\n",
       "       [  93,  505,  998, 4973],\n",
       "       [ 104,  485,  984, 5037],\n",
       "       [  97,  516,  986, 4943],\n",
       "       [  73,  508,  951, 5057],\n",
       "       [ 110,  568,  935, 5058],\n",
       "       [ 100,  513, 1010, 4944],\n",
       "       [ 108,  480,  954, 5041],\n",
       "       [ 106,  491,  978, 4912],\n",
       "       [ 106,  515, 1019, 4945],\n",
       "       [ 109,  487,  996, 5067],\n",
       "       [ 109,  524, 1007, 5087],\n",
       "       [ 105,  549, 1085, 4925],\n",
       "       [ 125,  491,  994, 5146],\n",
       "       [ 101,  543, 1019, 5060],\n",
       "       [  88,  515, 1012, 5054],\n",
       "       [  96,  471, 1021, 4953],\n",
       "       [  84,  511,  960, 4907],\n",
       "       [  95,  502,  992, 5075],\n",
       "       [  96,  504,  999, 4820],\n",
       "       [  91,  524,  976, 4998],\n",
       "       [ 124,  498,  994, 5008],\n",
       "       [  93,  500, 1010, 5075],\n",
       "       [  90,  527,  981, 4985],\n",
       "       [  87,  529, 1024, 4985],\n",
       "       [ 106,  512,  940, 5061],\n",
       "       [  98,  477, 1002, 4993],\n",
       "       [  95,  484,  976, 5071],\n",
       "       [  96,  483,  989, 4975],\n",
       "       [  96,  477, 1044, 4966],\n",
       "       [  94,  494,  979, 4911],\n",
       "       [  97,  519,  993, 4945],\n",
       "       [ 106,  468,  959, 4943],\n",
       "       [  91,  504,  923, 5015],\n",
       "       [  86,  452,  992, 4878],\n",
       "       [ 105,  439, 1011, 5080],\n",
       "       [  95,  528,  942, 5042],\n",
       "       [  99,  501,  999, 5001],\n",
       "       [  92,  495, 1013, 4988],\n",
       "       [  99,  516,  950, 4930],\n",
       "       [ 116,  505, 1016, 5013],\n",
       "       [  95,  500,  963, 5023],\n",
       "       [  94,  451, 1007, 4967],\n",
       "       [ 104,  513, 1053, 5156],\n",
       "       [ 110,  477, 1054, 4948],\n",
       "       [  89,  474, 1063, 5003],\n",
       "       [ 107,  514, 1000, 5035],\n",
       "       [ 108,  510,  980, 4986],\n",
       "       [ 108,  462,  954, 4908],\n",
       "       [  98,  523, 1068, 4900],\n",
       "       [ 110,  465, 1033, 4976],\n",
       "       [  84,  476,  986, 5084],\n",
       "       [ 108,  527, 1005, 4937],\n",
       "       [ 103,  512,  945, 4997],\n",
       "       [  98,  505,  992, 5025],\n",
       "       [ 101,  464, 1020, 5113],\n",
       "       [  86,  472, 1019, 5135],\n",
       "       [  88,  490,  950, 4910],\n",
       "       [ 102,  492, 1018, 4935],\n",
       "       [  98,  523,  965, 4896],\n",
       "       [  90,  526,  994, 4980],\n",
       "       [ 118,  503,  969, 4947],\n",
       "       [ 102,  516,  989, 4999]])"
      ]
     },
     "execution_count": 19,
     "metadata": {},
     "output_type": "execute_result"
    }
   ],
   "source": [
    "# Draw each 100 values for lambda 100, 500, 1000 & 5000\n",
    "p = np.random.poisson(lam=(100, 500, 1000, 5000), size=(100, 4))\n",
    "p"
   ]
  },
  {
   "cell_type": "code",
   "execution_count": 20,
   "metadata": {},
   "outputs": [
    {
     "name": "stdout",
     "output_type": "stream",
     "text": [
      "The mean is 1648.36\n",
      "The variance is 3837745.4904\n"
     ]
    }
   ],
   "source": [
    "# And then call the mean and variance on them\n",
    "import numpy as np\n",
    "print(\"The mean is\", np.mean(p)) # Calculating the mean of Q\n",
    "print(\"The variance is\", np.var(p))"
   ]
  },
  {
   "cell_type": "markdown",
   "metadata": {},
   "source": [
    "#### Binomial"
   ]
  },
  {
   "cell_type": "markdown",
   "metadata": {},
   "source": [
    "A binomial experiment is a statistical experiment that has the following properties:\n",
    "\n",
    "1. The experiment consists of n repeated trials.\n",
    "2. Each trial can result in just two possible outcomes. We call one of these outcomes a success and the other, a failure.\n",
    "3. The probability of success, denoted by P, is the same on every trial.\n",
    "4. The trials are independent; that is, the outcome on one trial does not affect the outcome on other trials.\n",
    "\n",
    "Consider the following statistical experiment. You flip a coin 2 times and count the number of times the coin lands on heads. This is a binomial experiment because:\n",
    "\n",
    "1. The experiment consists of repeated trials. We flip a coin 2 times.\n",
    "2. Each trial can result in just two possible outcomes - heads or tails.\n",
    "3. The probability of success is constant - 0.5 on every trial.\n",
    "4. The trials are independent; that is, getting heads on one trial does not affect whether we get heads on other trials. [[Binomial]](https://stattrek.com/probability-distributions/binomial.aspx)\n"
   ]
  },
  {
   "cell_type": "markdown",
   "metadata": {
    "collapsed": true
   },
   "source": [
    "Let's look at a real world problem. Suppose that a student is taking a multiple-choice exam in which each question has four choices.   Assuming that she has no knowledge of the correct to any of the questions, she has decided on a strategy in which she will place four balls (marked A, B, C, and D) into a box.   She randomly selects one ball for each question and replaces the ball in the box.   The marking on the ball will determine her answer to the question. Using this method, the probability of getting a correct answer would be 1/4 = .25 for each question.   This is a binomial situation with n=5 and p=.25.[[Stat]](http://www.stat.wmich.edu/s216/binom/binom.html)"
   ]
  },
  {
   "cell_type": "code",
   "execution_count": 21,
   "metadata": {},
   "outputs": [
    {
     "data": {
      "text/plain": [
       "array([0, 2, 0, 2, 1, 3, 1, 1, 0, 1, 2, 1, 1, 1, 1, 0, 0, 0, 1, 1])"
      ]
     },
     "execution_count": 21,
     "metadata": {},
     "output_type": "execute_result"
    }
   ],
   "source": [
    "n, p = 5, .25  # number of questions, probability of getting it correct\n",
    "r = np.random.binomial(n, p, 20) # Testing this 20 times\n",
    "r"
   ]
  },
  {
   "cell_type": "markdown",
   "metadata": {},
   "source": [
    "This randomly generates the results of getting each of the questions correct over 20 trials. These results can be seen below. The histogram shows for example patch 1 and 3 shows are the most popular results i.e either all wrong or two wrong all the most randomly predicted."
   ]
  },
  {
   "cell_type": "code",
   "execution_count": 22,
   "metadata": {},
   "outputs": [
    {
     "data": {
      "image/png": "[encoded data removed]",
      "text/plain": [
       "<matplotlib.figure.Figure at 0x28a03cb7c18>"
      ]
     },
     "metadata": {},
     "output_type": "display_data"
    }
   ],
   "source": [
    "# Import matplotlib to create a histogram\n",
    "import matplotlib.pyplot as plt\n",
    "n, bins, patches = plt.hist(r, 15, normed=1, color='green')\n",
    "\n",
    "plt.title('Binomial Distribution')                       # Title of Histogram\n",
    "plt.xlabel('Binomial')                                   # X-axis title\n",
    "plt.ylabel('Frequency')                                  # Y- axis title          \n",
    "plt.show()                      "
   ]
  },
  {
   "cell_type": "markdown",
   "metadata": {},
   "source": [
    "#### Pareto"
   ]
  },
  {
   "cell_type": "markdown",
   "metadata": {},
   "source": [
    "The Pareto distribution, named after the Italian civil engineer, economist, and sociologist Vilfredo Pareto, is a power-law probability distribution that is used in description of social, scientific, geophysical, actuarial, and many other types of observable phenomena [[Pareto]](https://en.wikipedia.org/wiki/Pareto_distribution)\n",
    "\n",
    "The Pareto distribution is a skewed distribution with heavy, or “slowly decaying” tails (i.e. much of the data is in the tails).  It has two main applications:\n",
    "\n",
    "1. To model the distribution of incomes.\n",
    "2. To model the distribution of city populations.\n",
    "\n",
    "However, it can be used in a variety of other situations. For example, it can be used to model the lifetime of a manufactured item with a certain warranty period. [[Stat]](https://www.statisticshowto.datasciencecentral.com/pareto-distribution/)\n",
    "\n",
    "The Pareto Principle is derived from the Pareto distribution and is used to illustrate that many things are not distributed evenly. Originally written to state that 20% of the population holds 80% of the wealth, it can be applied more universally. For example, 1% of the population holds 99% of the wealth. However, it can be used to model any general situation where situations are not evenly distributed. For example, the top 20% of workers might produce 80% of output. [[Stat]](https://www.statisticshowto.datasciencecentral.com/pareto-distribution/)\n",
    "\n",
    "Let's use a real world problemt to explain the Pareto Distribution. In business the 80% of our sales come from 20% of our customers."
   ]
  },
  {
   "cell_type": "code",
   "execution_count": 23,
   "metadata": {},
   "outputs": [
    {
     "data": {
      "image/png": "[encoded data removed]",
      "text/plain": [
       "<matplotlib.figure.Figure at 0x28a03d5dfd0>"
      ]
     },
     "metadata": {},
     "output_type": "display_data"
    }
   ],
   "source": [
    "a, m = 20, 10 # shape and mode\n",
    "s = (np.random.pareto(a, 1000) + 1) * m\n",
    "#Display the histogram of the samples, along with the probability density function:\n",
    "\n",
    "import matplotlib.pyplot as plt\n",
    "count, bins, _ = plt.hist(s, 50, normed=True)\n",
    "fit = a*m**a / bins**(a+1)\n",
    "plt.plot(bins, max(count)*fit/max(fit), linewidth=3, color='y')\n",
    "\n",
    "\n",
    "plt.title('Pareto Distribution')\n",
    "plt.xlabel('Pareto')\n",
    "plt.ylabel('Count')\n",
    "plt.show()"
   ]
  },
  {
   "cell_type": "markdown",
   "metadata": {
    "collapsed": true
   },
   "source": [
    "#### Power"
   ]
  },
  {
   "cell_type": "markdown",
   "metadata": {
    "collapsed": true
   },
   "source": [
    "The power function distribution is just the inverse of the Pareto distribution. It may also be seen as a special case of the Beta distribution. It is used, for example, in modeling the over-reporting of insurance claims.[[Power]](https://docs.scipy.org/doc/numpy-1.15.1/reference/generated/numpy.random.power.html#numpy.random.power)\n",
    "\n",
    "The power law can be used to describe a phenomenon where a small number of items is clustered at the top of a distribution (or at the bottom), taking up 95% of the resources. In other words, it implies a small amount of occurrences is common, while larger occurrences are rare. For example, where the distribution of income is concerned, there are very few billionaires; the bulk of the population holds very modest nest eggs.[[Stat]](https://www.statisticshowto.datasciencecentral.com/power-law/)\n",
    "\n"
   ]
  },
  {
   "cell_type": "code",
   "execution_count": 24,
   "metadata": {},
   "outputs": [
    {
     "data": {
      "image/png": "[encoded data removed]",
      "text/plain": [
       "<matplotlib.figure.Figure at 0x28a03dc7748>"
      ]
     },
     "metadata": {},
     "output_type": "display_data"
    }
   ],
   "source": [
    "# Display the Pareto Distribution\n",
    "a = 10 # shape\n",
    "samples = 5000 # Samples\n",
    "s = np.random.power(a, samples)\n",
    "s\n",
    "\n",
    "\n",
    "#Display the histogram of the samples, along with the probability density function:\n",
    "import matplotlib.pyplot as plt\n",
    "count, bins, ignored = plt.hist(s, bins=30)\n",
    "x = np.linspace(0, 1, 100)\n",
    "y = a*x**(a-1.)\n",
    "normed_y = samples*np.diff(bins)[0]*y\n",
    "plt.plot(x,normed_y)\n",
    "plt.title('Pareto Distribution')\n",
    "plt.xlabel('Pareto')\n",
    "plt.ylabel('Count')\n",
    "plt.show()"
   ]
  },
  {
   "cell_type": "markdown",
   "metadata": {
    "collapsed": true
   },
   "source": [
    "#### Uniform"
   ]
  },
  {
   "cell_type": "markdown",
   "metadata": {
    "collapsed": true
   },
   "source": [
    "A uniform distribution, sometimes also known as a rectangular distribution, is a distribution that has constant probability. [[Uniform]](http://mathworld.wolfram.com/UniformDistribution.html)\n",
    "\n",
    "The uniform distribution gets its name from the fact that the probabilities for all outcomes are the same. Unlike a normal distribution with a hump in the middle or a chi-square distribution, a uniform distribution has no mode. Instead, every outcome is equally likely to occur. [[Thought]](https://www.thoughtco.com/uniform-distribution-3126573). There are two types of uniform distributions: discrete and continuous.\n",
    "\n",
    "Any situation in which every outcome in a sample space is equally likely will use a uniform distribution. One example of this in a discrete case is when we roll a single standard die. There are a total of six sides of the die, and each side has the same probability of being rolled face up. The probability histogram for this distribution is rectangular shaped, with six bars that each have height of 1/6.[[Thought]](https://www.thoughtco.com/uniform-distribution-3126573)\n",
    "\n",
    "For an example of a uniform distribution in a continuous setting, we will consider an idealized random number generator. This will truly generate a random number from a specified range of values. So if we specify that the generator is to produce a random number between 1 and 4, then 3.25, 3, e, 2.222222, 3.4545456 and pi are all possible numbers that are equally likely to be produced.[[Thought]](https://www.thoughtco.com/uniform-distribution-3126573)\n"
   ]
  },
  {
   "cell_type": "code",
   "execution_count": 53,
   "metadata": {},
   "outputs": [
    {
     "data": {
      "image/png": "[encoded data removed]",
      "text/plain": [
       "<matplotlib.figure.Figure at 0x28a05766c88>"
      ]
     },
     "metadata": {},
     "output_type": "display_data"
    }
   ],
   "source": [
    "N = 100  # no of samples\n",
    "x = range(N) # x equals the range of 100\n",
    "y = [random.uniform(0,1) for i in x] # y generates 100 random variable between 0 and 1\n",
    "y\n",
    "count, bins, ignored = plt.hist(y, 15, normed=True)\n",
    "plt.plot(bins, np.ones_like(bins), linewidth=4, color='c')\n",
    "plt.title('Uniform Distribution')\n",
    "plt.xlabel('Between 0 and 1')\n",
    "plt.ylabel('Count')\n",
    "plt.show()"
   ]
  },
  {
   "cell_type": "markdown",
   "metadata": {},
   "source": [
    "## Random Generator "
   ]
  },
  {
   "cell_type": "markdown",
   "metadata": {
    "collapsed": true
   },
   "source": [
    "#### Seeds"
   ]
  },
  {
   "cell_type": "markdown",
   "metadata": {},
   "source": [
    "The method seed() sets the integer starting value used in generating random numbers. This function is not accessible directly, so we need to import seed module and then we need to call this function using random static object.[[Tutorial]](https://www.tutorialspoint.com/python/number_seed.htm)\n",
    "\n",
    "For a seed to be used in a pseudorandom number generator, it does not need to be random. Because of the nature of number generating algorithms, so long as the original seed is ignored, the rest of the values that the algorithm generates will follow probability distribution in a pseudorandom manner.[[Seeds]](https://en.wikipedia.org/wiki/Random_seed)\n",
    "\n",
    "Every time we import random, the subsequent sequence of random.random() calls will yield different numbers. For debugging purposes it is useful to get the same sequence of random numbers every time we run the program. This functionality is obtained by setting a seed before we start generating numbers.[[help](http://hplgit.github.io/primer.html/doc/pub/random/._random-readable001.html)"
   ]
  },
  {
   "cell_type": "code",
   "execution_count": 56,
   "metadata": {},
   "outputs": [
    {
     "name": "stdout",
     "output_type": "stream",
     "text": [
      "[2 1 4 0 3]\n",
      "[2 1 4 0 3]\n",
      "[2 1 4 0 3]\n",
      "[2 1 4 0 3]\n",
      "[2 1 4 0 3]\n"
     ]
    }
   ],
   "source": [
    "import numpy as np\n",
    "from numpy import random\n",
    "\n",
    "for i in range(5):\n",
    "    arr = np.arange(5)  # [0, 1, 2, 3, 4]\n",
    "    random.seed(1)  # Reset random state\n",
    "    random.shuffle(arr)  # Shuffle!\n",
    "    print(arr)"
   ]
  },
  {
   "cell_type": "markdown",
   "metadata": {},
   "source": [
    "#### RandomState"
   ]
  },
  {
   "cell_type": "markdown",
   "metadata": {},
   "source": [
    "The first sentence (a = numpy.random.RandomState(1)) start the pseudo random seed, in your case 1. That means that, no mater how many times you run the script, always get the same \"random\" number."
   ]
  },
  {
   "cell_type": "markdown",
   "metadata": {},
   "source": [
    "## Relationship between Distribution"
   ]
  },
  {
   "cell_type": "markdown",
   "metadata": {},
   "source": [
    "A special type of the this type of distribution is the Pareto Principle (also called the Pareto Law), which is an unscientific “law” that states 80% of effects come from 20% of causes. In other words, most of what we do has little effect.\n",
    "\n",
    "A related law is Zipf’s law which usually refers to the frequency of an event relative to it’s rank. Zipf’s law states that, given a list of the most frequent words in an arbitrary book, the most frequent word will appear twice as often as the second most frequent word, which will appear twice as often as the third most frequent, and so on. In its simplest form, Zipf’s law is equal to the power law. Zipf’s law gives rise to the Zeta Distribution.[Stat]"
   ]
  },
  {
   "cell_type": "code",
   "execution_count": 27,
   "metadata": {},
   "outputs": [
    {
     "data": {
      "text/plain": [
       "Text(0.5,1,'inverse of stats.pareto(5)')"
      ]
     },
     "execution_count": 27,
     "metadata": {},
     "output_type": "execute_result"
    },
    {
     "data": {
      "image/png": "[encoded data removed]",
      "text/plain": [
       "<matplotlib.figure.Figure at 0x28a03d0a860>"
      ]
     },
     "metadata": {},
     "output_type": "display_data"
    },
    {
     "data": {
      "image/png": "[encoded data removed]",
      "text/plain": [
       "<matplotlib.figure.Figure at 0x28a0412d550>"
      ]
     },
     "metadata": {},
     "output_type": "display_data"
    },
    {
     "data": {
      "image/png": "[encoded data removed]",
      "text/plain": [
       "<matplotlib.figure.Figure at 0x28a051413c8>"
      ]
     },
     "metadata": {},
     "output_type": "display_data"
    }
   ],
   "source": [
    "#Compare the power function distribution to the inverse of the Pareto.\n",
    "\n",
    "from scipy import stats\n",
    "rvs = np.random.power(5, 1000000)\n",
    "rvsp = np.random.pareto(5, 1000000)\n",
    "xx = np.linspace(0,1,100)\n",
    "powpdf = stats.powerlaw.pdf(xx,5)\n",
    "\n",
    "plt.figure()\n",
    "plt.hist(rvs, bins=50, normed=True)\n",
    "plt.plot(xx,powpdf,'r-')\n",
    "plt.title('np.random.power(5)')\n",
    "\n",
    "plt.figure()\n",
    "plt.hist(1./(1.+rvsp), bins=50, normed=True)\n",
    "plt.plot(xx,powpdf,'r-')\n",
    "plt.title('inverse of 1 + np.random.pareto(5)')\n",
    "\n",
    "plt.figure()\n",
    "plt.hist(1./(1.+rvsp), bins=50, normed=True)\n",
    "plt.plot(xx,powpdf,'r-')\n",
    "plt.title('inverse of stats.pareto(5)')"
   ]
  },
  {
   "cell_type": "markdown",
   "metadata": {
    "collapsed": true
   },
   "source": [
    "## References"
   ]
  },
  {
   "cell_type": "markdown",
   "metadata": {},
   "source": [
    "[1] https://www.pythonforbeginners.com/learn-python/what-is-python/"
   ]
  },
  {
   "cell_type": "markdown",
   "metadata": {},
   "source": [
    "[2]  https://www.scipy.org/scipylib/faq.html#what-is-numpy"
   ]
  },
  {
   "cell_type": "markdown",
   "metadata": {},
   "source": [
    "[3]  https://www.python-course.eu/numpy.php"
   ]
  },
  {
   "cell_type": "markdown",
   "metadata": {},
   "source": [
    "[4] http://cs231n.github.io/python-numpy-tutorial/"
   ]
  },
  {
   "cell_type": "markdown",
   "metadata": {},
   "source": [
    "[5] https://en.wikipedia.org/wiki/NumPy"
   ]
  },
  {
   "cell_type": "markdown",
   "metadata": {},
   "source": [
    "[6]  https://stackabuse.com/numpy-tutorial-a-simple-example-based-guide/#advantagesofnumpy "
   ]
  },
  {
   "cell_type": "markdown",
   "metadata": {},
   "source": [
    "[2]  https://www.labri.fr/perso/nrougier/teaching/numpy/numpy.html"
   ]
  },
  {
   "cell_type": "markdown",
   "metadata": {},
   "source": [
    "[3]  https://docs.scipy.org/doc/numpy-1.14.0/reference/routines.random.html"
   ]
  },
  {
   "cell_type": "markdown",
   "metadata": {},
   "source": [
    "[6] https://docs.scipy.org/doc/numpy-1.15.1/reference/generated/numpy.array.html"
   ]
  },
  {
   "cell_type": "markdown",
   "metadata": {},
   "source": [
    "[7] https://www.sciencedirect.com/topics/biochemistry-genetics-and-molecular-biology/poisson-distribution"
   ]
  },
  {
   "cell_type": "markdown",
   "metadata": {},
   "source": [
    "[8] https://stattrek.com/probability-distributions/binomial.aspx"
   ]
  },
  {
   "cell_type": "markdown",
   "metadata": {},
   "source": [
    "[11] https://en.wikipedia.org/wiki/Convenience_function"
   ]
  },
  {
   "cell_type": "markdown",
   "metadata": {
    "collapsed": true
   },
   "source": [
    "[12] https://www.programiz.com/python-programming/examples/shuffle-card"
   ]
  },
  {
   "cell_type": "markdown",
   "metadata": {
    "collapsed": true
   },
   "source": [
    "[13] https://www.dummies.com/education/math/statistics/what-the-distribution-tells-you-about-a-statistical-data-set/"
   ]
  },
  {
   "cell_type": "markdown",
   "metadata": {
    "collapsed": true
   },
   "source": [
    "[15] https://en.wikipedia.org/wiki/Pareto_distribution"
   ]
  },
  {
   "cell_type": "markdown",
   "metadata": {
    "collapsed": true
   },
   "source": [
    "[16] http://mathworld.wolfram.com/UniformDistribution.html"
   ]
  },
  {
   "cell_type": "markdown",
   "metadata": {},
   "source": [
    "[17] https://bigdata-madesimple.com/how-to-implement-these-5-powerful-probability-distributions-in-python/"
   ]
  },
  {
   "cell_type": "markdown",
   "metadata": {},
   "source": [
    "[18] https://www.tutorialspoint.com/python/number_seed.htm"
   ]
  },
  {
   "cell_type": "markdown",
   "metadata": {},
   "source": [
    "[19] http://hplgit.github.io/primer.html/doc/pub/random/._random-readable001.html"
   ]
  },
  {
   "cell_type": "markdown",
   "metadata": {},
   "source": [
    "[20] https://en.wikipedia.org/wiki/Random_seed"
   ]
  },
  {
   "cell_type": "markdown",
   "metadata": {
    "collapsed": true
   },
   "source": [
    "[21] https://www.tutorialspoint.com/python/python_poisson_distribution.htm"
   ]
  },
  {
   "cell_type": "markdown",
   "metadata": {
    "collapsed": true
   },
   "source": [
    "[22] https://www.statisticshowto.datasciencecentral.com/power-law/"
   ]
  },
  {
   "cell_type": "markdown",
   "metadata": {},
   "source": [
    "[23] https://www.thoughtco.com/uniform-distribution-3126573]"
   ]
  },
  {
   "cell_type": "markdown",
   "metadata": {},
   "source": [
    "[24] http://hplgit.github.io/primer.html/doc/pub/random/._random-readable001.html"
   ]
  }
 ],
 "metadata": {
  "kernelspec": {
   "display_name": "Python 3",
   "language": "python",
   "name": "python3"
  },
  "language_info": {
   "codemirror_mode": {
    "name": "ipython",
    "version": 3
   },
   "file_extension": ".py",
   "mimetype": "text/x-python",
   "name": "python",
   "nbconvert_exporter": "python",
   "pygments_lexer": "ipython3",
   "version": "3.6.3"
  }
 },
 "nbformat": 4,
 "nbformat_minor": 2
}
