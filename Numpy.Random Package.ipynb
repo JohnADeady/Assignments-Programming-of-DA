{
 "cells": [
  {
   "cell_type": "markdown",
   "metadata": {},
   "source": [
    "<img src=\"https://upload.wikimedia.org/wikipedia/commons/1/1a/NumPy_logo.svg\" height=\"200\" width=\"600\">"
   ]
  },
  {
   "cell_type": "markdown",
   "metadata": {},
   "source": [
    "# NumPy Random Package Assignment"
   ]
  },
  {
   "cell_type": "markdown",
   "metadata": {},
   "source": [
    " The following assignment concerns the NumPy.random package in Python. There are four tasks to be carried out in this Jupyter notebook.\n",
    "1. Explain the overall purpose of the package. \n",
    "2. Explain the use of the “Simple random data” and “Permutations” functions. \n",
    "3. Explain the use and purpose of at least ﬁve “Distributions” functions. \n",
    "4. Explain the use of seeds in generating pseudorandom numbers.\n"
   ]
  },
  {
   "cell_type": "markdown",
   "metadata": {
    "collapsed": true
   },
   "source": [
    "## Purpose of the NumPy Package"
   ]
  },
  {
   "cell_type": "markdown",
   "metadata": {},
   "source": [
    "NumPy or Numeric Python is a Python extension module or library that provides efficient operation on arrays of homogeneous data. It allows python to serve as a high-level language for manipulating numerical data [[Scipy]](https://www.scipy.org/scipylib/faq.html#what-is-numpy).\n",
    "\n",
    "NumPy enriches the programming language Python with powerful data structures, implementing multi-dimensional arrays and matrices. These data structures guarantee efficient calculations with matrices and arrays. [[Python]](https://www.python-course.eu/numpy.php)\n",
    "\n",
    "Python is a great general-purpose programming language on its own, but with the help of a few popular libraries (numpy, scipy, matplotlib) it becomes a powerful environment for scientific computing. [[Github]](http://cs231n.github.io/python-numpy-tutorial/)\n",
    "\n",
    "The ancestor of NumPy, Numeric, was originally created by Jim Hugunin with contributions from several other developers. In 2005, Travis Oliphant created NumPy by incorporating features of the competing Numarray into Numeric, with extensive modifications. NumPy is open-source software and has many contributors. [[Wiki]](https://en.wikipedia.org/wiki/NumPy)"
   ]
  },
  {
   "cell_type": "markdown",
   "metadata": {},
   "source": [
    "## Advantages"
   ]
  },
  {
   "cell_type": "markdown",
   "metadata": {},
   "source": [
    "NumPy has several advantages over using core Python mathemtatical functions, a few of which are outlined here:\n",
    "\n",
    "1.NumPy is extremely fast when compared to core Python thanks to its heavy use of C extensions.\n",
    "\n",
    "2.Many advanced Python libraries, such as Scikit-Learn, Scipy, and Keras, make extensive use of the NumPy library. Therefore, if you plan to pursue a career in data science or machine learning, NumPy is a very good tool to master.\n",
    "\n",
    "3.NumPy comes with a variety of built-in functionalities, which in core Python would take a fair bit of custom code. [[Stackabuse]](https://stackabuse.com/numpy-tutorial-a-simple-example-based-guide/#advantagesofnumpy )"
   ]
  },
  {
   "cell_type": "markdown",
   "metadata": {},
   "source": [
    "## Introduction"
   ]
  },
  {
   "cell_type": "markdown",
   "metadata": {},
   "source": [
    "This jupyter notebook is concerned with the random sampling function of NumPy. But first we will look at a simple python example and then compare this to NumPy a more quick and efficent way to run a dataset."
   ]
  },
  {
   "cell_type": "code",
   "execution_count": 2,
   "metadata": {},
   "outputs": [
    {
     "name": "stdout",
     "output_type": "stream",
     "text": [
      "[4, 5, 6, 7, 8]\n"
     ]
    }
   ],
   "source": [
    "# Create two variables X and Y  \n",
    "x = [2, 3, 4, 5, 6]      # x equals a list of numbers\n",
    "y = [a + 2 for a in x]   # y equals to x + 2  for a in x\n",
    "print(y)                 # print y"
   ]
  },
  {
   "cell_type": "markdown",
   "metadata": {},
   "source": [
    "Next we will import the NumPy library and we will call it np for shorthand:"
   ]
  },
  {
   "cell_type": "code",
   "execution_count": 3,
   "metadata": {},
   "outputs": [
    {
     "name": "stdout",
     "output_type": "stream",
     "text": [
      "[4 5 6 7 8]\n"
     ]
    }
   ],
   "source": [
    "# Create two variables X and Y  \n",
    "import numpy as np              # Import numpy library\n",
    "import matplotlib.pyplot as plt # Import matplotib library for plots\n",
    "%matplotlib inline              \n",
    "x = np.array([2, 3, 4, 5, 6])   # Let x equals np.array which includes list 2 to 6\n",
    "y = x + 2                       # Let y equals to x to 2\n",
    "print(y)                        # print y"
   ]
  },
  {
   "cell_type": "markdown",
   "metadata": {
    "collapsed": true
   },
   "source": [
    "By importing the NumPy library we can create shortcuts and shorten our python code. This is one of the advantages of using np.arrray over normal python code"
   ]
  },
  {
   "cell_type": "markdown",
   "metadata": {},
   "source": [
    "## Simple Random Data"
   ]
  },
  {
   "cell_type": "markdown",
   "metadata": {},
   "source": [
    "We will now look at simple random data of NumPy. This is the most basic type of random code. \n",
    "\n",
    "We will run examples of random.rand, random.randint and random.sample and create histograms to graphy the output data"
   ]
  },
  {
   "cell_type": "code",
   "execution_count": 4,
   "metadata": {},
   "outputs": [
    {
     "data": {
      "text/plain": [
       "array([[ 0.14354755,  0.32051716,  0.7771185 ,  0.48690731,  0.63390255],\n",
       "       [ 0.76537059,  0.44951611,  0.16195862,  0.7751202 ,  0.78798478],\n",
       "       [ 0.29505773,  0.89648579,  0.47065615,  0.62973577,  0.23631564],\n",
       "       [ 0.55929054,  0.21424433,  0.40592954,  0.91072745,  0.95086744],\n",
       "       [ 0.58341422,  0.42764638,  0.77890329,  0.52749505,  0.09916091]])"
      ]
     },
     "execution_count": 4,
     "metadata": {},
     "output_type": "execute_result"
    }
   ],
   "source": [
    "# Use the random.rand function to generate random numbers between 0 and 1.\n",
    "a= np.random.rand(5,5)\n",
    "a"
   ]
  },
  {
   "cell_type": "markdown",
   "metadata": {},
   "source": [
    "The rand functiion generates numbers between 0 to 1. This example above 5 acrocss by 5 down randonly generated"
   ]
  },
  {
   "cell_type": "code",
   "execution_count": 5,
   "metadata": {},
   "outputs": [
    {
     "data": {
      "text/plain": [
       "Text(0,0.5,'Count')"
      ]
     },
     "execution_count": 5,
     "metadata": {},
     "output_type": "execute_result"
    },
    {
     "data": {
      "image/png": "[encoded data removed]",
      "text/plain": [
       "<matplotlib.figure.Figure at 0x164b1f81240>"
      ]
     },
     "metadata": {},
     "output_type": "display_data"
    }
   ],
   "source": [
    "# Display the array in a in histogram format using matplotlib\n",
    "plt.hist(a)\n",
    "\n",
    "plt.title('Rand Function')                     # Title of Histogram\n",
    "plt.xlabel('Generate Numbers between 0 and 1') # X-axis title\n",
    "plt.ylabel('Count')                             # Y-axis title"
   ]
  },
  {
   "cell_type": "markdown",
   "metadata": {},
   "source": [
    "From the histogram, we can see the randomly generate numbers between 0 and 1 on the X-axis. This means that all numbers are positive figures. The Y-axis represents the count of these values on the X-axis. This is a convenience function. A convenience function is a non-essential subroutine in a programming library or framework which is intended to ease commonly performed tasks. [[Convenience]](https://en.wikipedia.org/wiki/Convenience_function) \n"
   ]
  },
  {
   "cell_type": "code",
   "execution_count": 6,
   "metadata": {},
   "outputs": [
    {
     "data": {
      "text/plain": [
       "array([14,  6, 44, 88, 54, 17, 38, 76, 98, 17])"
      ]
     },
     "execution_count": 6,
     "metadata": {},
     "output_type": "execute_result"
    }
   ],
   "source": [
    "# Use the random.randint function to generate random numbers between 0 and 100.\n",
    "b = np.random.randint(101, size=10)\n",
    "b"
   ]
  },
  {
   "cell_type": "markdown",
   "metadata": {},
   "source": [
    "This list generates random numbers betweem 0 and 100 with an dsiplay of 10 integers."
   ]
  },
  {
   "cell_type": "code",
   "execution_count": 7,
   "metadata": {},
   "outputs": [
    {
     "data": {
      "text/plain": [
       "Text(0,0.5,'Count')"
      ]
     },
     "execution_count": 7,
     "metadata": {},
     "output_type": "execute_result"
    },
    {
     "data": {
      "image/png": "[encoded data removed]",
      "text/plain": [
       "<matplotlib.figure.Figure at 0x164b102a4a8>"
      ]
     },
     "metadata": {},
     "output_type": "display_data"
    }
   ],
   "source": [
    "# Display the array in a in histogram format using matplotlib\n",
    "plt.hist(b)\n",
    "\n",
    "plt.title('Randit Function')                       # Title of Histogram\n",
    "plt.xlabel('Generate Numbers between 0 and 100')   # X-axis title\n",
    "plt.ylabel('Count')                                # Y-axis title"
   ]
  },
  {
   "cell_type": "markdown",
   "metadata": {},
   "source": [
    "Similiar to the previous histogram, we can see the randomly generate numbers between 0 and 100 on the X-axis. And again all numbers are positive intergers. The Y-axis represents the count of these values on the X-axis"
   ]
  },
  {
   "cell_type": "code",
   "execution_count": 8,
   "metadata": {},
   "outputs": [
    {
     "data": {
      "text/plain": [
       "array([[44, 12, 38, 41],\n",
       "       [ 7, 37, 16, 26]])"
      ]
     },
     "execution_count": 8,
     "metadata": {},
     "output_type": "execute_result"
    }
   ],
   "source": [
    "# Use the random.randint function to generate random numbers between 0 and 10. Size two rows and four numbers.}\n",
    "c = np.random.randint(51, size=(2,4))     # 2D array using randit\n",
    "c"
   ]
  },
  {
   "cell_type": "markdown",
   "metadata": {},
   "source": [
    "This list generates random numbers betweem 0 and 10 with 2 arrays of 4 integers"
   ]
  },
  {
   "cell_type": "code",
   "execution_count": 9,
   "metadata": {},
   "outputs": [
    {
     "data": {
      "text/plain": [
       "Text(0,0.5,'Count')"
      ]
     },
     "execution_count": 9,
     "metadata": {},
     "output_type": "execute_result"
    },
    {
     "data": {
      "image/png": "[encoded data removed]",
      "text/plain": [
       "<matplotlib.figure.Figure at 0x164b26020f0>"
      ]
     },
     "metadata": {},
     "output_type": "display_data"
    }
   ],
   "source": [
    "# Display the array in a in histogram format using matplotlib\n",
    "plt.hist(c)                                        # The two arrays on the same histogram\n",
    "\n",
    "plt.title('Randit Function')                       # Title of Histogram\n",
    "plt.xlabel('Generate Numbers between 0 and 50')    # X-axis title\n",
    "plt.ylabel('Count')                                # Y-axis title"
   ]
  },
  {
   "cell_type": "markdown",
   "metadata": {},
   "source": [
    "Similiar to the previous histogram, we can see the randomly generate numbers between 0 and 50 on the X-axis. And again all numbers are positive intergers. But this histogram has the two outputs on the same histogram. The Y-axis represents the count of these values on the X-axis"
   ]
  },
  {
   "cell_type": "code",
   "execution_count": 10,
   "metadata": {},
   "outputs": [
    {
     "data": {
      "text/plain": [
       "array([ 0.74283874,  0.30714482,  0.76834436,  0.95371256,  0.39914682,\n",
       "        0.68674635,  0.70769334,  0.13348431,  0.65923566,  0.54836465,\n",
       "        0.45125675,  0.84396261,  0.05735302,  0.29402947,  0.71950162,\n",
       "        0.43078736,  0.66458877,  0.57175826,  0.91469524,  0.39873312,\n",
       "        0.45803376,  0.53354858,  0.07090215,  0.16534277,  0.00328615,\n",
       "        0.83104613,  0.6676294 ,  0.21744416,  0.44983821,  0.1159884 ,\n",
       "        0.9453764 ,  0.58938447,  0.47378645,  0.98592984,  0.91493692,\n",
       "        0.44183002,  0.68804282,  0.14544464,  0.23179585,  0.85579583,\n",
       "        0.62635011,  0.98429652,  0.11337451,  0.79433897,  0.65406115,\n",
       "        0.24918929,  0.41925588,  0.70626496,  0.64024649,  0.12787173,\n",
       "        0.66929323])"
      ]
     },
     "execution_count": 10,
     "metadata": {},
     "output_type": "execute_result"
    }
   ],
   "source": [
    "# Use the random.random.sample to generate 51 numbers between 0 and 1.\n",
    "d = np.random.random_sample(51)\n",
    "d"
   ]
  },
  {
   "cell_type": "code",
   "execution_count": 11,
   "metadata": {},
   "outputs": [
    {
     "data": {
      "text/plain": [
       "Text(0,0.5,'Count')"
      ]
     },
     "execution_count": 11,
     "metadata": {},
     "output_type": "execute_result"
    },
    {
     "data": {
      "image/png": "[encoded data removed]",
      "text/plain": [
       "<matplotlib.figure.Figure at 0x164b2863780>"
      ]
     },
     "metadata": {},
     "output_type": "display_data"
    }
   ],
   "source": [
    "# Display the array in a in histogram format using matplotlib\n",
    "plt.hist(d)                                 \n",
    "\n",
    "plt.title('Sample Function')                       # Title of Histogram\n",
    "plt.xlabel('Generate Numbers between 0 and 1')     # X-axis title\n",
    "plt.ylabel('Count')                                # Y-axis title"
   ]
  },
  {
   "cell_type": "markdown",
   "metadata": {},
   "source": [
    "This histogram generates positive deciamls numbers between 0 and 1. The X-axis show the frequency of occurence and Y-axis sums how many times each occurs. Results are from the “continuous uniform” distribution over the stated interval [[SciPy]](https://docs.scipy.org/doc/numpy-1.15.1/reference/generated/numpy.random.random_sample.html#numpy.random.random_sample). The continuous uniform distribution or rectangular distribution is a family of symmetric probability distributions such that for each member of the family, all intervals of the same length on the distribution's support are equally probable. [[Uniform]](https://en.wikipedia.org/wiki/Uniform_distribution_(continuous))"
   ]
  },
  {
   "cell_type": "markdown",
   "metadata": {},
   "source": [
    "## Permuatations"
   ]
  },
  {
   "cell_type": "markdown",
   "metadata": {},
   "source": [
    "There are two sub-functions with permuatations. They are shuffle and permuatation. These are where a selection of objects in which the order of the objects matters. We will run random.shuffle\n",
    "\n",
    "We use the itertool module to create a deck of cards. This function performs the Cartesian product of the two sequence. The two sequence are, numbers from 1 to 13 and the four suits. So, altogether we have 13 * 4 = 52 items in the deck with each card. [[Programiz]](https://www.programiz.com/python-programming/examples/shuffle-card)\n",
    "\n",
    "The deck is in order so we use the random.shuffle. This shuffle modifies a sequence in-place by shuffling its contents. This randomly shuffle the deck and pick a card at random from our deck."
   ]
  },
  {
   "cell_type": "code",
   "execution_count": 12,
   "metadata": {},
   "outputs": [
    {
     "name": "stdout",
     "output_type": "stream",
     "text": [
      "You got:\n",
      "11 of Spade\n"
     ]
    }
   ],
   "source": [
    "# Python program to shuffle a deck of card using the module random and draw 5 cards\n",
    "\n",
    "# make a deck of cards\n",
    "import itertools, random\n",
    "deck = list(itertools.product(range(1,14),['Spade','Heart','Diamond','Club'])) # Creates two sequence using itertools\n",
    "\n",
    "# shuffle the cards\n",
    "random.shuffle(deck)\n",
    "\n",
    "# draw five cards\n",
    "print(\"You got:\")\n",
    "for i in range(1):\n",
    "   print(deck[i][0], \"of\", deck[i][1])"
   ]
  },
  {
   "cell_type": "markdown",
   "metadata": {},
   "source": [
    "## Distributions"
   ]
  },
  {
   "cell_type": "markdown",
   "metadata": {},
   "source": [
    "The distribution of a statistical data set (or a population) is a listing or function showing all the possible values (or intervals) of the data and how often they occur. The world of statistics includes dozens of different distributions for categorical and numerical data; the most common ones have their own names. One of the most well-known distributions is called the normal distribution, also known as the bell-shaped curv. [[Distribution]](https://www.dummies.com/education/math/statistics/what-the-distribution-tells-you-about-a-statistical-data-set/)\n",
    "\n",
    "We are going to look at the Poisson, Binomial Power, Uniform and Pareto."
   ]
  },
  {
   "cell_type": "markdown",
   "metadata": {},
   "source": [
    "#### Poisson Distribution"
   ]
  },
  {
   "cell_type": "markdown",
   "metadata": {
    "collapsed": true
   },
   "source": [
    "The first numpy random distribution we will look at is the poisson distribution. The Poisson distribution arises from situations in which there is a large number of opportunities for the event under scrutiny to occur but a small chance that it will occur on any one trial.[[Science]](https://www.sciencedirect.com/topics/biochemistry-genetics-and-molecular-biology/poisson-distribution)\n",
    "\n",
    "Poisson distribution is used for independent events which will occur at a constant rate within a given interval of time. This type of distribution is measured has happening or not happening therefore can only be measured in whole numbers. [[Tutorial]](https://www.tutorialspoint.com/python/python_poisson_distribution.htm)\n",
    "\n",
    "We are now going to look at real world problem. We are going to use this modeled to assess the number of bankruptices filed in a year. If there is an average of 2 bankruptices per hour and there is 8 hours per day by 5 days in week over 52 weeks. That gives us 2080 hours in the year. The Poisson distribution allows to estimate the most likely event of customers filing for bankruptcies.\n",
    "\n",
    "They are two variables lam and size. numpy.random.poisson(lam=1.0, size=None). The lam variable equals the mean and variance, i.e.the total number of events divided by the number of units in the data. The size variable will determine the amount of random samples called to the distribution\n",
    "\n"
   ]
  },
  {
   "cell_type": "code",
   "execution_count": 13,
   "metadata": {},
   "outputs": [
    {
     "data": {
      "image/png": "[encoded data removed]",
      "text/plain": [
       "<matplotlib.figure.Figure at 0x164b28e8940>"
      ]
     },
     "metadata": {},
     "output_type": "display_data"
    }
   ],
   "source": [
    "# Estimate the possiblities of bankptcies in a given year.\n",
    "import numpy as np\n",
    "import matplotlib.pyplot as plt\n",
    "\n",
    "s = np.random.poisson(2, 2080)\n",
    "count, bins, ignored = plt.hist(s, 16, normed=True)\n",
    "plt.title('Poisson Distribution')                       # Title of Histogram\n",
    "plt.xlabel('Poisson')                                   # X-axis title\n",
    "plt.ylabel('Frequency')                                 # Y-axis title\n",
    "plt.show()"
   ]
  },
  {
   "cell_type": "code",
   "execution_count": 14,
   "metadata": {},
   "outputs": [
    {
     "name": "stdout",
     "output_type": "stream",
     "text": [
      "The mean is 2.00192307692\n",
      "The variance is 2.1144193787\n"
     ]
    }
   ],
   "source": [
    "print(\"The mean is\", np.mean(s)) # Calculating the mean of our Poisson distribution variable\n",
    "print(\"The variance is\", np.var(s))"
   ]
  },
  {
   "cell_type": "markdown",
   "metadata": {},
   "source": [
    "You can also use the Poisson Distribution to meansure the lam for different parameters."
   ]
  },
  {
   "cell_type": "code",
   "execution_count": 15,
   "metadata": {},
   "outputs": [
    {
     "data": {
      "text/plain": [
       "array([[  85,  496,  974, 4985],\n",
       "       [ 114,  479,  998, 4876],\n",
       "       [ 109,  512,  986, 5046],\n",
       "       [  82,  472,  969, 5102],\n",
       "       [ 106,  498, 1020, 4978],\n",
       "       [  72,  536, 1004, 4898],\n",
       "       [  96,  498,  975, 4987],\n",
       "       [  88,  512, 1031, 5022],\n",
       "       [ 103,  474,  986, 5039],\n",
       "       [  97,  471,  993, 5078],\n",
       "       [  95,  499, 1024, 5008],\n",
       "       [ 105,  495,  947, 5086],\n",
       "       [  98,  495, 1067, 4986],\n",
       "       [  93,  476, 1003, 5019],\n",
       "       [ 103,  464, 1051, 5007],\n",
       "       [ 105,  486, 1011, 5039],\n",
       "       [  99,  500, 1013, 4982],\n",
       "       [ 118,  510, 1013, 4956],\n",
       "       [  98,  483, 1052, 4853],\n",
       "       [ 104,  513,  940, 5046],\n",
       "       [ 118,  516, 1018, 4839],\n",
       "       [ 114,  469,  999, 5012],\n",
       "       [  96,  542,  977, 4889],\n",
       "       [  82,  480,  996, 4997],\n",
       "       [  94,  536,  993, 4890],\n",
       "       [  84,  502,  994, 4979],\n",
       "       [  98,  515, 1029, 4906],\n",
       "       [  92,  497,  997, 5080],\n",
       "       [ 116,  504, 1015, 4833],\n",
       "       [  96,  500, 1006, 4887],\n",
       "       [ 103,  477,  982, 5014],\n",
       "       [  97,  494,  959, 5098],\n",
       "       [  80,  489,  994, 5074],\n",
       "       [  96,  485, 1032, 5081],\n",
       "       [  99,  518,  995, 4953],\n",
       "       [  94,  520,  972, 4975],\n",
       "       [ 117,  498,  910, 5066],\n",
       "       [ 101,  495,  968, 5004],\n",
       "       [ 100,  483, 1024, 5081],\n",
       "       [ 104,  449,  984, 5054],\n",
       "       [ 108,  509,  985, 4870],\n",
       "       [  95,  481, 1039, 5057],\n",
       "       [  99,  507,  984, 4984],\n",
       "       [  96,  458, 1011, 4954],\n",
       "       [ 101,  467,  953, 5054],\n",
       "       [ 100,  473,  948, 4915],\n",
       "       [ 114,  514, 1014, 5008],\n",
       "       [ 122,  495, 1025, 5032],\n",
       "       [ 110,  470, 1007, 5085],\n",
       "       [ 114,  501, 1052, 5049],\n",
       "       [ 128,  492, 1000, 4909],\n",
       "       [  81,  488, 1005, 4899],\n",
       "       [  86,  482,  993, 4935],\n",
       "       [ 105,  502,  958, 5030],\n",
       "       [  91,  442, 1031, 4951],\n",
       "       [  95,  535, 1000, 4874],\n",
       "       [  90,  443, 1020, 4970],\n",
       "       [ 108,  514, 1015, 5002],\n",
       "       [ 112,  521,  996, 4972],\n",
       "       [  87,  500,  968, 4989],\n",
       "       [ 107,  521,  961, 4996],\n",
       "       [ 105,  483,  940, 4986],\n",
       "       [ 100,  511,  956, 5087],\n",
       "       [  74,  499, 1015, 4935],\n",
       "       [ 113,  468, 1036, 4958],\n",
       "       [ 101,  487, 1011, 5027],\n",
       "       [  91,  492, 1005, 5057],\n",
       "       [  93,  502,  956, 5017],\n",
       "       [  88,  490, 1024, 4916],\n",
       "       [  92,  483,  986, 5068],\n",
       "       [ 104,  512, 1021, 5086],\n",
       "       [  91,  506, 1046, 5028],\n",
       "       [  95,  488,  930, 5032],\n",
       "       [ 104,  525, 1006, 5167],\n",
       "       [  86,  494,  967, 5143],\n",
       "       [ 104,  480, 1020, 5168],\n",
       "       [  99,  500, 1002, 4980],\n",
       "       [ 102,  505,  975, 5038],\n",
       "       [ 101,  523,  991, 4908],\n",
       "       [  97,  527, 1016, 5071],\n",
       "       [ 101,  491, 1018, 4896],\n",
       "       [  95,  524, 1025, 4996],\n",
       "       [ 120,  475, 1028, 4994],\n",
       "       [ 112,  537,  994, 5103],\n",
       "       [  90,  524,  978, 5111],\n",
       "       [  96,  510,  989, 4948],\n",
       "       [  83,  525, 1041, 4961],\n",
       "       [  89,  505,  958, 4991],\n",
       "       [  92,  514,  965, 5080],\n",
       "       [ 107,  511,  999, 4821],\n",
       "       [ 106,  507,  995, 4916],\n",
       "       [ 102,  513,  928, 5009],\n",
       "       [ 107,  482, 1001, 5060],\n",
       "       [ 101,  496, 1037, 4882],\n",
       "       [  89,  498,  971, 5007],\n",
       "       [  83,  527, 1008, 4908],\n",
       "       [ 102,  461,  967, 5123],\n",
       "       [ 101,  495,  977, 4875],\n",
       "       [ 101,  485,  911, 5078],\n",
       "       [ 106,  482, 1045, 5033]])"
      ]
     },
     "execution_count": 15,
     "metadata": {},
     "output_type": "execute_result"
    }
   ],
   "source": [
    "# Draw each 100 values for lambda 100, 500, 1000 & 5000\n",
    "p = np.random.poisson(lam=(100, 500, 1000, 5000), size=(100, 4))\n",
    "p"
   ]
  },
  {
   "cell_type": "code",
   "execution_count": 16,
   "metadata": {},
   "outputs": [
    {
     "name": "stdout",
     "output_type": "stream",
     "text": [
      "The mean is 1647.3025\n",
      "The variance is 3843071.12099\n"
     ]
    }
   ],
   "source": [
    "# And then call the mean and variance on them\n",
    "import numpy as np\n",
    "print(\"The mean is\", np.mean(p)) # Calculating the mean of Q\n",
    "print(\"The variance is\", np.var(p))"
   ]
  },
  {
   "cell_type": "markdown",
   "metadata": {},
   "source": [
    "#### Binomial"
   ]
  },
  {
   "cell_type": "markdown",
   "metadata": {},
   "source": [
    "A binomial experiment is a statistical experiment that has the following properties:\n",
    "\n",
    "1. The experiment consists of n repeated trials.\n",
    "2. Each trial can result in just two possible outcomes. We call one of these outcomes a success and the other, a failure.\n",
    "3. The probability of success, denoted by P, is the same on every trial.\n",
    "4. The trials are independent; that is, the outcome on one trial does not affect the outcome on other trials.\n",
    "\n",
    "Consider the following statistical experiment. You flip a coin 2 times and count the number of times the coin lands on heads. This is a binomial experiment because:\n",
    "\n",
    "1. The experiment consists of repeated trials. We flip a coin 2 times.\n",
    "2. Each trial can result in just two possible outcomes - heads or tails.\n",
    "3. The probability of success is constant - 0.5 on every trial.\n",
    "4. The trials are independent; that is, getting heads on one trial does not affect whether we get heads on other trials. [[Binomial]](https://stattrek.com/probability-distributions/binomial.aspx)\n"
   ]
  },
  {
   "cell_type": "markdown",
   "metadata": {
    "collapsed": true
   },
   "source": [
    "Let's look at a real world problem. Suppose that a student is taking a multiple-choice exam in which each question has four choices.   Assuming that she has no knowledge of the correct to any of the questions, she has decided on a strategy in which she will place four balls (marked A, B, C, and D) into a box.   She randomly selects one ball for each question and replaces the ball in the box.   The marking on the ball will determine her answer to the question. Using this method, the probability of getting a correct answer would be 1/4 = .25 for each question.   This is a binomial situation with n=5 and p=.25.[[Stat]](http://www.stat.wmich.edu/s216/binom/binom.html)"
   ]
  },
  {
   "cell_type": "code",
   "execution_count": 17,
   "metadata": {},
   "outputs": [
    {
     "data": {
      "text/plain": [
       "array([1, 0, 1, 0, 2, 0, 1, 2, 4, 0, 0, 0, 0, 0, 1, 2, 1, 1, 0, 1])"
      ]
     },
     "execution_count": 17,
     "metadata": {},
     "output_type": "execute_result"
    }
   ],
   "source": [
    "n, p = 5, .25  # number of questions, probability of getting it correct\n",
    "r = np.random.binomial(n, p, 20) # Testing this 20 times\n",
    "r"
   ]
  },
  {
   "cell_type": "markdown",
   "metadata": {},
   "source": [
    "This randomly generates the results of getting each of the questions correct over 20 trials. These results can be seen below. The histogram shows for example patch 1 and 3 shows are the most popular results i.e either all wrong or two wrong all the most randomly predicted."
   ]
  },
  {
   "cell_type": "code",
   "execution_count": 18,
   "metadata": {},
   "outputs": [
    {
     "data": {
      "image/png": "[encoded data removed]",
      "text/plain": [
       "<matplotlib.figure.Figure at 0x164b29016a0>"
      ]
     },
     "metadata": {},
     "output_type": "display_data"
    }
   ],
   "source": [
    "# Import matplotlib to create a histogram\n",
    "import matplotlib.pyplot as plt\n",
    "n, bins, patches = plt.hist(r, 15, normed=1, color='green')\n",
    "\n",
    "plt.title('Binomial Distribution')                       # Title of Histogram\n",
    "plt.xlabel('Binomial')                                   # X-axis title\n",
    "plt.ylabel('Frequency')                                  # Y- axis title          \n",
    "plt.show()                      "
   ]
  },
  {
   "cell_type": "markdown",
   "metadata": {},
   "source": [
    "#### Pareto"
   ]
  },
  {
   "cell_type": "markdown",
   "metadata": {},
   "source": [
    "The Pareto distribution, named after the Italian civil engineer, economist, and sociologist Vilfredo Pareto, is a power-law probability distribution that is used in description of social, scientific, geophysical, actuarial, and many other types of observable phenomena [[Pareto]](https://en.wikipedia.org/wiki/Pareto_distribution)\n",
    "\n",
    "The Pareto distribution is a skewed distribution with heavy, or “slowly decaying” tails (i.e. much of the data is in the tails).  It has two main applications:\n",
    "\n",
    "1. To model the distribution of incomes.\n",
    "2. To model the distribution of city populations.\n",
    "\n",
    "However, it can be used in a variety of other situations. For example, it can be used to model the lifetime of a manufactured item with a certain warranty period. [[Stat]](https://www.statisticshowto.datasciencecentral.com/pareto-distribution/)\n",
    "\n",
    "The Pareto Principle is derived from the Pareto distribution and is used to illustrate that many things are not distributed evenly. Originally written to state that 20% of the population holds 80% of the wealth, it can be applied more universally. For example, 1% of the population holds 99% of the wealth. However, it can be used to model any general situation where situations are not evenly distributed. For example, the top 20% of workers might produce 80% of output. [[Stat]](https://www.statisticshowto.datasciencecentral.com/pareto-distribution/)\n",
    "\n",
    "Let's use a real world problemt to explain the Pareto Distribution. In business the 80% of our sales come from 20% of our customers."
   ]
  },
  {
   "cell_type": "code",
   "execution_count": 53,
   "metadata": {},
   "outputs": [
    {
     "data": {
      "image/png": "[encoded data removed]",
      "text/plain": [
       "<matplotlib.figure.Figure at 0x164b42462e8>"
      ]
     },
     "metadata": {},
     "output_type": "display_data"
    }
   ],
   "source": [
    "a, m = 20, 10 # shape and mode\n",
    "s = (np.random.pareto(a, 1000) + 1) * m\n",
    "#Display the histogram of the samples, along with the probability density function:\n",
    "\n",
    "import matplotlib.pyplot as plt\n",
    "count, bins, _ = plt.hist(s, 50, normed=True)\n",
    "fit = a*m**a / bins**(a+1)\n",
    "plt.plot(bins, max(count)*fit/max(fit), linewidth=3, color='y')\n",
    "\n",
    "\n",
    "plt.title('Pareto Distribution')\n",
    "plt.xlabel('Pareto')\n",
    "plt.ylabel('Count')\n",
    "plt.show()"
   ]
  },
  {
   "cell_type": "markdown",
   "metadata": {
    "collapsed": true
   },
   "source": [
    "#### Power"
   ]
  },
  {
   "cell_type": "markdown",
   "metadata": {
    "collapsed": true
   },
   "source": [
    "The power function distribution is just the inverse of the Pareto distribution. It may also be seen as a special case of the Beta distribution. It is used, for example, in modeling the over-reporting of insurance claims.[[Power]](https://docs.scipy.org/doc/numpy-1.15.1/reference/generated/numpy.random.power.html#numpy.random.power)\n",
    "\n",
    "The power law can be used to describe a phenomenon where a small number of items is clustered at the top of a distribution (or at the bottom), taking up 95% of the resources. In other words, it implies a small amount of occurrences is common, while larger occurrences are rare. For example, where the distribution of income is concerned, there are very few billionaires; the bulk of the population holds very modest nest eggs.[[Stat]](https://www.statisticshowto.datasciencecentral.com/power-law/)\n",
    "\n"
   ]
  },
  {
   "cell_type": "code",
   "execution_count": 81,
   "metadata": {},
   "outputs": [
    {
     "data": {
      "image/png": "[encoded data removed]",
      "text/plain": [
       "<matplotlib.figure.Figure at 0x164b42be4a8>"
      ]
     },
     "metadata": {},
     "output_type": "display_data"
    }
   ],
   "source": [
    "# Display the Pareto Distribution\n",
    "a = 10 # shape\n",
    "samples = 5000 # Samples\n",
    "s = np.random.power(a, samples)\n",
    "s\n",
    "\n",
    "\n",
    "#Display the histogram of the samples, along with the probability density function:\n",
    "import matplotlib.pyplot as plt\n",
    "count, bins, ignored = plt.hist(s, bins=30)\n",
    "x = np.linspace(0, 1, 100)\n",
    "y = a*x**(a-1.)\n",
    "normed_y = samples*np.diff(bins)[0]*y\n",
    "plt.plot(x,normed_y)\n",
    "plt.title('Pareto Distribution')\n",
    "plt.xlabel('Pareto')\n",
    "plt.ylabel('Count')\n",
    "plt.show()"
   ]
  },
  {
   "cell_type": "markdown",
   "metadata": {
    "collapsed": true
   },
   "source": [
    "#### Uniform"
   ]
  },
  {
   "cell_type": "markdown",
   "metadata": {
    "collapsed": true
   },
   "source": [
    "A uniform distribution, sometimes also known as a rectangular distribution, is a distribution that has constant probability. [[Uniform]](http://mathworld.wolfram.com/UniformDistribution.html)\n",
    "\n"
   ]
  },
  {
   "cell_type": "code",
   "execution_count": 21,
   "metadata": {},
   "outputs": [
    {
     "data": {
      "image/png": "[encoded data removed]",
      "text/plain": [
       "<matplotlib.figure.Figure at 0x1f127565b00>"
      ]
     },
     "metadata": {},
     "output_type": "display_data"
    }
   ],
   "source": [
    "s = np.random.uniform(-1,0,1000)\n",
    "#All values are within the given interval:\n",
    "\n",
    "np.all(s >= -1)\n",
    "True\n",
    "np.all(s < 0)\n",
    "True\n",
    "#Display the histogram of the samples, along with the probability density function:\n",
    "\n",
    "import matplotlib.pyplot as plt\n",
    "count, bins, ignored = plt.hist(s, 15, normed=True)\n",
    "plt.plot(bins, np.ones_like(bins), linewidth=2, color='r')\n",
    "plt.show()"
   ]
  },
  {
   "cell_type": "code",
   "execution_count": 22,
   "metadata": {},
   "outputs": [
    {
     "data": {
      "image/png": "[encoded data removed]",
      "text/plain": [
       "<matplotlib.figure.Figure at 0x1f1275bd2b0>"
      ]
     },
     "metadata": {},
     "output_type": "display_data"
    }
   ],
   "source": [
    " a, m = 3., 2.  # shape and mode\n",
    "s = (np.random.pareto(a, 1000) + 1) * m\n",
    "#Display the histogram of the samples, along with the probability density function:\n",
    "\n",
    "import matplotlib.pyplot as plt\n",
    "count, bins, _ = plt.hist(s, 100, normed=True)\n",
    "fit = a*m**a / bins**(a+1)\n",
    "plt.plot(bins, max(count)*fit/max(fit), linewidth=2, color='r')\n",
    "plt.show()"
   ]
  },
  {
   "cell_type": "markdown",
   "metadata": {},
   "source": [
    "## Random Generator "
   ]
  },
  {
   "cell_type": "markdown",
   "metadata": {
    "collapsed": true
   },
   "source": [
    "#### Seeds"
   ]
  },
  {
   "cell_type": "markdown",
   "metadata": {},
   "source": [
    "The method seed() sets the integer starting value used in generating random numbers. This function is not accessible directly, so we need to import seed module and then we need to call this function using random static object.[[Tutorial]](https://www.tutorialspoint.com/python/number_seed.htm)\n",
    "\n",
    "For a seed to be used in a pseudorandom number generator, it does not need to be random. Because of the nature of number generating algorithms, so long as the original seed is ignored, the rest of the values that the algorithm generates will follow probability distribution in a pseudorandom manner.[[Seeds]](https://en.wikipedia.org/wiki/Random_seed)"
   ]
  },
  {
   "cell_type": "markdown",
   "metadata": {
    "collapsed": true
   },
   "source": [
    "## Relationship between Distribtuion\n",
    "\n",
    "A special type of the this type of distribution is the Pareto Principle (also called the Pareto Law), which is an unscientific “law” that states 80% of effects come from 20% of causes. In other words, most of what we do has little effect.\n",
    "\n",
    "A related law is Zipf’s law which usually refers to the frequency of an event relative to it’s rank. Zipf’s law states that, given a list of the most frequent words in an arbitrary book, the most frequent word will appear twice as often as the second most frequent word, which will appear twice as often as the third most frequent, and so on. In its simplest form, Zipf’s law is equal to the power law. Zipf’s law gives rise to the Zeta Distribution.[[Stat]](https://www.statisticshowto.datasciencecentral.com/power-law/)"
   ]
  },
  {
   "cell_type": "markdown",
   "metadata": {
    "collapsed": true
   },
   "source": [
    "## References"
   ]
  },
  {
   "cell_type": "markdown",
   "metadata": {},
   "source": [
    "[1]  https://www.python-course.eu/numpy.php"
   ]
  },
  {
   "cell_type": "markdown",
   "metadata": {},
   "source": [
    "[2]  https://www.labri.fr/perso/nrougier/teaching/numpy/numpy.html"
   ]
  },
  {
   "cell_type": "markdown",
   "metadata": {},
   "source": [
    "[3]  https://docs.scipy.org/doc/numpy-1.14.0/reference/routines.random.html"
   ]
  },
  {
   "cell_type": "markdown",
   "metadata": {},
   "source": [
    "[4]  https://www.scipy.org/scipylib/faq.html#what-is-numpy"
   ]
  },
  {
   "cell_type": "markdown",
   "metadata": {},
   "source": [
    "[5]  https://stackabuse.com/numpy-tutorial-a-simple-example-based-guide/#advantagesofnumpy "
   ]
  },
  {
   "cell_type": "markdown",
   "metadata": {},
   "source": [
    "[6] https://docs.scipy.org/doc/numpy-1.15.1/reference/generated/numpy.array.html"
   ]
  },
  {
   "cell_type": "markdown",
   "metadata": {},
   "source": [
    "[7] https://www.sciencedirect.com/topics/biochemistry-genetics-and-molecular-biology/poisson-distribution"
   ]
  },
  {
   "cell_type": "markdown",
   "metadata": {},
   "source": [
    "[8] https://stattrek.com/probability-distributions/binomial.aspx"
   ]
  },
  {
   "cell_type": "markdown",
   "metadata": {},
   "source": [
    "[9] https://en.wikipedia.org/wiki/NumPy"
   ]
  },
  {
   "cell_type": "markdown",
   "metadata": {},
   "source": [
    "[10] http://cs231n.github.io/python-numpy-tutorial/"
   ]
  },
  {
   "cell_type": "markdown",
   "metadata": {},
   "source": [
    "[11] https://en.wikipedia.org/wiki/Convenience_function"
   ]
  },
  {
   "cell_type": "markdown",
   "metadata": {
    "collapsed": true
   },
   "source": [
    "[12] https://www.programiz.com/python-programming/examples/shuffle-card"
   ]
  },
  {
   "cell_type": "markdown",
   "metadata": {
    "collapsed": true
   },
   "source": [
    "[13] https://www.dummies.com/education/math/statistics/what-the-distribution-tells-you-about-a-statistical-data-set/"
   ]
  },
  {
   "cell_type": "markdown",
   "metadata": {
    "collapsed": true
   },
   "source": [
    "[15] https://en.wikipedia.org/wiki/Pareto_distribution"
   ]
  },
  {
   "cell_type": "markdown",
   "metadata": {
    "collapsed": true
   },
   "source": [
    "[16] http://mathworld.wolfram.com/UniformDistribution.html"
   ]
  },
  {
   "cell_type": "markdown",
   "metadata": {},
   "source": [
    "[17] https://bigdata-madesimple.com/how-to-implement-these-5-powerful-probability-distributions-in-python/"
   ]
  },
  {
   "cell_type": "markdown",
   "metadata": {},
   "source": [
    "[18] https://www.tutorialspoint.com/python/number_seed.htm"
   ]
  },
  {
   "cell_type": "markdown",
   "metadata": {},
   "source": [
    "[19] http://hplgit.github.io/primer.html/doc/pub/random/._random-readable001.html"
   ]
  },
  {
   "cell_type": "markdown",
   "metadata": {},
   "source": [
    "[20] https://en.wikipedia.org/wiki/Random_seed"
   ]
  },
  {
   "cell_type": "markdown",
   "metadata": {
    "collapsed": true
   },
   "source": [
    "[21] https://www.tutorialspoint.com/python/python_poisson_distribution.htm"
   ]
  },
  {
   "cell_type": "markdown",
   "metadata": {
    "collapsed": true
   },
   "source": [
    "[22] https://www.statisticshowto.datasciencecentral.com/power-law/"
   ]
  }
 ],
 "metadata": {
  "kernelspec": {
   "display_name": "Python 3",
   "language": "python",
   "name": "python3"
  },
  "language_info": {
   "codemirror_mode": {
    "name": "ipython",
    "version": 3
   },
   "file_extension": ".py",
   "mimetype": "text/x-python",
   "name": "python",
   "nbconvert_exporter": "python",
   "pygments_lexer": "ipython3",
   "version": "3.6.3"
  }
 },
 "nbformat": 4,
 "nbformat_minor": 2
}
